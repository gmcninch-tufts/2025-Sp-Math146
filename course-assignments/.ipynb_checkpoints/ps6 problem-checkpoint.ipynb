{
 "cells": [
  {
   "cell_type": "code",
   "execution_count": 1,
   "id": "9e4f3a6d-1fc3-4fab-aa04-580ad19ffa6c",
   "metadata": {},
   "outputs": [
    {
     "name": "stdout",
     "output_type": "stream",
     "text": [
      "[(0, {0: 1}),\n",
      " (1, {0: 0.0, 1: 1.0}),\n",
      " (2, {0: 0.5, 1: 0.0, 2: 0.5}),\n",
      " (3, {0: 0.0, 1: 0.75, 2: 0.0, 3: 0.25}),\n",
      " (4, {0: 0.375, 1: 0.0, 2: 0.5, 3: 0.0, 4: 0.125})]\n",
      "[(0, 0), (1, 1.0), (2, 0.0), (3, 1.0), (4, 0.0)]\n"
     ]
    }
   ],
   "source": [
    "from pprint import pprint\n",
    "\n",
    "def prob(state,pos):\n",
    "    if pos in state.keys():\n",
    "        return state[pos]\n",
    "    else:\n",
    "        return 0\n",
    "\n",
    "def step(f,state):\n",
    "    results = len(state.keys())\n",
    "    return { r: f(r-1,r)*prob(state,r-1) + f(r,r)*prob(state,r) + f(r+1,r)*prob(state,r+1)\n",
    "        for r in range(results+1) }\n",
    "\n",
    "def iterate(num,f,state):\n",
    "    if num<=0:\n",
    "        return state\n",
    "    else:\n",
    "        return iterate(num-1,f,step(f,state))\n",
    "\n",
    "def check(state):\n",
    "    return sum([ state[r] for r in state.keys()]) == 1\n",
    "\n",
    "def prob_odd(state):\n",
    "    return sum([ state[r] for r in state.keys() if r % 2 == 1 ])\n",
    "\n",
    "##--------------------------------------------------------\n",
    "\n",
    "def one_coin(old_pos,new_pos):\n",
    "    # return the probability of \n",
    "    # transition from old_pos to new_pos\n",
    "    match (old_pos,new_pos):\n",
    "        case 0,1:  return 1\n",
    "        case 0,_:  return 0\n",
    "        case m,n: \n",
    "            if abs(m-n) == 1:\n",
    "                return .5\n",
    "            else: \n",
    "                return 0\n",
    "\n",
    "\n",
    "S = [ (m,iterate(m,one_coin,{0:1})) for m in [0,1,2,3,4] ]\n",
    "C = [ (m,check(state)) for (m,state) in S ]\n",
    "T = [ (m,prob_odd(state)) for (m,state) in S ]\n",
    "pprint(S)\n",
    "print(T)"
   ]
  },
  {
   "cell_type": "code",
   "execution_count": 2,
   "id": "c18e203a-a265-4262-8cda-2fc608d660cf",
   "metadata": {},
   "outputs": [
    {
     "name": "stdout",
     "output_type": "stream",
     "text": [
      "[(0, {0: 1}),\n",
      " (1, {0: 0.5, 1: 0.5}),\n",
      " (2, {0: 0.375, 1: 0.5, 2: 0.125}),\n",
      " (3, {0: 0.3125, 1: 0.46875, 2: 0.1875, 3: 0.03125}),\n",
      " (4, {0: 0.2734375, 1: 0.4375, 2: 0.21875, 3: 0.0625, 4: 0.0078125})]\n",
      "[(0, 0), (1, 0.5), (2, 0.5), (3, 0.5), (4, 0.5)]\n"
     ]
    }
   ],
   "source": [
    "def two_coin(old_pos,new_pos):\n",
    "    match (old_pos,new_pos):\n",
    "        case 0,1: return .5\n",
    "        case 0,0: return .5\n",
    "        case m,n:\n",
    "            if m==n:\n",
    "                return .5\n",
    "            if abs(m-n) == 1:\n",
    "                return .25\n",
    "            else:\n",
    "                return 0\n",
    "\n",
    "S = [ (m,iterate(m,two_coin,{0:1})) for m in [0,1,2,3,4] ]\n",
    "C = [ (m,check(state)) for (m,state) in S ]\n",
    "T = [ (m,prob_odd(state)) for (m,state) in S ]\n",
    "pprint(S)\n",
    "print(T)"
   ]
  },
  {
   "cell_type": "code",
   "execution_count": 3,
   "id": "0ab0c9cc-f080-4f5b-8642-b436f0beb131",
   "metadata": {},
   "outputs": [],
   "source": [
    "def accumulate(num,f,init):\n",
    "    current = init\n",
    "    n = 1\n",
    "    state_list = [init]\n",
    "    while n <= num:\n",
    "        update = step(f,current)\n",
    "        state_list.append(update)\n",
    "        current = update\n",
    "        n = n+1\n",
    "    return state_list"
   ]
  },
  {
   "cell_type": "code",
   "execution_count": 4,
   "id": "2262b04b-4b0a-4ef4-983b-ad1dd1cb3d3e",
   "metadata": {},
   "outputs": [
    {
     "data": {
      "text/plain": [
       "[{0: 1},\n",
       " {0: 0.0, 1: 1.0},\n",
       " {0: 0.5, 1: 0.0, 2: 0.5},\n",
       " {0: 0.0, 1: 0.75, 2: 0.0, 3: 0.25},\n",
       " {0: 0.375, 1: 0.0, 2: 0.5, 3: 0.0, 4: 0.125}]"
      ]
     },
     "execution_count": 4,
     "metadata": {},
     "output_type": "execute_result"
    }
   ],
   "source": [
    "accumulate(4,one_coin,{0:1})"
   ]
  },
  {
   "cell_type": "code",
   "execution_count": 5,
   "id": "8001f0c1-4ff9-4104-919c-d465b28a45eb",
   "metadata": {},
   "outputs": [],
   "source": [
    "from math import prod\n",
    "\n",
    "def compare_states(s1,s2):\n",
    "    # compare two states, returning the probability\n",
    "    # that the random walkers are in the same position\n",
    "    l1 = len(s1.keys())\n",
    "    l2 = len(s2.keys())\n",
    "    return sum([ prob(s1,i)*prob(s2,i) for i in range(min(l1,l2)) ])\n",
    "\n",
    "def compare_state_lists(sl1,sl2):\n",
    "    # compare two state lists, returning the probability that \n",
    "    # the random walker's *meet* at some point\n",
    "    return 1 - prod([ 1 - compare_states(s1,s2) for (s1,s2) in zip(sl1,sl2) ])\n"
   ]
  },
  {
   "cell_type": "code",
   "execution_count": 6,
   "id": "1558ed2b-d5ad-4182-946c-53412bb3a864",
   "metadata": {},
   "outputs": [
    {
     "data": {
      "text/plain": [
       "0.5"
      ]
     },
     "execution_count": 6,
     "metadata": {},
     "output_type": "execute_result"
    }
   ],
   "source": [
    "compare_states({0: 0.5, 1: 0.0, 2: 0.5},{0: 0.5, 1: 0.0, 2: 0.5})"
   ]
  },
  {
   "cell_type": "code",
   "execution_count": 7,
   "id": "636c9bd7-a60d-4135-963b-186f452c8a5b",
   "metadata": {},
   "outputs": [
    {
     "data": {
      "text/plain": [
       "0.9991864087929655"
      ]
     },
     "execution_count": 7,
     "metadata": {},
     "output_type": "execute_result"
    }
   ],
   "source": [
    "S = accumulate(50,two_coin,{0:1})   # 100 states, starting at position 0\n",
    "T = accumulate(50,two_coin,{1:1})   # 100 states, starting at position 1\n",
    "\n",
    "compare_state_lists(S,T)\n"
   ]
  },
  {
   "cell_type": "code",
   "execution_count": 8,
   "id": "0f1d76a0-07e1-4447-88d9-a8e71f236953",
   "metadata": {},
   "outputs": [
    {
     "data": {
      "text/plain": [
       "0.17091068963054568"
      ]
     },
     "execution_count": 8,
     "metadata": {},
     "output_type": "execute_result"
    }
   ],
   "source": [
    "compare_states(S[9],T[9])"
   ]
  },
  {
   "cell_type": "code",
   "execution_count": 12,
   "id": "5d4ccc55-0cd9-4109-8ea1-88c55a459c02",
   "metadata": {},
   "outputs": [
    {
     "data": {
      "text/plain": [
       "0.0"
      ]
     },
     "execution_count": 12,
     "metadata": {},
     "output_type": "execute_result"
    }
   ],
   "source": [
    "S = accumulate(5000,two_coin,{0:1})   # 100 states, starting at position 0\n",
    "T = accumulate(5000,two_coin,{100:1})   # 100 states, starting at position 1\n",
    "\n",
    "compare_state_lists(S,T)\n"
   ]
  },
  {
   "cell_type": "code",
   "execution_count": null,
   "id": "24b3c431-50c8-481c-b482-aafe2718a62d",
   "metadata": {},
   "outputs": [],
   "source": []
  }
 ],
 "metadata": {
  "kernelspec": {
   "display_name": "Python 3 (ipykernel)",
   "language": "python",
   "name": "python3"
  },
  "language_info": {
   "codemirror_mode": {
    "name": "ipython",
    "version": 3
   },
   "file_extension": ".py",
   "mimetype": "text/x-python",
   "name": "python",
   "nbconvert_exporter": "python",
   "pygments_lexer": "ipython3",
   "version": "3.11.6"
  }
 },
 "nbformat": 4,
 "nbformat_minor": 5
}
