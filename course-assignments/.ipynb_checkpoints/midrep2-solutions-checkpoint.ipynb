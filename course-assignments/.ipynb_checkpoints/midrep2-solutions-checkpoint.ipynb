{
 "cells": [
  {
   "cell_type": "code",
   "execution_count": 38,
   "id": "45ee1b10-a3c1-41b6-88f7-bc569c784d05",
   "metadata": {},
   "outputs": [
    {
     "data": {
      "text/plain": [
       "array([[1, 1, 0, 1],\n",
       "       [0, 1, 1, 0],\n",
       "       [1, 1, 1, 0],\n",
       "       [1, 0, 0, 1]])"
      ]
     },
     "execution_count": 38,
     "metadata": {},
     "output_type": "execute_result"
    }
   ],
   "source": [
    "import numpy as np\n"
   ]
  },
  {
   "cell_type": "code",
   "execution_count": 46,
   "id": "73ddd00f-bed8-4389-b200-b602045fac88",
   "metadata": {},
   "outputs": [
    {
     "data": {
      "text/plain": [
       "array([[1, 1, 0, 0],\n",
       "       [1, 1, 0, 0],\n",
       "       [1, 1, 1, 0],\n",
       "       [1, 0, 1, 0]])"
      ]
     },
     "execution_count": 46,
     "metadata": {},
     "output_type": "execute_result"
    }
   ],
   "source": [
    "B = np.array([[1,1,0,0],[1,1,0,0],[1,1,1,0],[1,0,1,0]])\n",
    "B"
   ]
  },
  {
   "cell_type": "code",
   "execution_count": 93,
   "id": "73b24bc1-807f-452d-bd50-22b441ac816f",
   "metadata": {},
   "outputs": [
    {
     "data": {
      "text/latex": [
       "$\\displaystyle 1.0$"
      ],
      "text/plain": [
       "1.00000000000000"
      ]
     },
     "execution_count": 93,
     "metadata": {},
     "output_type": "execute_result"
    }
   ],
   "source": [
    "import sympy as sp\n",
    "p = sp.symbols('p')"
   ]
  },
  {
   "cell_type": "code",
   "execution_count": 62,
   "id": "86f3bb02-488f-4f36-9bbf-3ab937916bfd",
   "metadata": {},
   "outputs": [
    {
     "data": {
      "text/plain": [
       "[4.0, 3.0, 2.0, 0.0]"
      ]
     },
     "execution_count": 62,
     "metadata": {},
     "output_type": "execute_result"
    }
   ],
   "source": [
    "[ np.ones(4) @ B[:,j] for j in range(4) ]"
   ]
  },
  {
   "cell_type": "code",
   "execution_count": 108,
   "id": "fa3f4103-e2c9-427c-9bc7-c0ad57a702ec",
   "metadata": {},
   "outputs": [],
   "source": [
    "def naive_transition(A,n,i,j):\n",
    "    s = np.ones(n) @ A[:,j]\n",
    "    if s == 0:\n",
    "        return 1/n       # node j is a sink\n",
    "    else:\n",
    "        return A[i,j]/s\n",
    "\n",
    "def make_transition(A,p):\n",
    "    (n,m) = A.shape\n",
    "    if n == m:\n",
    "        return np.array([[ p/n + (1-p)*naive_transition(A,n,i,j) \n",
    "                           for j in range(n)] \n",
    "                           for i in range(n)])"
   ]
  },
  {
   "cell_type": "code",
   "execution_count": 109,
   "id": "e3a55107-da49-45df-afa1-585e6f3d5159",
   "metadata": {},
   "outputs": [
    {
     "data": {
      "text/plain": [
       "array([[0.250000000000000, 0.333333333333333 - 0.0833333333333333*p, p/4,\n",
       "        0.250000000000000],\n",
       "       [0.250000000000000, 0.333333333333333 - 0.0833333333333333*p, p/4,\n",
       "        0.250000000000000],\n",
       "       [0.250000000000000, 0.333333333333333 - 0.0833333333333333*p,\n",
       "        0.5 - 0.25*p, 0.250000000000000],\n",
       "       [0.250000000000000, p/4, 0.5 - 0.25*p, 0.250000000000000]],\n",
       "      dtype=object)"
      ]
     },
     "execution_count": 109,
     "metadata": {},
     "output_type": "execute_result"
    }
   ],
   "source": [
    "C=make_transition(B,p)\n",
    "C"
   ]
  },
  {
   "cell_type": "code",
   "execution_count": 110,
   "id": "8b05a23d-b952-4de0-909e-56b55cf7ed08",
   "metadata": {},
   "outputs": [
    {
     "data": {
      "text/plain": [
       "array([1.00000000000000, 5.55111512312578e-17*p + 1.0, 1.00000000000000,\n",
       "       1.00000000000000], dtype=object)"
      ]
     },
     "execution_count": 110,
     "metadata": {},
     "output_type": "execute_result"
    }
   ],
   "source": [
    "np.ones(4) @ C\n"
   ]
  },
  {
   "cell_type": "code",
   "execution_count": 111,
   "id": "ddc901f2-fb7e-4b31-a99f-c7cb7cf5c08b",
   "metadata": {},
   "outputs": [],
   "source": [
    "A = np.array([[ 0, 0, 0, 0, 0 ],\n",
    "              [ 1, 0, 0, 0, 0 ],\n",
    "              [ 1, 1, 0, 0, 0 ],\n",
    "              [ 1, 0, 1, 0, 0 ],\n",
    "              [ 0, 1, 0, 1, 0 ]])"
   ]
  },
  {
   "cell_type": "code",
   "execution_count": 115,
   "id": "9ba60afb-1274-43a9-8c8f-abc1c542fd50",
   "metadata": {},
   "outputs": [
    {
     "data": {
      "text/plain": [
       "array([[0.16000, 0.16000, 0.16000, 0.16000, 0.20000],\n",
       "       [0.22667, 0.16000, 0.16000, 0.16000, 0.20000],\n",
       "       [0.22667, 0.26000, 0.16000, 0.16000, 0.20000],\n",
       "       [0.22667, 0.16000, 0.36000, 0.16000, 0.20000],\n",
       "       [0.16000, 0.26000, 0.16000, 0.36000, 0.20000]])"
      ]
     },
     "execution_count": 115,
     "metadata": {},
     "output_type": "execute_result"
    }
   ],
   "source": [
    "C=make_transition(A,p=0.8)\n",
    "C"
   ]
  },
  {
   "cell_type": "code",
   "execution_count": 114,
   "id": "d267a9d8-7a4a-4c97-80e9-ba9b2c718195",
   "metadata": {},
   "outputs": [
    {
     "data": {
      "text/plain": [
       "array([1.00000, 1.00000, 1.00000, 1.00000, 1.00000])"
      ]
     },
     "execution_count": 114,
     "metadata": {},
     "output_type": "execute_result"
    }
   ],
   "source": [
    "np.ones(5)@C"
   ]
  },
  {
   "cell_type": "code",
   "execution_count": 116,
   "id": "0c9f60eb-c7f5-45bb-bced-f73998967c7e",
   "metadata": {},
   "outputs": [],
   "source": [
    "A3 = np.array([[0, 0, 0, 0, 0 ],\n",
    "              [1, 0, 0, 0, 0 ],\n",
    "              [1, 1, 0, 0, 0 ],\n",
    "              [1, 0, 1, 0, 0 ],\n",
    "              [0, 1, 0, 1, 0 ]])"
   ]
  },
  {
   "cell_type": "code",
   "execution_count": 117,
   "id": "535dd202-a47d-448b-8c6f-bcfb26a6f81d",
   "metadata": {},
   "outputs": [],
   "source": [
    "C3=make_transition(A3,p=.8)\n",
    "D3=make_transition(A3,p=.4)"
   ]
  },
  {
   "cell_type": "code",
   "execution_count": 123,
   "id": "374431cb-a2bf-4917-a56c-11f5d95a6e88",
   "metadata": {},
   "outputs": [
    {
     "data": {
      "text/plain": [
       "array([ 1.       +0.j        , -0.0155051+0.10500275j,\n",
       "       -0.0155051-0.10500275j, -0.0644949+0.0239671j ,\n",
       "       -0.0644949-0.0239671j ])"
      ]
     },
     "execution_count": 123,
     "metadata": {},
     "output_type": "execute_result"
    }
   ],
   "source": [
    "valsC3,vecsC3 = np.linalg.eig(C3)\n",
    "valsC3"
   ]
  },
  {
   "cell_type": "code",
   "execution_count": 124,
   "id": "d41b152e-fd2b-423c-aa75-cd0a5fcb9106",
   "metadata": {},
   "outputs": [
    {
     "data": {
      "text/plain": [
       "array([ 1.        +0.j        , -0.04651531+0.31500826j,\n",
       "       -0.04651531-0.31500826j, -0.19348469+0.0719013j ,\n",
       "       -0.19348469-0.0719013j ])"
      ]
     },
     "execution_count": 124,
     "metadata": {},
     "output_type": "execute_result"
    }
   ],
   "source": [
    "valsD3,vecsD3 = np.linalg.eig(D3)\n",
    "valsD3"
   ]
  },
  {
   "cell_type": "code",
   "execution_count": 132,
   "id": "a4e15566-4212-4f05-a3e9-a2511c149ce6",
   "metadata": {},
   "outputs": [
    {
     "data": {
      "text/plain": [
       "array([-0.37592, -0.40098, -0.44108, -0.48919, -0.51385])"
      ]
     },
     "execution_count": 132,
     "metadata": {},
     "output_type": "execute_result"
    }
   ],
   "source": [
    "vecsC3[:,0]"
   ]
  },
  {
   "cell_type": "code",
   "execution_count": 147,
   "id": "ce8c597d-7cbd-41cc-a2ce-14dcda333251",
   "metadata": {},
   "outputs": [
    {
     "data": {
      "text/plain": [
       "array([0.24683, 0.29619, 0.38505, 0.52722, 0.65202])"
      ]
     },
     "execution_count": 147,
     "metadata": {},
     "output_type": "execute_result"
    }
   ],
   "source": [
    "np.real_if_close(vecsD3[:,0])\n"
   ]
  },
  {
   "cell_type": "code",
   "execution_count": 167,
   "id": "af288bc2-2f1f-4991-a800-05bf34c0ba8e",
   "metadata": {},
   "outputs": [],
   "source": [
    "def normalize(v):\n",
    "    n = v.shape\n",
    "    s = np.ones(n) @ v\n",
    "    vv = (1/s)*v\n",
    "    return np.real_if_close(vv)"
   ]
  },
  {
   "cell_type": "code",
   "execution_count": 168,
   "id": "0b9c18af-c29a-499a-83cf-569d58a18910",
   "metadata": {},
   "outputs": [
    {
     "data": {
      "text/plain": [
       "array([0.16925, 0.18054, 0.19859, 0.22026, 0.23136])"
      ]
     },
     "execution_count": 168,
     "metadata": {},
     "output_type": "execute_result"
    }
   ],
   "source": [
    "normalize(vecsC3[:,0])"
   ]
  },
  {
   "cell_type": "code",
   "execution_count": 169,
   "id": "78f78ee5-4799-4a2d-8b09-90cb64e5a21e",
   "metadata": {},
   "outputs": [
    {
     "data": {
      "text/plain": [
       "array([0.11713, 0.14055, 0.18272, 0.25019, 0.30941])"
      ]
     },
     "execution_count": 169,
     "metadata": {},
     "output_type": "execute_result"
    }
   ],
   "source": [
    "normalize(vecsD3[:,0])"
   ]
  },
  {
   "cell_type": "code",
   "execution_count": 172,
   "id": "da35c383-9e88-4062-986e-73c348942f22",
   "metadata": {},
   "outputs": [
    {
     "data": {
      "text/plain": [
       "array([[0.16925, 0.16925, 0.16925, 0.16925, 0.16925],\n",
       "       [0.18054, 0.18054, 0.18054, 0.18054, 0.18054],\n",
       "       [0.19859, 0.19859, 0.19859, 0.19859, 0.19859],\n",
       "       [0.22026, 0.22026, 0.22026, 0.22026, 0.22026],\n",
       "       [0.23136, 0.23136, 0.23136, 0.23136, 0.23136]])"
      ]
     },
     "execution_count": 172,
     "metadata": {},
     "output_type": "execute_result"
    }
   ],
   "source": [
    "np.linalg.matrix_power(C3,10)"
   ]
  },
  {
   "cell_type": "code",
   "execution_count": 173,
   "id": "1da31046-4bd8-4288-9f97-7c9f682e8311",
   "metadata": {},
   "outputs": [
    {
     "data": {
      "text/plain": [
       "array([[0.11713, 0.11713, 0.11713, 0.11713, 0.11713],\n",
       "       [0.14055, 0.14055, 0.14056, 0.14056, 0.14055],\n",
       "       [0.18272, 0.18272, 0.18272, 0.18273, 0.18272],\n",
       "       [0.25019, 0.25019, 0.25018, 0.25019, 0.25019],\n",
       "       [0.30941, 0.30942, 0.30941, 0.30940, 0.30941]])"
      ]
     },
     "execution_count": 173,
     "metadata": {},
     "output_type": "execute_result"
    }
   ],
   "source": [
    "np.linalg.matrix_power(D3,10)"
   ]
  },
  {
   "cell_type": "code",
   "execution_count": 174,
   "id": "f9cdd779-3082-4cfa-8407-2300d1499aa4",
   "metadata": {},
   "outputs": [],
   "source": [
    "A4 = np.array([[0, 1, 1, 1, 1 ],\n",
    "               [1, 0, 0, 0, 0 ],\n",
    "               [1, 1, 0, 0, 0 ],\n",
    "               [1, 0, 1, 0, 0 ],\n",
    "               [0, 1, 0, 1, 0 ]])"
   ]
  },
  {
   "cell_type": "code",
   "execution_count": 175,
   "id": "bdd6b0fd-9933-44fc-b2a6-170caac03f23",
   "metadata": {},
   "outputs": [],
   "source": [
    "C4=make_transition(A4,p=.8)\n",
    "D4=make_transition(A4,p=.4)"
   ]
  },
  {
   "cell_type": "code",
   "execution_count": 176,
   "id": "331d292c-0ab1-44d4-bdb4-6501f0d4935c",
   "metadata": {},
   "outputs": [
    {
     "data": {
      "text/plain": [
       "array([ 1.        +0.j        , -0.07788218+0.07338108j,\n",
       "       -0.07788218-0.07338108j, -0.02211782+0.05824321j,\n",
       "       -0.02211782-0.05824321j])"
      ]
     },
     "execution_count": 176,
     "metadata": {},
     "output_type": "execute_result"
    }
   ],
   "source": [
    "valsC4,vecsC4 = np.linalg.eig(C4)\n",
    "valsC4"
   ]
  },
  {
   "cell_type": "code",
   "execution_count": 177,
   "id": "e30b173f-8a4a-4e85-a346-d9d3aab2d963",
   "metadata": {},
   "outputs": [
    {
     "data": {
      "text/plain": [
       "array([ 1.        +0.j        , -0.23364655+0.22014324j,\n",
       "       -0.23364655-0.22014324j, -0.06635345+0.17472963j,\n",
       "       -0.06635345-0.17472963j])"
      ]
     },
     "execution_count": 177,
     "metadata": {},
     "output_type": "execute_result"
    }
   ],
   "source": [
    "valsD4,vecsD4 = np.linalg.eig(D4)\n",
    "valsD4"
   ]
  },
  {
   "cell_type": "code",
   "execution_count": 178,
   "id": "7644c434-e6f7-41c2-8ba4-988987dd1707",
   "metadata": {},
   "outputs": [
    {
     "data": {
      "text/plain": [
       "array([0.24841, 0.17656, 0.18833, 0.19539, 0.19131])"
      ]
     },
     "execution_count": 178,
     "metadata": {},
     "output_type": "execute_result"
    }
   ],
   "source": [
    "normalize(vecsC4[:,0])"
   ]
  },
  {
   "cell_type": "code",
   "execution_count": 179,
   "id": "19baa3d6-8489-4642-9bb8-190b71190faa",
   "metadata": {},
   "outputs": [
    {
     "data": {
      "text/plain": [
       "array([0.31990, 0.14398, 0.17277, 0.19581, 0.16754])"
      ]
     },
     "execution_count": 179,
     "metadata": {},
     "output_type": "execute_result"
    }
   ],
   "source": [
    "normalize(vecsD4[:,0])"
   ]
  },
  {
   "cell_type": "code",
   "execution_count": 180,
   "id": "5749428b-7fe9-4fd5-9ea8-27ae8ad0ee0e",
   "metadata": {},
   "outputs": [],
   "source": [
    "import json\n",
    "import numpy as np\n",
    "float_formatter = \"{:.5f}\".format\n",
    "np.set_printoptions(formatter={'float_kind':float_formatter})\n",
    "\n",
    "def bv(it,items):\n",
    "    return np.array([1.0 if i == items.index(it)\n",
    "                     else 0.0 for i in range(len(items))])\n",
    "\n",
    "## >>> bv(\"c\",[\"a\",\"b\",\"c\",\"d\"])\n",
    "## array([0.00000, 0.00000, 1.00000, 0.00000])\n",
    "\n",
    "def adj_from_json(json_file):\n",
    "  with open(json_file) as f:\n",
    "      adj_data = json.load(f)\n",
    "\n",
    "  dict = {}\n",
    "\n",
    "  for i in adj_data:\n",
    "      lfrom = i['from']\n",
    "      lto   = i['to']\n",
    "      if lfrom in dict.keys():\n",
    "          dict[lfrom].add(lto)\n",
    "      else:\n",
    "          dict[lfrom] = set()\n",
    "          dict[lfrom].add(lto)\n",
    "      if not(lto in dict.keys()):\n",
    "          dict[lto] = set()\n",
    "\n",
    "  sites = list(dict.keys())\n",
    "\n",
    "  A = np.array([sum([bv(l_to,sites) for l_to in dict[l_from]],\n",
    "                    np.zeros(len(sites)))\n",
    "                for l_from in sites]) \n",
    "  return (sites, A)"
   ]
  },
  {
   "cell_type": "code",
   "execution_count": 182,
   "id": "149fd3a6-2c07-4a9b-aa22-3fe69da5945c",
   "metadata": {},
   "outputs": [],
   "source": [
    "(ll,AA) = adj_from_json(\"/home/george/Classes/2024-Sp-Math087/course-assets/code/MidRep2-data.json\")"
   ]
  },
  {
   "cell_type": "code",
   "execution_count": 185,
   "id": "696b1efc-1305-4dbd-8a69-7f07e677cefe",
   "metadata": {},
   "outputs": [
    {
     "data": {
      "text/plain": [
       "array([[0.00860, 0.01971, 0.01660, ..., 0.00860, 0.00860, 0.00860],\n",
       "       [0.00860, 0.00860, 0.00860, ..., 0.00860, 0.00860, 0.00860],\n",
       "       [0.01769, 0.00860, 0.00860, ..., 0.00860, 0.00860, 0.00860],\n",
       "       ...,\n",
       "       [0.00860, 0.00860, 0.00860, ..., 0.00860, 0.00860, 0.00860],\n",
       "       [0.00860, 0.00860, 0.00860, ..., 0.00860, 0.00860, 0.00860],\n",
       "       [0.00860, 0.00860, 0.00860, ..., 0.00860, 0.00860, 0.00860]])"
      ]
     },
     "execution_count": 185,
     "metadata": {},
     "output_type": "execute_result"
    }
   ],
   "source": [
    "CC = make_transition(AA,p=0.8)\n",
    "CC"
   ]
  },
  {
   "cell_type": "code",
   "execution_count": 186,
   "id": "3d717340-01c4-473a-9c37-06a95bcfcb51",
   "metadata": {},
   "outputs": [
    {
     "data": {
      "image/png": "[encoded data removed]",
      "text/latex": [
       "$\\displaystyle \\left( 93, \\  93\\right)$"
      ],
      "text/plain": [
       "(93, 93)"
      ]
     },
     "execution_count": 186,
     "metadata": {},
     "output_type": "execute_result"
    }
   ],
   "source": [
    "CC.shape"
   ]
  },
  {
   "cell_type": "code",
   "execution_count": 187,
   "id": "8c95a9f3-04ff-4d3c-8aaa-d84d3aa9efe3",
   "metadata": {},
   "outputs": [
    {
     "data": {
      "image/png": "[encoded data removed]",
      "text/latex": [
       "$\\displaystyle 93$"
      ],
      "text/plain": [
       "93"
      ]
     },
     "execution_count": 187,
     "metadata": {},
     "output_type": "execute_result"
    }
   ],
   "source": [
    "len(ll)"
   ]
  },
  {
   "cell_type": "code",
   "execution_count": 188,
   "id": "87e17856-c7e4-49cb-8a29-2358da2e5d20",
   "metadata": {},
   "outputs": [
    {
     "data": {
      "text/plain": [
       "['Blue Whale',\n",
       " 'Snail',\n",
       " 'Alligator',\n",
       " 'Lark',\n",
       " 'Fruit Bat',\n",
       " 'Gerbil',\n",
       " 'Hyena',\n",
       " 'Starfish',\n",
       " 'Carp',\n",
       " 'Bee']"
      ]
     },
     "execution_count": 188,
     "metadata": {},
     "output_type": "execute_result"
    }
   ],
   "source": [
    "ll[0:10]"
   ]
  },
  {
   "cell_type": "code",
   "execution_count": 190,
   "id": "d6f67a61-8dab-4536-8356-54d16b7cf380",
   "metadata": {},
   "outputs": [
    {
     "data": {
      "text/plain": [
       "array([ 1.00000000e+00+0.j        ,  5.81335370e-02+0.09862851j,\n",
       "        5.81335370e-02-0.09862851j,  1.10155151e-01+0.j        ,\n",
       "        8.09646903e-02+0.07090688j,  8.09646903e-02-0.07090688j,\n",
       "        9.32008734e-02+0.04660742j,  9.32008734e-02-0.04660742j,\n",
       "       -1.14948480e-01+0.j        , -1.06389167e-01+0.j        ,\n",
       "        2.89649299e-02+0.09979826j,  2.89649299e-02-0.09979826j,\n",
       "       -1.56819457e-02+0.10588806j, -1.56819457e-02-0.10588806j,\n",
       "        9.93204040e-02+0.01613876j,  9.93204040e-02-0.01613876j,\n",
       "       -1.00611645e-01+0.04570818j, -1.00611645e-01-0.04570818j,\n",
       "        6.89643622e-03+0.1030294j ,  6.89643622e-03-0.1030294j ,\n",
       "       -7.94183273e-02+0.07085312j, -7.94183273e-02-0.07085312j,\n",
       "        4.86905798e-02+0.0823792j ,  4.86905798e-02-0.0823792j ,\n",
       "        9.42368093e-02+0.00672646j,  9.42368093e-02-0.00672646j,\n",
       "       -1.01089822e-01+0.03183306j, -1.01089822e-01-0.03183306j,\n",
       "       -1.31544158e-02+0.09723973j, -1.31544158e-02-0.09723973j,\n",
       "        8.21566725e-02+0.03741955j,  8.21566725e-02-0.03741955j,\n",
       "       -7.54377898e-02+0.06346874j, -7.54377898e-02-0.06346874j,\n",
       "        4.38950297e-03+0.08976249j,  4.38950297e-03-0.08976249j,\n",
       "       -8.59004198e-02+0.03558716j, -8.59004198e-02-0.03558716j,\n",
       "       -2.78005174e-02+0.07997022j, -2.78005174e-02-0.07997022j,\n",
       "        7.34876563e-02+0.02449853j,  7.34876563e-02-0.02449853j,\n",
       "       -6.98170161e-02+0.04486211j, -6.98170161e-02-0.04486211j,\n",
       "       -5.14204833e-02+0.06215736j, -5.14204833e-02-0.06215736j,\n",
       "        3.88711135e-02+0.05850915j,  3.88711135e-02-0.05850915j,\n",
       "       -7.68717429e-02+0.j        ,  7.17116206e-02+0.j        ,\n",
       "       -6.45147990e-02+0.03444725j, -6.45147990e-02-0.03444725j,\n",
       "       -1.89286725e-02+0.06732008j, -1.89286725e-02-0.06732008j,\n",
       "        1.69280918e-02+0.06639025j,  1.69280918e-02-0.06639025j,\n",
       "       -2.93686414e-02+0.0545441j , -2.93686414e-02-0.0545441j ,\n",
       "        5.33965743e-02+0.02106016j,  5.33965743e-02-0.02106016j,\n",
       "       -6.05459242e-02+0.00506888j, -6.05459242e-02-0.00506888j,\n",
       "        3.93599474e-02+0.02347753j,  3.93599474e-02-0.02347753j,\n",
       "        1.63307675e-02+0.04074528j,  1.63307675e-02-0.04074528j,\n",
       "       -1.02712318e-02+0.04567562j, -1.02712318e-02-0.04567562j,\n",
       "        3.59265964e-02+0.j        ,  3.33850803e-02+0.01220985j,\n",
       "        3.33850803e-02-0.01220985j, -4.35751117e-02+0.j        ,\n",
       "       -3.30623894e-02+0.02901733j, -3.30623894e-02-0.02901733j,\n",
       "        9.92635417e-03+0.03167826j,  9.92635417e-03-0.03167826j,\n",
       "       -4.09327636e-02+0.j        , -5.32715066e-03+0.03070314j,\n",
       "       -5.32715066e-03-0.03070314j,  2.14813671e-02+0.j        ,\n",
       "       -2.82100528e-02+0.01202141j, -2.82100528e-02-0.01202141j,\n",
       "        1.83637684e-03+0.01947041j,  1.83637684e-03-0.01947041j,\n",
       "       -1.62627983e-02+0.01669296j, -1.62627983e-02-0.01669296j,\n",
       "       -1.85868871e-02+0.j        , -7.80292050e-03+0.01073254j,\n",
       "       -7.80292050e-03-0.01073254j, -3.21783933e-03+0.j        ,\n",
       "        1.63520244e-17+0.j        , -5.55607577e-17+0.j        ,\n",
       "        2.92028556e-17+0.j        ])"
      ]
     },
     "execution_count": 190,
     "metadata": {},
     "output_type": "execute_result"
    }
   ],
   "source": [
    "ccvals,ccvecs = np.linalg.eig(CC)\n",
    "ccvals"
   ]
  },
  {
   "cell_type": "code",
   "execution_count": 195,
   "id": "90842b74-c5ae-419d-9bad-86f2179672ca",
   "metadata": {},
   "outputs": [
    {
     "data": {
      "text/plain": [
       "array([0.00000, 0.00000, 0.00000, 0.00322, 0.01327, 0.01327, 0.01859,\n",
       "       0.01956, 0.01956, 0.02148, 0.02331, 0.02331, 0.03066, 0.03066,\n",
       "       0.03116, 0.03116, 0.03320, 0.03320, 0.03555, 0.03555, 0.03593,\n",
       "       0.04093, 0.04358, 0.04390, 0.04390, 0.04399, 0.04399, 0.04583,\n",
       "       0.04583, 0.04682, 0.04682, 0.05740, 0.05740, 0.06076, 0.06076,\n",
       "       0.06195, 0.06195, 0.06851, 0.06851, 0.06993, 0.06993, 0.07024,\n",
       "       0.07024, 0.07171, 0.07314, 0.07314, 0.07687, 0.07746, 0.07746,\n",
       "       0.08067, 0.08067, 0.08299, 0.08299, 0.08466, 0.08466, 0.08987,\n",
       "       0.08987, 0.09028, 0.09028, 0.09298, 0.09298, 0.09448, 0.09448,\n",
       "       0.09569, 0.09569, 0.09813, 0.09813, 0.09859, 0.09859, 0.10062,\n",
       "       0.10062, 0.10326, 0.10326, 0.10392, 0.10392, 0.10420, 0.10420,\n",
       "       0.10598, 0.10598, 0.10639, 0.10643, 0.10643, 0.10704, 0.10704,\n",
       "       0.10762, 0.10762, 0.11016, 0.11051, 0.11051, 0.11449, 0.11449,\n",
       "       0.11495, 1.00000])"
      ]
     },
     "execution_count": 195,
     "metadata": {},
     "output_type": "execute_result"
    }
   ],
   "source": [
    "accvals = np.abs(ccvals)\n",
    "accvals.sort()\n",
    "accvals"
   ]
  },
  {
   "cell_type": "code",
   "execution_count": 201,
   "id": "d42698fa-4f2a-46a7-a530-9095a8c7d5b9",
   "metadata": {},
   "outputs": [
    {
     "data": {
      "text/plain": [
       "array([0.01354, 0.01062, 0.01035, 0.01104, 0.01052, 0.01188, 0.01002,\n",
       "       0.01031, 0.01183, 0.01022, 0.01012, 0.01007, 0.00988, 0.01015,\n",
       "       0.01010, 0.01080, 0.01159, 0.01011, 0.01061, 0.01040, 0.01035,\n",
       "       0.01061, 0.01027, 0.01070, 0.00984, 0.01156, 0.01083, 0.01148,\n",
       "       0.01043, 0.01071, 0.01045, 0.01052, 0.00997, 0.01191, 0.01271,\n",
       "       0.01016, 0.01172, 0.00999, 0.01046, 0.01070, 0.01161, 0.01093,\n",
       "       0.00986, 0.01069, 0.01132, 0.01045, 0.01029, 0.01021, 0.01145,\n",
       "       0.01062, 0.01182, 0.01063, 0.01082, 0.01098, 0.01075, 0.01067,\n",
       "       0.01064, 0.01160, 0.01022, 0.01062, 0.01058, 0.01053, 0.01010,\n",
       "       0.00995, 0.01059, 0.01013, 0.01309, 0.01059, 0.01032, 0.00996,\n",
       "       0.01215, 0.01044, 0.00998, 0.01127, 0.01005, 0.01104, 0.01076,\n",
       "       0.01202, 0.01077, 0.01101, 0.00996, 0.01084, 0.01042, 0.01050,\n",
       "       0.01082, 0.01053, 0.01013, 0.01205, 0.01052, 0.01176, 0.01050,\n",
       "       0.01060, 0.01033])"
      ]
     },
     "execution_count": 201,
     "metadata": {},
     "output_type": "execute_result"
    }
   ],
   "source": [
    "animal_page_probabilities = normalize(ccvecs[:,0])\n",
    "animal_page_probabilities"
   ]
  },
  {
   "cell_type": "code",
   "execution_count": 203,
   "id": "2b86ec00-710e-48b8-935f-1650e7491dd3",
   "metadata": {},
   "outputs": [
    {
     "data": {
      "text/plain": [
       "[('Blue Whale', 0.013536168250393851),\n",
       " ('Snail', 0.01061748386858462),\n",
       " ('Alligator', 0.010350920780631163),\n",
       " ('Lark', 0.011041130183901918),\n",
       " ('Fruit Bat', 0.01052325910687038),\n",
       " ('Gerbil', 0.01188468617792059),\n",
       " ('Hyena', 0.01002245061258836),\n",
       " ('Starfish', 0.010314486898227157),\n",
       " ('Carp', 0.011826666513123014),\n",
       " ('Bee', 0.010215924772345095)]"
      ]
     },
     "execution_count": 203,
     "metadata": {},
     "output_type": "execute_result"
    }
   ],
   "source": [
    "animal_rank = [ (ll[i],animal_page_probabilities[i]) for i in range(len(ll)) ]\n",
    "\n",
    "## animal_rank now contains pairs ( animal name, probability )\n",
    "animal_rank[0:10]\n"
   ]
  },
  {
   "cell_type": "code",
   "execution_count": 206,
   "id": "e2248d2b-2d5e-43ae-867f-6ca76e03f00e",
   "metadata": {},
   "outputs": [
    {
     "data": {
      "text/plain": [
       "[('Blue Whale', 0.013536168250393851),\n",
       " ('Ant', 0.013085585380475655),\n",
       " ('Donkey', 0.012713237966476582),\n",
       " ('Squirrel', 0.012151346209255502),\n",
       " ('Rook', 0.01204650009799565),\n",
       " ('Grouse', 0.012020480385893456),\n",
       " ('Fowl', 0.01190910776280802),\n",
       " ('Gerbil', 0.01188468617792059),\n",
       " ('Carp', 0.011826666513123014),\n",
       " ('Albatross', 0.011817909284220714)]"
      ]
     },
     "execution_count": 206,
     "metadata": {},
     "output_type": "execute_result"
    }
   ],
   "source": [
    "animal_rank.sort(key= lambda x: -x[1])\n",
    "animal_rank[0:10]"
   ]
  },
  {
   "cell_type": "code",
   "execution_count": 278,
   "id": "7616eebd-e01b-4f55-b227-b0a2553487ac",
   "metadata": {},
   "outputs": [],
   "source": [
    "def extracttop10(ll,AA,p):\n",
    "  ## make the transition matrix from the given adjacency matrix  \n",
    "  CC=make_transition(AA,p)\n",
    "\n",
    "  ## get the eigenvalues and eigenvectors of CC\n",
    "  evals,evecs = np.linalg.eig(CC)\n",
    "\n",
    "  ## find the index of the eigenvalue 1.\n",
    "  i = [ i if abs(evals[i] - 1)< 1e-4 else None for i in range(len(evals)) ][0]  \n",
    "  animal_page_probabilities = normalize(evecs[:,i])\n",
    "  animal_rank =  [ (ll[i],animal_page_probabilities[i]) for i in range(len(ll)) ]\n",
    "  animal_rank.sort(key=lambda x: -x[1])\n",
    "  return animal_rank[0:10]"
   ]
  },
  {
   "cell_type": "code",
   "execution_count": 285,
   "id": "123d1151-d792-4de6-a0bc-ebc50d208fb8",
   "metadata": {},
   "outputs": [
    {
     "name": "stdout",
     "output_type": "stream",
     "text": [
      "p = 0.8\n",
      "('Blue Whale', 0.013536168250393851)\n",
      "('Ant', 0.013085585380475655)\n",
      "('Donkey', 0.012713237966476582)\n",
      "('Squirrel', 0.012151346209255502)\n",
      "('Rook', 0.01204650009799565)\n",
      "('Grouse', 0.012020480385893456)\n",
      "('Fowl', 0.01190910776280802)\n",
      "('Gerbil', 0.01188468617792059)\n",
      "('Carp', 0.011826666513123014)\n",
      "('Albatross', 0.011817909284220714)\n",
      "---\n",
      "p = 0.7\n",
      "('Blue Whale', 0.015018877810741557)\n",
      "('Ant', 0.014163959071792166)\n",
      "('Donkey', 0.013673571422727786)\n",
      "('Rook', 0.012867462131640901)\n",
      "('Squirrel', 0.012761305271685017)\n",
      "('Grouse', 0.012635398897967906)\n",
      "('Fowl', 0.012583401286290251)\n",
      "('Gerbil', 0.012550152776914202)\n",
      "('Carp', 0.012463458881175884)\n",
      "('Albatross', 0.012442794858579156)\n",
      "---\n",
      "p = 0.6\n",
      "('Blue Whale', 0.01658597753383941)\n",
      "('Ant', 0.015224920770049603)\n",
      "('Donkey', 0.014627840325647233)\n",
      "('Rook', 0.013777791946367293)\n",
      "('Squirrel', 0.01330961897031871)\n",
      "('Fowl', 0.01328679220977628)\n",
      "('Gerbil', 0.013267952762531062)\n",
      "('Grouse', 0.013248162718688948)\n",
      "('Carp', 0.01316067379637)\n",
      "('Albatross', 0.013144879993912102)\n",
      "---\n",
      "p = 0.5\n",
      "('Blue Whale', 0.01825176753025187)\n",
      "('Ant', 0.016300312179253696)\n",
      "('Donkey', 0.015582741824297787)\n",
      "('Rook', 0.014757533023902241)\n",
      "('Gerbil', 0.014028343256687453)\n",
      "('Fowl', 0.013994274892283045)\n",
      "('Albatross', 0.013933485760208744)\n",
      "('Carp', 0.013913511207356382)\n",
      "('Grouse', 0.013868311371992712)\n",
      "('Squirrel', 0.013794207834994613)\n",
      "---\n",
      "p = 0.4\n",
      "('Blue Whale', 0.020028169184583642)\n",
      "('Ant', 0.017424975927025417)\n",
      "('Donkey', 0.016544660161517538)\n",
      "('Rook', 0.015786803069689003)\n",
      "('Gerbil', 0.014822569897437046)\n",
      "('Albatross', 0.014816272925140058)\n",
      "('Carp', 0.014715684339538357)\n",
      "('Fowl', 0.014683318629935478)\n",
      "('Grouse', 0.01450549030548999)\n",
      "('Squirrel', 0.01421295027975862)\n",
      "---\n"
     ]
    }
   ],
   "source": [
    "for p in [.8 - .1*i for i in range(5)]:\n",
    "    print(f\"p = {p:.1}\")\n",
    "    for z in extracttop10(ll,AA,p):\n",
    "        print(z)\n",
    "    print(\"---\")"
   ]
  },
  {
   "cell_type": "code",
   "execution_count": null,
   "id": "86c7dadb-0635-44ee-8fce-27857722baab",
   "metadata": {},
   "outputs": [],
   "source": []
  }
 ],
 "metadata": {
  "kernelspec": {
   "display_name": "Python 3 (ipykernel)",
   "language": "python",
   "name": "python3"
  },
  "language_info": {
   "codemirror_mode": {
    "name": "ipython",
    "version": 3
   },
   "file_extension": ".py",
   "mimetype": "text/x-python",
   "name": "python",
   "nbconvert_exporter": "python",
   "pygments_lexer": "ipython3",
   "version": "3.11.6"
  }
 },
 "nbformat": 4,
 "nbformat_minor": 5
}
