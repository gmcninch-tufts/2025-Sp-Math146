{
 "cells": [
  {
   "cell_type": "code",
   "execution_count": 10,
   "id": "61b3c6f0-011d-49e5-b397-72b64a487ac6",
   "metadata": {},
   "outputs": [
    {
     "data": {
      "text/plain": [
       "{('rainy', 'sunny'): 1,\n",
       " ('sunny', 'rainy'): 1,\n",
       " ('foggy', 'rainy'): 0.5,\n",
       " ('foggy', 'snowy'): 0.5,\n",
       " ('snowy', 'sunny'): 0.3333333333333333,\n",
       " ('snowy', 'rainy'): 0.3333333333333333,\n",
       " ('snowy', 'foggy'): 0.3333333333333333}"
      ]
     },
     "execution_count": 10,
     "metadata": {},
     "output_type": "execute_result"
    }
   ],
   "source": [
    "\n",
    "weather = [ 'sunny', 'rainy', 'foggy', 'snowy' ]\n",
    "\n",
    "transitions = {\n",
    "    ('rainy', 'sunny'): 1,\n",
    "    ('sunny', 'rainy'): 1,\n",
    "    **{ ('foggy',w): 1/2 for w in weather if w != 'sunny' and w != 'foggy' },\n",
    "    **{ ('snowy',w): 1/3 for w in weather if w != 'snowy' }\n",
    "}\n",
    "\n",
    "transitions"
   ]
  },
  {
   "cell_type": "code",
   "execution_count": 20,
   "id": "7829543a-658c-4acf-a075-33c3f5411299",
   "metadata": {},
   "outputs": [
    {
     "data": {
      "text/plain": [
       "'weather.png'"
      ]
     },
     "execution_count": 20,
     "metadata": {},
     "output_type": "execute_result"
    }
   ],
   "source": [
    "from graphviz import Digraph\n",
    "\n",
    "dot = Digraph(format='png')\n",
    "dot.attr(rankdir='LR')\n",
    "\n",
    "with dot.subgraph() as c:\n",
    "    c.attr(rank='same')\n",
    "    c.node('rainy')\n",
    "    c.node('sunny')\n",
    "with dot.subgraph() as c:\n",
    "    c.attr(rank='same')\n",
    "    c.node('foggy')\n",
    "    c.node('snowy')\n",
    " \n",
    "from itertools import product\n",
    "\n",
    "for (v1,v2) in product(weather,weather):\n",
    "    if (v1,v2) in transitions.keys():\n",
    "        dot.edge(v1,v2,f\"{transitions[(v1,v2)]:.02f}\")\n",
    "dot.render('weather')"
   ]
  },
  {
   "cell_type": "code",
   "execution_count": 23,
   "id": "cfaaea2f-a80c-44fa-b3e4-fb7f5d385164",
   "metadata": {},
   "outputs": [
    {
     "ename": "KeyError",
     "evalue": "('sunny', 'sunny')",
     "output_type": "error",
     "traceback": [
      "\u001b[0;31m---------------------------------------------------------------------------\u001b[0m",
      "\u001b[0;31mKeyError\u001b[0m                                  Traceback (most recent call last)",
      "Cell \u001b[0;32mIn[23], line 3\u001b[0m\n\u001b[1;32m      1\u001b[0m \u001b[38;5;28;01mimport\u001b[39;00m \u001b[38;5;21;01mnumpy\u001b[39;00m \u001b[38;5;28;01mas\u001b[39;00m \u001b[38;5;21;01mnp\u001b[39;00m\n\u001b[0;32m----> 3\u001b[0m p \u001b[38;5;241m=\u001b[39m np\u001b[38;5;241m.\u001b[39marray(\u001b[43m[\u001b[49m\u001b[43m[\u001b[49m\u001b[43m \u001b[49m\u001b[43mtransitions\u001b[49m\u001b[43m[\u001b[49m\u001b[43m(\u001b[49m\u001b[43mv\u001b[49m\u001b[43m,\u001b[49m\u001b[43mw\u001b[49m\u001b[43m)\u001b[49m\u001b[43m]\u001b[49m\u001b[43m \u001b[49m\u001b[38;5;28;43;01mfor\u001b[39;49;00m\u001b[43m \u001b[49m\u001b[43mv\u001b[49m\u001b[43m \u001b[49m\u001b[38;5;129;43;01min\u001b[39;49;00m\u001b[43m \u001b[49m\u001b[43mweather\u001b[49m\u001b[43m]\u001b[49m\u001b[43m \u001b[49m\u001b[38;5;28;43;01mfor\u001b[39;49;00m\u001b[43m \u001b[49m\u001b[43mw\u001b[49m\u001b[43m \u001b[49m\u001b[38;5;129;43;01min\u001b[39;49;00m\u001b[43m \u001b[49m\u001b[43mweather\u001b[49m\u001b[43m \u001b[49m\u001b[43m]\u001b[49m)\n\u001b[1;32m      5\u001b[0m p\n",
      "Cell \u001b[0;32mIn[23], line 3\u001b[0m, in \u001b[0;36m<listcomp>\u001b[0;34m(.0)\u001b[0m\n\u001b[1;32m      1\u001b[0m \u001b[38;5;28;01mimport\u001b[39;00m \u001b[38;5;21;01mnumpy\u001b[39;00m \u001b[38;5;28;01mas\u001b[39;00m \u001b[38;5;21;01mnp\u001b[39;00m\n\u001b[0;32m----> 3\u001b[0m p \u001b[38;5;241m=\u001b[39m np\u001b[38;5;241m.\u001b[39marray([\u001b[43m[\u001b[49m\u001b[43m \u001b[49m\u001b[43mtransitions\u001b[49m\u001b[43m[\u001b[49m\u001b[43m(\u001b[49m\u001b[43mv\u001b[49m\u001b[43m,\u001b[49m\u001b[43mw\u001b[49m\u001b[43m)\u001b[49m\u001b[43m]\u001b[49m\u001b[43m \u001b[49m\u001b[38;5;28;43;01mfor\u001b[39;49;00m\u001b[43m \u001b[49m\u001b[43mv\u001b[49m\u001b[43m \u001b[49m\u001b[38;5;129;43;01min\u001b[39;49;00m\u001b[43m \u001b[49m\u001b[43mweather\u001b[49m\u001b[43m]\u001b[49m \u001b[38;5;28;01mfor\u001b[39;00m w \u001b[38;5;129;01min\u001b[39;00m weather ])\n\u001b[1;32m      5\u001b[0m p\n",
      "Cell \u001b[0;32mIn[23], line 3\u001b[0m, in \u001b[0;36m<listcomp>\u001b[0;34m(.0)\u001b[0m\n\u001b[1;32m      1\u001b[0m \u001b[38;5;28;01mimport\u001b[39;00m \u001b[38;5;21;01mnumpy\u001b[39;00m \u001b[38;5;28;01mas\u001b[39;00m \u001b[38;5;21;01mnp\u001b[39;00m\n\u001b[0;32m----> 3\u001b[0m p \u001b[38;5;241m=\u001b[39m np\u001b[38;5;241m.\u001b[39marray([[ \u001b[43mtransitions\u001b[49m\u001b[43m[\u001b[49m\u001b[43m(\u001b[49m\u001b[43mv\u001b[49m\u001b[43m,\u001b[49m\u001b[43mw\u001b[49m\u001b[43m)\u001b[49m\u001b[43m]\u001b[49m \u001b[38;5;28;01mfor\u001b[39;00m v \u001b[38;5;129;01min\u001b[39;00m weather] \u001b[38;5;28;01mfor\u001b[39;00m w \u001b[38;5;129;01min\u001b[39;00m weather ])\n\u001b[1;32m      5\u001b[0m p\n",
      "\u001b[0;31mKeyError\u001b[0m: ('sunny', 'sunny')"
     ]
    }
   ],
   "source": [
    "import numpy as np\n",
    "\n",
    "def transition_prob(v,w):\n",
    "    # get the probability for the transition v->w\n",
    "    if (v,w) in transitions.keys():\n",
    "        return transitions[(v,w)]\n",
    "    else:\n",
    "\n",
    "p = np.array([[ transitions[(v,w)] for v in weather] for w in weather ])\n",
    "\n",
    "p"
   ]
  },
  {
   "cell_type": "code",
   "execution_count": null,
   "id": "bdb5472d-36c9-477b-a117-fd12328bda16",
   "metadata": {},
   "outputs": [],
   "source": []
  }
 ],
 "metadata": {
  "kernelspec": {
   "display_name": "Python 3 (ipykernel)",
   "language": "python",
   "name": "python3"
  },
  "language_info": {
   "codemirror_mode": {
    "name": "ipython",
    "version": 3
   },
   "file_extension": ".py",
   "mimetype": "text/x-python",
   "name": "python",
   "nbconvert_exporter": "python",
   "pygments_lexer": "ipython3",
   "version": "3.11.6"
  }
 },
 "nbformat": 4,
 "nbformat_minor": 5
}
