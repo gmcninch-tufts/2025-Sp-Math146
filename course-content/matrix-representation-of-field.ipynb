{
 "cells": [
  {
   "cell_type": "code",
   "execution_count": 2,
   "id": "c942d8b7-0045-4636-a41b-5c188b7c019c",
   "metadata": {},
   "outputs": [
    {
     "data": {
      "text/plain": [
       "(a, b, c)"
      ]
     },
     "execution_count": 2,
     "metadata": {},
     "output_type": "execute_result"
    }
   ],
   "source": [
    "var('a b c')"
   ]
  },
  {
   "cell_type": "code",
   "execution_count": 23,
   "id": "51b77d0d-36fc-4f94-8768-9a373b2f8d49",
   "metadata": {},
   "outputs": [],
   "source": [
    "def M(a,b,c):\n",
    "    return matrix([[a,c,2*b],[b,a,2*c],[c,b,a]])"
   ]
  },
  {
   "cell_type": "code",
   "execution_count": 26,
   "id": "ffe50703-1aa5-4053-8425-7b5ab2fec244",
   "metadata": {},
   "outputs": [
    {
     "data": {
      "text/plain": [
       "[  a   c 2*b]\n",
       "[  b   a 2*c]\n",
       "[  c   b   a]"
      ]
     },
     "execution_count": 26,
     "metadata": {},
     "output_type": "execute_result"
    }
   ],
   "source": [
    "mm=M(a,b,c)\n",
    "mm"
   ]
  },
  {
   "cell_type": "code",
   "execution_count": 27,
   "id": "6ebf52b0-d2be-4f7b-ad22-39bbdfa8b780",
   "metadata": {},
   "outputs": [
    {
     "data": {
      "text/plain": [
       "[1 0 2]\n",
       "[1 1 0]\n",
       "[0 1 1]"
      ]
     },
     "execution_count": 27,
     "metadata": {},
     "output_type": "execute_result"
    }
   ],
   "source": [
    "nn=M(1,1,0)\n",
    "nn"
   ]
  },
  {
   "cell_type": "code",
   "execution_count": 28,
   "id": "20efb62c-4a80-44a8-bfbe-a81eac45535d",
   "metadata": {},
   "outputs": [
    {
     "data": {
      "text/plain": [
       "[1 2 4]\n",
       "[2 1 2]\n",
       "[1 2 1]"
      ]
     },
     "execution_count": 28,
     "metadata": {},
     "output_type": "execute_result"
    }
   ],
   "source": [
    "nn*nn"
   ]
  },
  {
   "cell_type": "code",
   "execution_count": 29,
   "id": "f8456d84-12a0-4947-b860-824a55473cc7",
   "metadata": {},
   "outputs": [
    {
     "data": {
      "text/plain": [
       "[ 1/3  2/3 -2/3]\n",
       "[-1/3  1/3  2/3]\n",
       "[ 1/3 -1/3  1/3]"
      ]
     },
     "execution_count": 29,
     "metadata": {},
     "output_type": "execute_result"
    }
   ],
   "source": [
    "nn^-1"
   ]
  },
  {
   "cell_type": "code",
   "execution_count": 30,
   "id": "489dc5d9-dced-438e-823f-7de22b374a44",
   "metadata": {},
   "outputs": [
    {
     "data": {
      "text/plain": [
       "[-2*(b/a + (b^2/a - c)*c/((a - b*c/a)*a))*((b - c^2/a)*b/((a - b*c/a)*a) - c/a)/(a + 2*(b - c^2/a)*(b^2/a - c)/(a - b*c/a) - 2*b*c/a) + 1/a + b*c/((a - b*c/a)*a^2)                        2*(b - c^2/a)*(b/a + (b^2/a - c)*c/((a - b*c/a)*a))/((a + 2*(b - c^2/a)*(b^2/a - c)/(a - b*c/a) - 2*b*c/a)*(a - b*c/a)) - c/((a - b*c/a)*a)                                                                     -2*(b/a + (b^2/a - c)*c/((a - b*c/a)*a))/(a + 2*(b - c^2/a)*(b^2/a - c)/(a - b*c/a) - 2*b*c/a)]\n",
       "[                       2*(b^2/a - c)*((b - c^2/a)*b/((a - b*c/a)*a) - c/a)/((a + 2*(b - c^2/a)*(b^2/a - c)/(a - b*c/a) - 2*b*c/a)*(a - b*c/a)) - b/((a - b*c/a)*a)                                                    1/(a - b*c/a) - 2*(b - c^2/a)*(b^2/a - c)/((a + 2*(b - c^2/a)*(b^2/a - c)/(a - b*c/a) - 2*b*c/a)*(a - b*c/a)^2)                                                                                  2*(b^2/a - c)/((a + 2*(b - c^2/a)*(b^2/a - c)/(a - b*c/a) - 2*b*c/a)*(a - b*c/a))]\n",
       "[                                                                       ((b - c^2/a)*b/((a - b*c/a)*a) - c/a)/(a + 2*(b - c^2/a)*(b^2/a - c)/(a - b*c/a) - 2*b*c/a)                                                                                   -(b - c^2/a)/((a + 2*(b - c^2/a)*(b^2/a - c)/(a - b*c/a) - 2*b*c/a)*(a - b*c/a))                                                                                                            1/(a + 2*(b - c^2/a)*(b^2/a - c)/(a - b*c/a) - 2*b*c/a)]"
      ]
     },
     "execution_count": 30,
     "metadata": {},
     "output_type": "execute_result"
    }
   ],
   "source": [
    "mm^-1"
   ]
  },
  {
   "cell_type": "code",
   "execution_count": null,
   "id": "72b6e02b-0e4e-4ea9-a657-426b0d9e8328",
   "metadata": {},
   "outputs": [],
   "source": []
  }
 ],
 "metadata": {
  "kernelspec": {
   "display_name": "SageMath 9.5",
   "language": "sage",
   "name": "sagemath"
  },
  "language_info": {
   "codemirror_mode": {
    "name": "ipython",
    "version": 3
   },
   "file_extension": ".py",
   "mimetype": "text/x-python",
   "name": "python",
   "nbconvert_exporter": "python",
   "pygments_lexer": "ipython3",
   "version": "3.11.2"
  }
 },
 "nbformat": 4,
 "nbformat_minor": 5
}
