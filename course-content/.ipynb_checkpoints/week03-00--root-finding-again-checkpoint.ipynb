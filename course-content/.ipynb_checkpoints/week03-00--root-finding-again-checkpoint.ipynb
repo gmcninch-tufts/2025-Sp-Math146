{
 "cells": [
  {
   "cell_type": "markdown",
   "id": "636fcabe-a867-4453-80cc-9f2234e5b644",
   "metadata": {},
   "source": [
    "# [George McNinch](http://gmcninch.math.tufts.edu) Math 87 - Spring 2024\n",
    "\n",
    "# Week 3: Root Finding"
   ]
  },
  {
   "cell_type": "markdown",
   "id": "54fa76cb-de23-481c-b1b2-028939d9aae9",
   "metadata": {},
   "source": [
    "Let's consider the function\n",
    "\n",
    "$$f(x) = e^x - xe^x = e^x(1-x)$$\n",
    "\n",
    "Notice that there is exactly one solution to $f(x) =0$, namely $x=1$.\n",
    "\n",
    "Last lecture, we met several tools for approximating roots. Let's see how well these work for this function."
   ]
  },
  {
   "cell_type": "markdown",
   "id": "0aff0e59-2406-4fb0-956a-68e1d139a596",
   "metadata": {},
   "source": [
    "# Newton's Method \n",
    "\n",
    "Let's first use **Newton's Method** with various initial points\n",
    "\n",
    "$$x_0 = 21 , 2, 10, − 21 , −5.$$\n",
    "\n",
    "Recall that to use the `newton` function from `scipy.optimize` we must provide `f` and and the derivative `f'` as arguments."
   ]
  },
  {
   "cell_type": "code",
   "execution_count": 59,
   "id": "241990da-7042-45ef-86bd-45507ccb3eca",
   "metadata": {},
   "outputs": [
    {
     "data": {
      "text/plain": [
       "[(1.0,\n",
       "        converged: True\n",
       "             flag: converged\n",
       "   function_calls: 14\n",
       "       iterations: 7\n",
       "             root: 1.0),\n",
       " (1.0,\n",
       "        converged: True\n",
       "             flag: converged\n",
       "   function_calls: 14\n",
       "       iterations: 7\n",
       "             root: 1.0),\n",
       " (1.0,\n",
       "        converged: True\n",
       "             flag: converged\n",
       "   function_calls: 34\n",
       "       iterations: 17\n",
       "             root: 1.0),\n",
       " RuntimeError('Failed to converge after 100 iterations, value is -105.79532100085905.'),\n",
       " RuntimeError('Failed to converge after 100 iterations, value is -107.9896150141256.')]"
      ]
     },
     "execution_count": 59,
     "metadata": {},
     "output_type": "execute_result"
    }
   ],
   "source": [
    "from scipy.optimize import newton\n",
    "import numpy as np\n",
    "\n",
    "x0s=[.5,2,10,-.5,-5]\n",
    "\n",
    "def f(x): return np.exp(x) - x*np.exp(x)\n",
    "\n",
    "def df(x): return -x*np.exp(x)\n",
    "\n",
    "def check(x0):\n",
    "    try:\n",
    "        return newton(f,x0,fprime=df,maxiter=100,full_output=True)\n",
    "    except RuntimeError as e:\n",
    "        return e\n",
    "        \n",
    "[ check(x0) for x0 in x0s ]"
   ]
  },
  {
   "cell_type": "markdown",
   "id": "3b52dbe2-02d1-40dc-9d87-1db625ee8188",
   "metadata": {},
   "source": [
    "# Secant Method\n",
    "\n",
    "Now let's use the secant method with initial approximations\n",
    "$$(x_0 , x_1 ) = (0, 2), (0, 10), (−1, 2), (−5, 5), (−10, 2)$$\n"
   ]
  },
  {
   "cell_type": "code",
   "execution_count": 54,
   "id": "850a62a6-ae2e-4bb2-b4de-c801174c3c4f",
   "metadata": {},
   "outputs": [
    {
     "name": "stderr",
     "output_type": "stream",
     "text": [
      "/tmp/ipykernel_1454714/328907090.py:6: RuntimeWarning: overflow encountered in exp\n",
      "  def f(x): return np.exp(x) - x*np.exp(x)\n",
      "/tmp/ipykernel_1454714/328907090.py:6: RuntimeWarning: invalid value encountered in scalar subtract\n",
      "  def f(x): return np.exp(x) - x*np.exp(x)\n"
     ]
    },
    {
     "data": {
      "text/plain": [
       "[(1.0,\n",
       "        converged: True\n",
       "             flag: converged\n",
       "   function_calls: 14\n",
       "       iterations: 13\n",
       "             root: 1.0),\n",
       " RuntimeError('Failed to converge after 100 iterations, value is nan.'),\n",
       " RuntimeError('Failed to converge after 100 iterations, value is -73.34051390002718.'),\n",
       " RuntimeError('Failed to converge after 100 iterations, value is -75.79214196939151.'),\n",
       " RuntimeError('Failed to converge after 100 iterations, value is -80.19593559332172.')]"
      ]
     },
     "execution_count": 54,
     "metadata": {},
     "output_type": "execute_result"
    }
   ],
   "source": [
    "from scipy.optimize import newton\n",
    "import numpy as np\n",
    "\n",
    "inits = [(0,2), (0,10), (-1,2), (-5,5), (-10,2) ]\n",
    "\n",
    "def f(x): return np.exp(x) - x*np.exp(x)\n",
    "\n",
    "def check(x0,x1):\n",
    "    try:\n",
    "        return newton(f,x0,maxiter=100,x1=x1,full_output=True)\n",
    "    except RuntimeError as e:\n",
    "        return e\n",
    "\n",
    "[ check(x0,x1) for x0,x1 in inits]"
   ]
  },
  {
   "cell_type": "markdown",
   "id": "a18c416f-e163-43d7-a1fe-e7e866e445c3",
   "metadata": {},
   "source": [
    "# Bisection Method\n",
    "\n",
    "Now we use the bisection method with different intervals:\n",
    "\n",
    "$$[xL , xR ] = [0, 2], [−5, 5], [−10, 2], [−1, 2], [0, 1].$$"
   ]
  },
  {
   "cell_type": "code",
   "execution_count": 58,
   "id": "bec16c38-9cdc-4e98-9438-1e6bcf54858d",
   "metadata": {},
   "outputs": [
    {
     "data": {
      "text/plain": [
       "[(1.0,\n",
       "        converged: True\n",
       "             flag: converged\n",
       "   function_calls: 3\n",
       "       iterations: 1\n",
       "             root: 1.0),\n",
       " (1.0000000000002274,\n",
       "        converged: True\n",
       "             flag: converged\n",
       "   function_calls: 45\n",
       "       iterations: 43\n",
       "             root: 1.0000000000002274),\n",
       " (0.9999999999995453,\n",
       "        converged: True\n",
       "             flag: converged\n",
       "   function_calls: 45\n",
       "       iterations: 43\n",
       "             root: 0.9999999999995453),\n",
       " (0.9999999999995453,\n",
       "        converged: True\n",
       "             flag: converged\n",
       "   function_calls: 43\n",
       "       iterations: 41\n",
       "             root: 0.9999999999995453),\n",
       " (1.0,\n",
       "        converged: True\n",
       "             flag: converged\n",
       "   function_calls: 2\n",
       "       iterations: 1612130352\n",
       "             root: 1.0)]"
      ]
     },
     "execution_count": 58,
     "metadata": {},
     "output_type": "execute_result"
    }
   ],
   "source": [
    "from scipy.optimize import bisect\n",
    "import numpy as np\n",
    "\n",
    "intervals = [ (0,2), (-5,5), (-10,2), (-1,2), (0,1)]\n",
    "\n",
    "\n",
    "def f(x): return np.exp(x) - x*np.exp(x)\n",
    "\n",
    "def check(xl,xr):\n",
    "    try:\n",
    "        return bisect(f,xl,xr,full_output=True)\n",
    "    except RuntimeError as e:\n",
    "        return e\n",
    "\n",
    "[ check(a,b) for (a,b) in intervals ]"
   ]
  },
  {
   "cell_type": "markdown",
   "id": "b9d97695-6834-4e2a-a74f-331d93764a93",
   "metadata": {},
   "source": [
    "# Graphical explanation!?"
   ]
  },
  {
   "cell_type": "code",
   "execution_count": 75,
   "id": "c7915125-0e76-47dd-89cb-50223578ff9d",
   "metadata": {},
   "outputs": [
    {
     "data": {
      "text/plain": [
       "<matplotlib.lines.Line2D at 0x7f64566e6990>"
      ]
     },
     "execution_count": 75,
     "metadata": {},
     "output_type": "execute_result"
    },
    {
     "data": {
      "image/png": "[encoded data removed]",
      "text/plain": [
       "<Figure size 640x480 with 1 Axes>"
      ]
     },
     "metadata": {},
     "output_type": "display_data"
    }
   ],
   "source": [
    "import matplotlib.pyplot as plt\n",
    "import numpy as np\n",
    "\n",
    "X = np.linspace(-5,1.5,1000)\n",
    "def f(x): return np.exp(x) - x*np.exp(x)\n",
    "\n",
    "plt.plot(X,f(X))\n",
    "plt.axhline(y=0,color='black')\n",
    "plt.axvline(x=0,color='black')"
   ]
  },
  {
   "cell_type": "markdown",
   "id": "a1fea11f-2fce-45e0-947e-9878ab7d190c",
   "metadata": {},
   "source": [
    "Note that $f(x) \\to 0$ as $x \\to -\\infty$.\n",
    "\n",
    "So if an initial guess is \"too far left\", then Newton and secant methods iterate further to the left when trying to find the root.\n",
    "\n",
    "The secant method also failed with the initial guesses $(0,10)$; here  the point is that $f(x) \\to -\\infty$ quick as $x$ moves to the right. "
   ]
  },
  {
   "cell_type": "markdown",
   "id": "f4f762cd-689b-4a7a-b451-87457e77d612",
   "metadata": {},
   "source": [
    "# Stopping criteria\n",
    "\n",
    "This is an example as to why a “stopping criteria” to stop iterating at the $k$ th step\n",
    "**should not** have the form $f(x_k)≈0$. \n",
    "\n",
    "At first thought, checking that `f(xk) < tolerance` where `tolerance` is close to zero (maybe\n",
    "something like `1E−8`) would be a sufficient stopping condition for root finding. \n",
    "\n",
    "However, the asymptotic behavior of the function, where $f → 0 as x → −∞$, shows that this is not sufficient\n",
    "for determining whether the method has found a root. \n",
    "\n",
    "For example, let’s say `xk = −22`. Then\n",
    "`f(−22) = 6.4 × 10−9`, which meets the criteria, and the method would declare the root to be `−22`.\n",
    "3But we know this is nowhere close to the root. This means that checking that f is close to\n",
    "zero is not a good way to determine convergence.\n",
    "\n",
    "A better way to check for convergence would be to examine the actual sequence of iterates\n",
    "that the method generates, `{x0 , x1 , x2 , ..., xk }` where `xk → x∗` as `k → ∞`. We could check the\n",
    "difference between `xk` and `x∗` , but we might not know `x∗` . However, we do know that with each\n",
    "iteration, we expect the iterates to be getting closer to `x∗` , which means that the difference\n",
    "between successive iterates should be getting smaller. With this reasoning, a better stopping\n",
    "condition would be to check if `|xk−1 − xk |` is close to zero, i.e., `|xk−1 − xk | < tolerance`, where\n",
    "`tolerance` should be very small."
   ]
  },
  {
   "cell_type": "code",
   "execution_count": null,
   "id": "8b4682e0-7c76-4bd4-8baf-55c0e1adc094",
   "metadata": {},
   "outputs": [],
   "source": []
  }
 ],
 "metadata": {
  "kernelspec": {
   "display_name": "Python 3 (ipykernel)",
   "language": "python",
   "name": "python3"
  },
  "language_info": {
   "codemirror_mode": {
    "name": "ipython",
    "version": 3
   },
   "file_extension": ".py",
   "mimetype": "text/x-python",
   "name": "python",
   "nbconvert_exporter": "python",
   "pygments_lexer": "ipython3",
   "version": "3.11.6"
  }
 },
 "nbformat": 4,
 "nbformat_minor": 5
}
