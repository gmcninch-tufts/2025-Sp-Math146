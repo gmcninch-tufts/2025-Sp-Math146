{
 "cells": [
  {
   "cell_type": "markdown",
   "id": "0b6c770f-2790-44b1-805c-c7bccc257f3f",
   "metadata": {},
   "source": [
    "# Least squares and bridges\n"
   ]
  },
  {
   "cell_type": "code",
   "execution_count": 1,
   "id": "7294b2a0-0b4e-428f-8553-cfbe995ee1ca",
   "metadata": {},
   "outputs": [],
   "source": [
    "import numpy as np\n",
    "import numpy.linalg as la\n",
    "\n",
    "\n",
    "def sbv(i,n):\n",
    "    return np.array([1 if j == i else 0 for j in range(n)])\n",
    "\n",
    "def makeK(kar):\n",
    "    n = len(kar)\n",
    "    return np.array([kar[i]*sbv(i,n) for i in range(n)])\n"
   ]
  },
  {
   "cell_type": "markdown",
   "id": "32b91a78-9482-4c31-8e8f-aea4b97d7df2",
   "metadata": {},
   "source": [
    "\n",
    "Suppose we are building a bridge, which we'll view as a spring-system as before:\n",
    "\n",
    "![](../course-assets/images/springs--image09.png)\n",
    "\n",
    "For simplicity we are going to assume that all angles in the diagram are $\\pi/2$ or $\\pi/4$."
   ]
  },
  {
   "cell_type": "markdown",
   "id": "0b893e8d-bfb4-43f3-9ea8-2a0ec8fa7f22",
   "metadata": {},
   "source": [
    "Using the same material for each “beam” of the bridge, the spring constants are inversely proportional to their length.\n",
    "\n",
    "There are 15 springs/beams in total, and we take them as follows:\n",
    "$$k_i = \\left \\{ \n",
    "\\begin{matrix}\n",
    "9.7500 · 10^6 \\operatorname{N/m} & \\text{for $i = 1, 2, 3, 4, 6, 9, 12, 14, 15$} \\\\ \n",
    "6.8943 · 10^6 \\operatorname{N/m} & \\text{for $i = 5, 7, 8, 10, 11, 13$}\n",
    "\\end{matrix}\n",
    "\\right .$$"
   ]
  },
  {
   "cell_type": "markdown",
   "id": "84c7c7b6-8e96-4fe5-951d-4c719c093267",
   "metadata": {},
   "source": [
    "In order to test the bridge for structural integrity, we load the three lower masses (where traffic\n",
    "would be) individually with forces of $2 · 10^6$ N, and measure the resulting displacements.\n",
    "\n",
    "**Remark**\n",
    ":   The average car in the US weighs about $4, 000$ lbs ($≈ 1, 814$ kg), which\n",
    "    corresponds to $≈ 1.778 · 10^4$ N. \n",
    "    The average semi-truck weighs about $80, 000$ lbs ($≈ 36,287$ kg),\n",
    "    which corresponds to $≈ 3.556 · 10^5$ N."
   ]
  },
  {
   "cell_type": "code",
   "execution_count": 7,
   "id": "3ae58e04-837a-4eee-8118-0742b7909864",
   "metadata": {},
   "outputs": [
    {
     "data": {
      "text/plain": [
       "array([[ 1.        ,  0.        ,  0.        ,  0.        ,  0.        ,  0.        ,  0.        ,  0.        ,  0.        ,  0.        ,  0.        ,  0.        ],\n",
       "       [-1.        ,  0.        ,  1.        ,  0.        ,  0.        ,  0.        ,  0.        ,  0.        ,  0.        ,  0.        ,  0.        ,  0.        ],\n",
       "       [ 0.        ,  0.        , -1.        ,  0.        ,  1.        ,  0.        ,  0.        ,  0.        ,  0.        ,  0.        ,  0.        ,  0.        ],\n",
       "       [ 0.        ,  0.        ,  0.        ,  0.        ,  1.        ,  0.        ,  0.        ,  0.        ,  0.        ,  0.        ,  0.        ,  0.        ],\n",
       "       [ 0.        ,  0.        ,  0.        ,  0.        ,  0.        ,  0.        ,  0.70710678, -0.70710678,  0.        ,  0.        ,  0.        ,  0.        ],\n",
       "       [ 0.        ,  1.        ,  0.        ,  0.        ,  0.        ,  0.        ,  0.        , -1.        ,  0.        ,  0.        ,  0.        ,  0.        ],\n",
       "       [ 0.        ,  0.        ,  0.70710678,  0.70710678,  0.        ,  0.        , -0.70710678, -0.70710678,  0.        ,  0.        ,  0.        ,  0.        ],\n",
       "       [-0.70710678,  0.70710678,  0.        ,  0.        ,  0.        ,  0.        ,  0.        ,  0.        ,  0.70710678, -0.70710678,  0.        ,  0.        ],\n",
       "       [ 0.        ,  0.        ,  0.        ,  1.        ,  0.        ,  0.        ,  0.        ,  0.        ,  0.        , -1.        ,  0.        ,  0.        ],\n",
       "       [ 0.        ,  0.        ,  0.        ,  0.        ,  0.70710678,  0.70710678,  0.        ,  0.        , -0.70710678, -0.70710678,  0.        ,  0.        ],\n",
       "       [ 0.        ,  0.        , -0.70710678,  0.70710678,  0.        ,  0.        ,  0.        ,  0.        ,  0.        ,  0.        ,  0.70710678, -0.70710678],\n",
       "       [ 0.        ,  0.        ,  0.        ,  0.        ,  0.        ,  1.        ,  0.        ,  0.        ,  0.        ,  0.        ,  0.        , -1.        ],\n",
       "       [ 0.        ,  0.        ,  0.        ,  0.        ,  0.        ,  0.        ,  0.        ,  0.        ,  0.        ,  0.        , -0.70710678, -0.70710678],\n",
       "       [ 0.        ,  0.        ,  0.        ,  0.        ,  0.        ,  0.        , -1.        ,  0.        ,  1.        ,  0.        ,  0.        ,  0.        ],\n",
       "       [ 0.        ,  0.        ,  0.        ,  0.        ,  0.        ,  0.        ,  0.        ,  0.        , -1.        ,  0.        ,  1.        ,  0.        ]])"
      ]
     },
     "execution_count": 7,
     "metadata": {},
     "output_type": "execute_result"
    }
   ],
   "source": [
    "# The matrix B with Bx = e is given as follows:\n",
    "def sbv(i,n):\n",
    "    return np.array([1 if i == j else 0 for j in range(n)])\n",
    "\n",
    "def sbvarray(x,l):\n",
    "    return sbv(l.index(x),len(l))\n",
    "\n",
    "a = list(range(1,13))\n",
    "\n",
    "k = np.sqrt(2)/2\n",
    "\n",
    "B_bridge = np.array([ sbvarray(1,a),                                    # e1 = x1\n",
    "               sbvarray(3,a) - sbvarray(1,a),                    # e2 = x3 - x1\n",
    "               sbvarray(5,a) - sbvarray(3,a),                    # e3 = x5 - x3\n",
    "               sbvarray(5,a),                                    # e4 = x5\n",
    "               k*(sbvarray(7,a) - sbvarray(8,a)),                # e5 = k*x7 - k*x8\n",
    "               sbvarray(2,a) - sbvarray(8,a),                    # e6 = x2 - x8\n",
    "               k*(sbvarray(3,a) + sbvarray(4,a) \n",
    "                  - sbvarray(7,a) - sbvarray(8,a)),              # e7 = k*x3 + k*x4 - k*x7 - k*x8 \n",
    "               k*(-sbvarray(1,a) + sbvarray(2,a)\n",
    "                  + sbvarray(9,a) - sbvarray(10,a)),             # e8 = -k*x1 + k*x2 + k*x9 - k*x10\n",
    "               sbvarray(4,a) - sbvarray(10,a),                   # e9 = x4 - x10 \n",
    "               k*(sbvarray(5,a) + sbvarray(6,a) \n",
    "                  - sbvarray(9,a) - sbvarray(10,a)),             # e10 = k*x5 + k*x6 - k*x9 - k*x10\n",
    "               k*(-sbvarray(3,a) + sbvarray(4,a)\n",
    "                  + sbvarray(11,a) - sbvarray(12,a)),            # e11 = -k*e3 + k*e4 + k*e11 - k*e12\n",
    "               sbvarray(6,a) - sbvarray(12,a),                   # e12 = x6 - x12\n",
    "                  k*(-sbvarray(11,a) - sbvarray(12,a)),          # e13 = -k*x11 + -k*x12\n",
    "               -sbvarray(7,a) + sbvarray(9,a),                   # e14 = -x7 + x9\n",
    "               -sbvarray(9,a) + sbvarray(11,a)                   # e15 = -x9 + x11\n",
    "             ])\n",
    "\n",
    "np.set_printoptions(suppress=True, linewidth=1000)\n",
    "\n",
    "B_bridge"
   ]
  },
  {
   "cell_type": "markdown",
   "id": "7bcf5d9e-5f1f-42ac-a995-d715ec16ca4a",
   "metadata": {},
   "source": [
    "Let's suppose that `f = [ 0, 2, 0, 2, 0, 2, 0, 0, 0, 0, 0, 0]`. (We keep the numbering on the forces is the same as the numbering on the displacements. Thus, these forces\n",
    "are *downward* on all three masses in the bottom row.)"
   ]
  },
  {
   "cell_type": "code",
   "execution_count": 8,
   "id": "92844c2b-26c7-4822-9b06-de199262bc9f",
   "metadata": {},
   "outputs": [
    {
     "data": {
      "text/plain": [
       "array([-0.0245008 ,  1.48884085, -0.        ,  1.74923139,  0.0245008 ,  1.48884085,  0.36336953,  1.23365368,  0.        ,  1.65122818, -0.36336953,  1.23365368])"
      ]
     },
     "execution_count": 8,
     "metadata": {},
     "output_type": "execute_result"
    }
   ],
   "source": [
    "ff = 10**6*np.array([0, 2, 0, 2, 0, 2, 0, 0, 0, 0, 0, 0])\n",
    "\n",
    "K2 = makeK([ 9.7* 10**6 if i in [1,2,3,4,6,9,12,14,15] else 6.8943 * 10**6 for i in range (1,16)])\n",
    "\n",
    "\n",
    "A2 = B_bridge.transpose() @ K2 @ B_bridge\n",
    "la.solve(A2,ff)"
   ]
  },
  {
   "cell_type": "markdown",
   "id": "c301bfde-4ff3-4191-8f0d-c25bae44a5c8",
   "metadata": {},
   "source": [
    "## inverse problem\n",
    "\n",
    "The above shows that, given knowledge of the \"spring constants\" $k_i$, and the applied forces $f_i$, we can estimate the displacements $x_i$. This is the \"*forward problem*\".\n",
    "\n",
    "The inverse problem is this: given measurements of the displacements $x_i$, find the spring constants $k_i$.\n",
    "\n",
    "There are many applications of such *inverse problems*.\n",
    "\n",
    "For our bridge problem, note that consider the system\n",
    "\n",
    "$$B^T K B \\mathbf{x} = \\mathbf{f}$$\n",
    "\n",
    "We consider a general case where there are $m$ springs and $n/2$ masses, so that there are $n$ \"displacement components\" (in 2 dimensions).\n",
    "\n",
    "Notice that\n",
    "\n",
    "\\begin{align*}\n",
    "K B \\mathbf{x} =& \\begin{bmatrix} k_1 & 0 & \\cdots & 0 \\\\ \n",
    "0 & k_2 & \\cdots & 0 \\\\\n",
    "\\vdots & \\vdots & \\ddots & \\vdots \\\\\n",
    "0 & 0 & \\cdots & k_m \\end{bmatrix} \\begin{bmatrix} b_{11} & b_{12} & \\cdots & b_{1n} \\\\\n",
    "b_{21} & b_{22} & \\cdots & b_{2n} \\\\\n",
    "\\vdots & \\vdots & \\ddots & \\vdots \\\\\n",
    "b_{m1} & b_{m2} & \\cdots & b_{mn} \\end{bmatrix} \\begin{bmatrix} x_1 \\\\ x_2 \\\\ \\vdots \\\\ x_n \\end{bmatrix} \\\\\n",
    "=& \\operatorname{diag}(B \\mathbf{x}) \\begin{bmatrix} k_1 \\\\ k_2 \\\\ \\vdots \\\\ k_m \\end{bmatrix}\n",
    "\\end{align*}\n",
    "\n",
    "where for a vector $\\mathbf{w} \\in \\mathbb{R}^m$, we obtain an $m\\times m$ matrix\n",
    "$$\\operatorname{diag}(\\mathbf{w}) = \\begin{bmatrix} w_1 & 0 & \\cdots & 0 \\\\\n",
    "0 & w_2 & \\cdots & 0 \\\\\n",
    "\\vdots & \\vdots& \\ddots & \\vdots \\\\\n",
    "0 & 0 & \\cdots & w_m \\end{bmatrix}$$\n",
    "\n",
    "Thus we have\n",
    "$$B^T K B \\mathbf{x} = B^T \\operatorname{diag}(B \\mathbf{x}) \\mathbf{k} = \\mathbf{f}$$\n",
    "which gives some hope for finding the vector $\\mathbf{k}$ given knowledge of $\\mathbf{x}$ and $\\mathbf{f}$."
   ]
  },
  {
   "cell_type": "markdown",
   "id": "97b20e58-efa5-403f-8a57-60d52cad04ab",
   "metadata": {},
   "source": [
    "## the difficulty\n",
    "\n",
    "Note that in the case of our bridge example, the number of \"displacement components\" we are tracking is $n = 12$,\n",
    "while the number of springs is $m = 15$.\n",
    "\n",
    "Note that $B^T$ is an $n \\times m$ matrix, that $B \\mathbf{x}$ is in $\\mathbb{R}^m$, so that\n",
    "$B^T \\operatorname{diag}(B\\mathbf{x})$ is an $n \\times m$ matrix.\n",
    "\n",
    "In our example, the linear equation $B^T \\operatorname{diag}(B\\mathbf{x}) \\mathbf{k} = \\mathbf{f}$ amounts to a system of\n",
    "$12$ linear equations in $15$ unknowns.\n",
    "\n",
    "In general, if $n < m$, the system is *underdetermined*. As a consequence, the linear equation does not uniquely determine\n",
    "the spring constants $k_i$ -- i.e. the entries in the vector $\\mathbf{k}$.\n",
    "\n",
    "One way to fix this:\n",
    "\n",
    "take measurements $\\mathbf{x}$ for *various different force loads* $\\mathbf{f}$.\n",
    "\n",
    "More precisely, consider different force loads $\\mathbf{f}_1,\\cdots,\\mathbf{f}_p$.\n",
    "For each of these force loads, determine the displacement vectors $\\mathbf{x}_1,\\cdots,\\mathbf{x}_p$.\n",
    "\n",
    "We now obtain a $pn \\times m$ matrix system\n",
    "$$\\begin{bmatrix}\n",
    "B^T \\operatorname{diag}(B \\mathbf{x}_1) \\\\\n",
    "B^T \\operatorname{diag}(B \\mathbf{x}_2) \\\\\n",
    "\\vdots \\\\\n",
    "B^T \\operatorname{diag}(B \\mathbf{x}_p) \\\\\n",
    "\\end{bmatrix} \\begin{bmatrix} k_1 \\\\ k_2 \\\\ \\vdots \\\\ k_m \\end{bmatrix} = \n",
    "\\begin{bmatrix} \\mathbf{f}_1 \\\\ \\mathbf{f}_2 \\\\ \\vdots \\\\ \\mathbf{f}_p \\end{bmatrix}.$$\n",
    "\n",
    "If we choose $p$ sufficiently large and if we make sure that the $np \\times m$ coefficient\n",
    "matrix has rank at least $m$, we expect to find a solution."
   ]
  },
  {
   "cell_type": "code",
   "execution_count": 4,
   "id": "b20e6351-253f-4f30-b82a-b500d1e09679",
   "metadata": {},
   "outputs": [
    {
     "data": {
      "text/plain": [
       "array([[1, 0, 0, 0],\n",
       "       [0, 2, 0, 0],\n",
       "       [0, 0, 3, 0],\n",
       "       [0, 0, 0, 4]])"
      ]
     },
     "execution_count": 4,
     "metadata": {},
     "output_type": "execute_result"
    }
   ],
   "source": [
    "def diag(w):\n",
    "    n = len(w)\n",
    "    return np.array([ w[i]*sbv(i,n) for i in range(n) ])\n",
    "\n",
    "diag([1,2,3,4])"
   ]
  },
  {
   "cell_type": "markdown",
   "id": "f5db7733-ff5d-49e1-810a-15cbd888a11e",
   "metadata": {},
   "source": [
    "Let's consider some data. We have collected displacement measurements for three different force loads.\n",
    "The displacement measurements are outside of engineering tolerances!\n",
    "\n",
    "We want to know which spring (=bridge component) is defective."
   ]
  },
  {
   "cell_type": "code",
   "execution_count": 11,
   "id": "cc0ba48e-2ab9-4d51-9abd-fa65d1a4ebc0",
   "metadata": {},
   "outputs": [
    {
     "data": {
      "text/plain": [
       "(array([      0, 2000000,       0,       0,       0,       0,       0,       0,       0,       0,       0,       0]),\n",
       " array([ 0.04465819,  0.69735727,  0.08117014,  0.49972439,  0.0584346 ,  0.29520329,  0.09315958,  0.52830165, -0.04706315,  0.50115528, -0.11445688,  0.25950424]),\n",
       " array([      0,       0,       0, 2000000,       0,       0,       0,       0,       0,       0,       0,       0]),\n",
       " array([-0.03453953,  0.49972439,  0.01867222,  0.76169019,  0.03453953,  0.49283618,  0.16411865,  0.45421336,  0.0034441 ,  0.66577233, -0.15233463,  0.44242935]),\n",
       " array([      0,       0,       0,       0,       0, 2000000,       0,       0,       0,       0,       0,       0]),\n",
       " array([-0.04465819,  0.29520329, -0.08117014,  0.49283618, -0.0584346 ,  0.69735727,  0.11302599,  0.25807335,  0.04706315,  0.49140529, -0.09172868,  0.52687076]))"
      ]
     },
     "execution_count": 11,
     "metadata": {},
     "output_type": "execute_result"
    }
   ],
   "source": [
    "# measurements\n",
    "\n",
    "# for these forces\n",
    "f1 = 10**6*np.array([0, 2, 0, 0, 0, 0, 0, 0, 0, 0, 0, 0])\n",
    "f2 = 10**6*np.array([0, 0, 0, 2, 0, 0, 0, 0, 0, 0, 0, 0])\n",
    "f3 = 10**6*np.array([0, 0, 0, 0, 0, 2, 0, 0, 0, 0, 0, 0])\n",
    "\n",
    "# measured the following displacements\n",
    "x1 = np.array([ 0.04465819,  0.69735727,  0.08117014,  0.49972439,  0.0584346 ,\n",
    "        0.29520329,  0.09315958,  0.52830165, -0.04706315,  0.50115528,\n",
    "       -0.11445688,  0.25950424])\n",
    "\n",
    "x2 =np.array([-0.03453953,  0.49972439,  0.01867222,  0.76169019,  0.03453953,\n",
    "        0.49283618,  0.16411865,  0.45421336,  0.0034441 ,  0.66577233,\n",
    "       -0.15233463,  0.44242935])\n",
    "\n",
    "x3 = np.array([-0.04465819,  0.29520329, -0.08117014,  0.49283618, -0.0584346 ,\n",
    "        0.69735727,  0.11302599,  0.25807335,  0.04706315,  0.49140529,\n",
    "       -0.09172868,  0.52687076])\n",
    "\n",
    "(f1,x1,f2,x2,f3,x3)"
   ]
  },
  {
   "cell_type": "code",
   "execution_count": 6,
   "id": "305751b6-1565-4f20-85c0-d0acaae57e84",
   "metadata": {},
   "outputs": [
    {
     "data": {
      "text/plain": [
       "['k1 = 9699998.607722549',\n",
       " 'k2 = 2000000.4090927793',\n",
       " 'k3 = 9700000.122052612',\n",
       " 'k4 = 9699998.86756195',\n",
       " 'k5 = 6894300.281687661',\n",
       " 'k6 = 9700000.126240244',\n",
       " 'k7 = 6894300.249842933',\n",
       " 'k8 = 6894299.831309714',\n",
       " 'k9 = 9699998.96686751',\n",
       " 'k10 = 6894300.258596171',\n",
       " 'k11 = 6894299.903274672',\n",
       " 'k12 = 9700000.298712648',\n",
       " 'k13 = 6894300.008658496',\n",
       " 'k14 = 9700000.174220743',\n",
       " 'k15 = 9700000.624519458']"
      ]
     },
     "execution_count": 6,
     "metadata": {},
     "output_type": "execute_result"
    }
   ],
   "source": [
    "coeffMatrix = np.concatenate([ B_bridge.transpose() @ diag( B_bridge @ x ) for x in [x1,x2,x3] ] )\n",
    "\n",
    "kvalues,_,_,_ = la.lstsq(coeffMatrix , np.concatenate([f1,f2,f3]),rcond=None)\n",
    "\n",
    "\n",
    "[ f\"k{i+1} = {kvalues[i]}\" for i in range(len(kvalues))]"
   ]
  },
  {
   "cell_type": "markdown",
   "id": "aea314f5-1f10-416f-ae16-6c0b43af012f",
   "metadata": {},
   "source": [
    "We see that `k2` is different than expected and needs to be replaced!"
   ]
  }
 ],
 "metadata": {
  "kernelspec": {
   "display_name": "Python 3 (ipykernel)",
   "language": "python",
   "name": "python3"
  },
  "language_info": {
   "codemirror_mode": {
    "name": "ipython",
    "version": 3
   },
   "file_extension": ".py",
   "mimetype": "text/x-python",
   "name": "python",
   "nbconvert_exporter": "python",
   "pygments_lexer": "ipython3",
   "version": "3.11.6"
  }
 },
 "nbformat": 4,
 "nbformat_minor": 5
}
