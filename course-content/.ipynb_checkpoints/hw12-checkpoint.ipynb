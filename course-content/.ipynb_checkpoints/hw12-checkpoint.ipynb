{
 "cells": [
  {
   "cell_type": "code",
   "execution_count": 1,
   "id": "a48bbb79-eea5-4cfd-aef4-9aa78cdc5a8a",
   "metadata": {},
   "outputs": [],
   "source": [
    "import numpy as np\n",
    "import numpy.linalg as la\n"
   ]
  },
  {
   "cell_type": "code",
   "execution_count": 4,
   "id": "6c7d0229-a6a4-4d88-a280-4902eea4442e",
   "metadata": {},
   "outputs": [],
   "source": [
    "r = { \"student01\": {\"% exercises\":  20, \"score\": 55},\n",
    "      \"student02\": {\"% exercises\": 100, \"score\": 100},\n",
    "      \"student03\": {\"% exercises\":  90, \"score\": 100},\n",
    "      \"student04\": {\"% exercises\":  70, \"score\": 70},\n",
    "      \"student05\": {\"% exercises\":  50, \"score\": 75},\n",
    "      \"student06\": {\"% exercises\":  10, \"score\": 25},\n",
    "      \"student07\": {\"% exercises\":  30, \"score\": 60}\n",
    "    }\n"
   ]
  },
  {
   "cell_type": "code",
   "execution_count": 7,
   "id": "e9e3de57-d408-4441-827f-988176e325d3",
   "metadata": {},
   "outputs": [
    {
     "data": {
      "text/plain": [
       "array([[ 20,  55],\n",
       "       [100, 100],\n",
       "       [ 90, 100],\n",
       "       [ 70,  70],\n",
       "       [ 50,  75],\n",
       "       [ 10,  25],\n",
       "       [ 30,  60]])"
      ]
     },
     "execution_count": 7,
     "metadata": {},
     "output_type": "execute_result"
    }
   ],
   "source": [
    "M = np.array([[r[s][\"% exercises\"], r[s][\"score\"]] for s in r.keys()])\n",
    "M"
   ]
  },
  {
   "cell_type": "code",
   "execution_count": 85,
   "id": "3bd6e00e-ad66-4240-aed2-80a73ad2d6e9",
   "metadata": {},
   "outputs": [],
   "source": [
    "from itertools import chain,combinations\n",
    "def nset(n,iterable):\n",
    "    s = list(iterable)\n",
    "    return list(combinations(s,n))\n",
    "\n"
   ]
  },
  {
   "cell_type": "code",
   "execution_count": 86,
   "id": "c73781d4-3490-49c0-bb06-9df43df524d4",
   "metadata": {},
   "outputs": [
    {
     "data": {
      "text/plain": [
       "[('a', 'b', 'c'),\n",
       " ('a', 'b', 'd'),\n",
       " ('a', 'b', 'e'),\n",
       " ('a', 'c', 'd'),\n",
       " ('a', 'c', 'e'),\n",
       " ('a', 'd', 'e'),\n",
       " ('b', 'c', 'd'),\n",
       " ('b', 'c', 'e'),\n",
       " ('b', 'd', 'e'),\n",
       " ('c', 'd', 'e')]"
      ]
     },
     "execution_count": 86,
     "metadata": {},
     "output_type": "execute_result"
    }
   ],
   "source": [
    "nset(3,['a','b','c','d','e'])"
   ]
  },
  {
   "cell_type": "code",
   "execution_count": 89,
   "id": "1118e997-e0e4-4627-8cbf-584761f9eeb8",
   "metadata": {},
   "outputs": [],
   "source": [
    "correct = { 'a': 150,\n",
    "            'b': 125,\n",
    "            'c': 275,\n",
    "            'd': 80,\n",
    "            'e': 300\n",
    "          }\n",
    "\n",
    "def mkestimates(correct):\n",
    "    keys = correct.keys()\n",
    "    return { (x,y,z): np.round(correct[x] + correct[y] + correct[z] + rng.uniform(-2,2),2)\n",
    "              for (x,y,z) in nset(3,keys) }\n",
    "          \n",
    "        \n",
    "        "
   ]
  },
  {
   "cell_type": "code",
   "execution_count": 91,
   "id": "b3976a5f-37ef-4904-b2aa-921e94580134",
   "metadata": {},
   "outputs": [
    {
     "data": {
      "text/plain": [
       "{('a', 'b', 'c'): 551.03,\n",
       " ('a', 'b', 'd'): 353.19,\n",
       " ('a', 'b', 'e'): 574.36,\n",
       " ('a', 'c', 'd'): 506.1,\n",
       " ('a', 'c', 'e'): 724.92,\n",
       " ('a', 'd', 'e'): 531.9,\n",
       " ('b', 'c', 'd'): 478.21,\n",
       " ('b', 'c', 'e'): 701.98,\n",
       " ('b', 'd', 'e'): 504.75,\n",
       " ('c', 'd', 'e'): 653.07}"
      ]
     },
     "execution_count": 91,
     "metadata": {},
     "output_type": "execute_result"
    }
   ],
   "source": [
    "mass_estimates = mkestimates(correct)\n",
    "\n",
    "mass_estimates"
   ]
  },
  {
   "cell_type": "code",
   "execution_count": 93,
   "id": "1c2b666a-b366-476f-8de8-1762fcd12bb8",
   "metadata": {},
   "outputs": [
    {
     "data": {
      "text/plain": [
       "[551.03, 353.19, 574.36, 506.1, 724.92, 531.9, 478.21, 701.98, 504.75, 653.07]"
      ]
     },
     "execution_count": 93,
     "metadata": {},
     "output_type": "execute_result"
    }
   ],
   "source": [
    "# as a vector...\n",
    "b=[mass_estimates[k] for k in mass_estimates.keys() ]\n",
    "b"
   ]
  },
  {
   "cell_type": "code",
   "execution_count": 95,
   "id": "37691327-9d5b-42cb-b8e8-3174e6e62ec4",
   "metadata": {},
   "outputs": [
    {
     "data": {
      "text/plain": [
       "(array([[1, 1, 1, 0, 0],\n",
       "        [1, 1, 0, 1, 0],\n",
       "        [1, 1, 0, 0, 1],\n",
       "        [1, 0, 1, 1, 0],\n",
       "        [1, 0, 1, 0, 1],\n",
       "        [1, 0, 0, 1, 1],\n",
       "        [0, 1, 1, 1, 0],\n",
       "        [0, 1, 1, 0, 1],\n",
       "        [0, 1, 0, 1, 1],\n",
       "        [0, 0, 1, 1, 1]]),\n",
       " array([551.03, 353.19, 574.36, 506.1 , 724.92, 531.9 , 478.21, 701.98,\n",
       "        504.75, 653.07]))"
      ]
     },
     "execution_count": 95,
     "metadata": {},
     "output_type": "execute_result"
    }
   ],
   "source": [
    "def sbv(i,n):\n",
    "    return np.array([1 if j ==i else 0 for j in range(n)])\n",
    "\n",
    "def sbvalpha(elem,ls):\n",
    "    return sbv(list(ls).index(elem),len(ls))\n",
    "\n",
    "M = np.array([sbvalpha(x,correct.keys()) + sbvalpha(y,correct.keys()) + sbvalpha(z,correct.keys()) for (x,y,z) in mass_estimates])\n",
    "b = np.array([mass_estimates[x] for x in mass_estimates.keys()])\n",
    "(M,b)"
   ]
  },
  {
   "cell_type": "code",
   "execution_count": 97,
   "id": "bf762b85-356c-4652-b714-19eea7553ef8",
   "metadata": {},
   "outputs": [
    {
     "data": {
      "text/plain": [
       "(array([[1, 1, 1, 0, 0],\n",
       "        [1, 1, 0, 1, 0],\n",
       "        [1, 1, 0, 0, 1],\n",
       "        [1, 0, 1, 1, 0],\n",
       "        [1, 0, 1, 0, 1],\n",
       "        [1, 0, 0, 1, 1],\n",
       "        [0, 1, 1, 1, 0],\n",
       "        [0, 1, 1, 0, 1],\n",
       "        [0, 1, 0, 1, 1],\n",
       "        [0, 0, 1, 1, 1]]),\n",
       " array([551.03, 353.19, 574.36, 506.1 , 724.92, 531.9 , 478.21, 701.98,\n",
       "        504.75, 653.07]))"
      ]
     },
     "execution_count": 97,
     "metadata": {},
     "output_type": "execute_result"
    }
   ],
   "source": [
    "(M,b)"
   ]
  },
  {
   "cell_type": "code",
   "execution_count": 102,
   "id": "84514190-6a9f-481b-b506-2a8389399468",
   "metadata": {},
   "outputs": [
    {
     "data": {
      "text/plain": [
       "array([[6, 3, 3, 3, 3],\n",
       "       [3, 6, 3, 3, 3],\n",
       "       [3, 3, 6, 3, 3],\n",
       "       [3, 3, 3, 6, 3],\n",
       "       [3, 3, 3, 3, 6]])"
      ]
     },
     "execution_count": 102,
     "metadata": {},
     "output_type": "execute_result"
    }
   ],
   "source": [
    "M.transpose() @ M"
   ]
  },
  {
   "cell_type": "code",
   "execution_count": 74,
   "id": "a75ebfdf-4e54-4cda-ae3a-a5158686e9c5",
   "metadata": {},
   "outputs": [
    {
     "data": {
      "text/plain": [
       "(array([149.6235    , 125.3465    , 275.0235    ,  79.79183333,\n",
       "        300.5365    ]),\n",
       " array([8.07883383]),\n",
       " 5,\n",
       " array([4.24264069, 1.73205081, 1.73205081, 1.73205081, 1.73205081]))"
      ]
     },
     "execution_count": 74,
     "metadata": {},
     "output_type": "execute_result"
    }
   ],
   "source": [
    "aa=la.lstsq(M,b,rcond=None)\n",
    "aa"
   ]
  },
  {
   "cell_type": "code",
   "execution_count": 204,
   "id": "189b4128-65bd-4e8f-a233-476b71f258d2",
   "metadata": {},
   "outputs": [
    {
     "data": {
      "text/plain": [
       "array([ 1.0365    , -1.57183333, -1.1465    ,  1.66116667, -0.2635    ,\n",
       "        1.94816667, -1.95183333,  1.0735    , -0.92483333, -2.28183333])"
      ]
     },
     "execution_count": 204,
     "metadata": {},
     "output_type": "execute_result"
    }
   ],
   "source": [
    "b-M @ aa[0]"
   ]
  },
  {
   "cell_type": "code",
   "execution_count": 117,
   "id": "524b6d69-6b55-47fe-889b-f0c0b9da760d",
   "metadata": {},
   "outputs": [
    {
     "data": {
      "text/plain": [
       "[(0.0, 200.0),\n",
       " (0.05, 200.48775),\n",
       " (0.1, 200.951),\n",
       " (0.15000000000000002, 201.38975),\n",
       " (0.2, 201.804),\n",
       " (0.25, 202.19375),\n",
       " (0.30000000000000004, 202.559),\n",
       " (0.35000000000000003, 202.89975),\n",
       " (0.4, 203.216),\n",
       " (0.45, 203.50775),\n",
       " (0.5, 203.775),\n",
       " (0.55, 204.01775),\n",
       " (0.6000000000000001, 204.236),\n",
       " (0.65, 204.42975),\n",
       " (0.7000000000000001, 204.599),\n",
       " (0.75, 204.74375),\n",
       " (0.8, 204.864),\n",
       " (0.8500000000000001, 204.95974999999999),\n",
       " (0.9, 205.031),\n",
       " (0.9500000000000001, 205.07775),\n",
       " (1.0, 205.1),\n",
       " (1.05, 205.09775),\n",
       " (1.1, 205.071),\n",
       " (1.1500000000000001, 205.01975),\n",
       " (1.2000000000000002, 204.944),\n",
       " (1.25, 204.84375),\n",
       " (1.3, 204.719),\n",
       " (1.35, 204.56975),\n",
       " (1.4000000000000001, 204.396),\n",
       " (1.4500000000000002, 204.19774999999998),\n",
       " (1.5, 203.975),\n",
       " (1.55, 203.72775),\n",
       " (1.6, 203.456),\n",
       " (1.6500000000000001, 203.15975),\n",
       " (1.7000000000000002, 202.839),\n",
       " (1.75, 202.49375),\n",
       " (1.8, 202.124),\n",
       " (1.85, 201.72975),\n",
       " (1.9000000000000001, 201.311),\n",
       " (1.9500000000000002, 200.86775),\n",
       " (2.0, 200.4),\n",
       " (2.0500000000000003, 199.90775),\n",
       " (2.1, 199.391),\n",
       " (2.15, 198.84975),\n",
       " (2.2, 198.284),\n",
       " (2.25, 197.69375),\n",
       " (2.3000000000000003, 197.079),\n",
       " (2.35, 196.43975),\n",
       " (2.4000000000000004, 195.77599999999998),\n",
       " (2.45, 195.08775),\n",
       " (2.5, 194.375),\n",
       " (2.5500000000000003, 193.63774999999998),\n",
       " (2.6, 192.876),\n",
       " (2.6500000000000004, 192.08974999999998),\n",
       " (2.7, 191.279),\n",
       " (2.75, 190.44375),\n",
       " (2.8000000000000003, 189.584),\n",
       " (2.85, 188.69975),\n",
       " (2.9000000000000004, 187.791),\n",
       " (2.95, 186.85775),\n",
       " (3.0, 185.9),\n",
       " (3.0500000000000003, 184.91774999999998),\n",
       " (3.1, 183.911),\n",
       " (3.1500000000000004, 182.87974999999997),\n",
       " (3.2, 181.82399999999998),\n",
       " (3.25, 180.74375),\n",
       " (3.3000000000000003, 179.63899999999998),\n",
       " (3.35, 178.50975),\n",
       " (3.4000000000000004, 177.356),\n",
       " (3.45, 176.17775),\n",
       " (3.5, 174.975),\n",
       " (3.5500000000000003, 173.74775),\n",
       " (3.6, 172.49599999999998),\n",
       " (3.6500000000000004, 171.21974999999998),\n",
       " (3.7, 169.91899999999998),\n",
       " (3.75, 168.59375),\n",
       " (3.8000000000000003, 167.24399999999997),\n",
       " (3.85, 165.86974999999998),\n",
       " (3.9000000000000004, 164.47099999999998),\n",
       " (3.95, 163.04775),\n",
       " (4.0, 161.6),\n",
       " (4.05, 160.12775),\n",
       " (4.1000000000000005, 158.63099999999997),\n",
       " (4.15, 157.10974999999996),\n",
       " (4.2, 155.564),\n",
       " (4.25, 153.99374999999998),\n",
       " (4.3, 152.399),\n",
       " (4.3500000000000005, 150.77974999999998),\n",
       " (4.4, 149.13599999999997),\n",
       " (4.45, 147.46774999999997),\n",
       " (4.5, 145.77499999999998),\n",
       " (4.55, 144.05775),\n",
       " (4.6000000000000005, 142.31599999999997),\n",
       " (4.65, 140.54974999999996),\n",
       " (4.7, 138.75899999999996),\n",
       " (4.75, 136.94375),\n",
       " (4.800000000000001, 135.10399999999996),\n",
       " (4.8500000000000005, 133.23975),\n",
       " (4.9, 131.35099999999997),\n",
       " (4.95, 129.43775),\n",
       " (5.0, 127.49999999999999),\n",
       " (5.050000000000001, 125.53774999999996),\n",
       " (5.1000000000000005, 123.55099999999996),\n",
       " (5.15, 121.53974999999997),\n",
       " (5.2, 119.50399999999999),\n",
       " (5.25, 117.44375),\n",
       " (5.300000000000001, 115.35899999999995),\n",
       " (5.3500000000000005, 113.24974999999995),\n",
       " (5.4, 111.11599999999999),\n",
       " (5.45, 108.95774999999998),\n",
       " (5.5, 106.77499999999998),\n",
       " (5.550000000000001, 104.56774999999993),\n",
       " (5.6000000000000005, 102.33599999999996),\n",
       " (5.65, 100.07974999999996),\n",
       " (5.7, 97.79899999999998),\n",
       " (5.75, 95.49374999999998),\n",
       " (5.800000000000001, 93.16399999999996),\n",
       " (5.8500000000000005, 90.80974999999998),\n",
       " (5.9, 88.43099999999998),\n",
       " (5.95, 86.02774999999997),\n",
       " (6.0, 83.6),\n",
       " (6.050000000000001, 81.14774999999995),\n",
       " (6.1000000000000005, 78.67099999999994),\n",
       " (6.15, 76.16974999999996),\n",
       " (6.2, 73.64399999999995),\n",
       " (6.25, 71.09375),\n",
       " (6.300000000000001, 68.51899999999992),\n",
       " (6.3500000000000005, 65.91974999999996),\n",
       " (6.4, 63.295999999999935),\n",
       " (6.45, 60.64775),\n",
       " (6.5, 57.974999999999994),\n",
       " (6.550000000000001, 55.27774999999994),\n",
       " (6.6000000000000005, 52.555999999999926),\n",
       " (6.65, 49.80974999999998),\n",
       " (6.7, 47.03899999999999),\n",
       " (6.75, 44.24374999999998),\n",
       " (6.800000000000001, 41.42399999999995),\n",
       " (6.8500000000000005, 38.57974999999996),\n",
       " (6.9, 35.710999999999956),\n",
       " (6.95, 32.81774999999996),\n",
       " (7.0, 29.899999999999977),\n",
       " (7.050000000000001, 26.957749999999947),\n",
       " (7.1000000000000005, 23.99099999999993),\n",
       " (7.15, 20.999749999999977),\n",
       " (7.2, 17.983999999999952),\n",
       " (7.25, 14.943749999999966),\n",
       " (7.300000000000001, 11.878999999999905),\n",
       " (7.3500000000000005, 8.78974999999997),\n",
       " (7.4, 5.675999999999931),\n",
       " (7.45, 2.53774999999996),\n",
       " (7.5, -0.625)]"
      ]
     },
     "execution_count": 117,
     "metadata": {},
     "output_type": "execute_result"
    }
   ],
   "source": [
    "def f(x,v0,h0):\n",
    "    return -9.8*x**2/2 + v0*x + h0 \n",
    "\n",
    "def ff(x):\n",
    "    return f(x,10,200)\n",
    "\n",
    "[ (x,ff(x)) for x in np.arange(0,7.55,.05)]"
   ]
  },
  {
   "cell_type": "code",
   "execution_count": 107,
   "id": "a2eb0e8f-aaa7-4e35-af19-a8e5be58b045",
   "metadata": {},
   "outputs": [
    {
     "data": {
      "text/plain": [
       "array([ 0. ,  0.5,  1. ,  1.5,  2. ,  2.5,  3. ,  3.5,  4. ,  4.5,  5. ,\n",
       "        5.5,  6. ,  6.5,  7. ,  7.5,  8. ,  8.5,  9. ,  9.5, 10. , 10.5,\n",
       "       11. , 11.5, 12. , 12.5, 13. , 13.5, 14. , 14.5, 15. , 15.5, 16. ,\n",
       "       16.5, 17. , 17.5, 18. , 18.5, 19. , 19.5])"
      ]
     },
     "execution_count": 107,
     "metadata": {},
     "output_type": "execute_result"
    }
   ],
   "source": [
    "x = np.arange(0,20,.5)\n",
    "x"
   ]
  },
  {
   "cell_type": "code",
   "execution_count": 134,
   "id": "7717576d-61b3-4e7e-8c2e-1a76d4683a3e",
   "metadata": {},
   "outputs": [
    {
     "data": {
      "text/plain": [
       "{0.0: 199.6,\n",
       " 0.25: 202.96,\n",
       " 0.5: 207.23,\n",
       " 0.75: 208.29,\n",
       " 1.0: 207.47,\n",
       " 1.25: 203.96,\n",
       " 1.5: 199.18,\n",
       " 1.75: 202.91,\n",
       " 2.0: 204.29,\n",
       " 2.25: 196.31,\n",
       " 2.5: 195.71,\n",
       " 2.75: 187.89,\n",
       " 3.0: 187.61,\n",
       " 3.25: 177.12,\n",
       " 3.5: 171.07,\n",
       " 3.75: 171.89,\n",
       " 4.0: 158.68,\n",
       " 4.25: 152.64,\n",
       " 4.5: 146.7,\n",
       " 4.75: 138.52,\n",
       " 5.0: 127.27,\n",
       " 5.25: 122.38,\n",
       " 5.5: 103.97,\n",
       " 5.75: 96.91,\n",
       " 6.0: 83.08,\n",
       " 6.25: 67.34,\n",
       " 6.5: 55.75,\n",
       " 6.75: 45.42,\n",
       " 7.0: 25.33,\n",
       " 7.25: 14.67,\n",
       " 7.5: -1.45}"
      ]
     },
     "execution_count": 134,
     "metadata": {},
     "output_type": "execute_result"
    }
   ],
   "source": [
    "#height_estimates = { x: np.round(ff(x) + rng.uniform(-5,5),2) for x in np.arange(0,7.55,.25) }\n",
    "#height_estimates"
   ]
  },
  {
   "cell_type": "code",
   "execution_count": 136,
   "id": "8c02679c-053a-4a0f-8f61-3cfab15d1623",
   "metadata": {},
   "outputs": [],
   "source": [
    "   height_estimates = {0.0: 199.6,\n",
    "                       0.25: 202.96,\n",
    "                       0.5: 207.23,\n",
    "                       0.75: 208.29,\n",
    "                       1.0: 207.47,\n",
    "                       1.25: 203.96,\n",
    "                       1.5: 199.18,\n",
    "                       1.75: 202.91,\n",
    "                       2.0: 204.29,\n",
    "                       2.25: 196.31,\n",
    "                       2.5: 195.71,\n",
    "                       2.75: 187.89,\n",
    "                       3.0: 187.61,\n",
    "                       3.25: 177.12,\n",
    "                       3.5: 171.07,\n",
    "                       3.75: 171.89,\n",
    "                       4.0: 158.68,\n",
    "                       4.25: 152.64,\n",
    "                       4.5: 146.7,\n",
    "                       4.75: 138.52,\n",
    "                       5.0: 127.27,\n",
    "                       5.25: 122.38,\n",
    "                       5.5: 103.97,\n",
    "                       5.75: 96.91,\n",
    "                       6.0: 83.08,\n",
    "                       6.25: 67.34,\n",
    "                       6.5: 55.75,\n",
    "                       6.75: 45.42,\n",
    "                       7.0: 25.33,\n",
    "                       7.25: 14.67,\n",
    "                       7.5: -1.45}"
   ]
  },
  {
   "cell_type": "code",
   "execution_count": 197,
   "id": "2f477b4c-5b5c-4888-a0a6-0e8df072afa8",
   "metadata": {},
   "outputs": [
    {
     "data": {
      "text/plain": [
       "[<matplotlib.lines.Line2D at 0x7f8f4f957fd0>]"
      ]
     },
     "execution_count": 197,
     "metadata": {},
     "output_type": "execute_result"
    },
    {
     "data": {
      "image/png": "[encoded data removed]",
      "text/plain": [
       "<Figure size 1200x600 with 1 Axes>"
      ]
     },
     "metadata": {},
     "output_type": "display_data"
    }
   ],
   "source": [
    "import matplotlib.pyplot as plt\n",
    "\n",
    "## lists x,y have been populated; lets plot the points\n",
    "def plot_data(x,y):\n",
    "    fig, ax = plt.subplots(figsize=(12,6))\n",
    "    return ax.plot(x,y,\"o\")\n",
    "\n",
    "x1 = np.array(list(height_estimates.keys()))\n",
    "y1 = np.array(list(height_estimates.values()))\n",
    "plot_data(x1,y1)"
   ]
  },
  {
   "cell_type": "code",
   "execution_count": 144,
   "id": "3d1798f6-7386-4de3-b85c-dff85dbf46a4",
   "metadata": {},
   "outputs": [
    {
     "data": {
      "text/plain": [
       "array([ -4.87577207,   9.52224214, 201.12954545])"
      ]
     },
     "execution_count": 144,
     "metadata": {},
     "output_type": "execute_result"
    }
   ],
   "source": [
    "Mf = np.array([[t**2, t, 1] for t in height_estimates.keys() ])\n",
    "Mb = np.array([height_estimates[k] for k in height_estimates.keys()])\n",
    "\n",
    "coeffs = la.lstsq(Mf,Mb,rcond=None)[0]\n",
    "coeffs"
   ]
  },
  {
   "cell_type": "code",
   "execution_count": 153,
   "id": "90d83b3a-f917-4f8e-8d60-5390064a2033",
   "metadata": {},
   "outputs": [
    {
     "data": {
      "text/plain": [
       "array([  9.70395161, 200.90997984])"
      ]
     },
     "execution_count": 153,
     "metadata": {},
     "output_type": "execute_result"
    }
   ],
   "source": [
    "MMf = np.array([[t, 1] for t in height_estimates.keys() ])\n",
    "MMb = np.array([height_estimates[k] + (9.8/2)*k**2 for k in height_estimates.keys()])\n",
    "\n",
    "coeffs_alt = la.lstsq(MMf,MMb,rcond=None)[0]\n",
    "coeffs_alt"
   ]
  },
  {
   "cell_type": "code",
   "execution_count": 201,
   "id": "13130356-5f8b-4870-8907-526be42c6979",
   "metadata": {},
   "outputs": [
    {
     "name": "stdout",
     "output_type": "stream",
     "text": [
      "f(t) = -4.876*t^2 + 9.522*t + 201.1\n",
      "f(t) = -4.9*t^2 + 9.704*t + 200.9\n"
     ]
    }
   ],
   "source": [
    "def mk_func(cc):\n",
    "    \n",
    "    # get the coefficients and report them\n",
    "    if len(cc) == 3:\n",
    "      alpha,beta,gamma = cc\n",
    "    else:\n",
    "      alpha = -9.8/2\n",
    "      beta,gamma = cc\n",
    "    print(f\"f(t) = {alpha:.04}*t^2 + {beta:.04}*t + {gamma:.04}\")\n",
    "    \n",
    "    # return the linear function determined by these coefficients\n",
    "    return lambda t:alpha*t**2 + beta*t + gamma\n",
    "    \n",
    "fa = mk_func(coeffs)\n",
    "fb = mk_func(coeffs_alt)\n"
   ]
  },
  {
   "cell_type": "code",
   "execution_count": 191,
   "id": "b539c9d1-7e56-4ae7-befd-074315397ac7",
   "metadata": {},
   "outputs": [
    {
     "data": {
      "text/plain": [
       "(array([0, 1, 2, 3, 4]),\n",
       " [0.0,\n",
       "  0.25,\n",
       "  0.5,\n",
       "  0.75,\n",
       "  1.0,\n",
       "  1.25,\n",
       "  1.5,\n",
       "  1.75,\n",
       "  2.0,\n",
       "  2.25,\n",
       "  2.5,\n",
       "  2.75,\n",
       "  3.0,\n",
       "  3.25,\n",
       "  3.5,\n",
       "  3.75,\n",
       "  4.0,\n",
       "  4.25,\n",
       "  4.5,\n",
       "  4.75,\n",
       "  5.0,\n",
       "  5.25,\n",
       "  5.5,\n",
       "  5.75,\n",
       "  6.0,\n",
       "  6.25,\n",
       "  6.5,\n",
       "  6.75,\n",
       "  7.0,\n",
       "  7.25,\n",
       "  7.5])"
      ]
     },
     "execution_count": 191,
     "metadata": {},
     "output_type": "execute_result"
    }
   ],
   "source": [
    "aaaa = np.arange(5)\n",
    "fa(aaaa)\n",
    "(aaaa,x1)"
   ]
  },
  {
   "cell_type": "code",
   "execution_count": 174,
   "id": "aeee754e-6a21-4a68-9ac8-35fc56bf2159",
   "metadata": {},
   "outputs": [],
   "source": [
    "def plot_curve_fit(x0,f,x,y):\n",
    "    # graph the line with slope alpha and y-intercept beta, and plot the data points\n",
    "    #\n",
    "    fig,ax = plt.subplots(figsize=(12,6))\n",
    "    ax.plot(x0,f(x0))\n",
    "    ax.plot(x,y,'o')\n",
    "\n",
    "#    ax.plot(x0,f(x0))\n",
    "\n",
    "    return fig,ax"
   ]
  },
  {
   "cell_type": "code",
   "execution_count": 202,
   "id": "7d9b5d4d-542c-4c79-877b-fc50c1c9985b",
   "metadata": {},
   "outputs": [
    {
     "data": {
      "text/plain": [
       "(<Figure size 1200x600 with 1 Axes>, <Axes: >)"
      ]
     },
     "execution_count": 202,
     "metadata": {},
     "output_type": "execute_result"
    },
    {
     "data": {
      "image/png": "[encoded data removed]",
      "text/plain": [
       "<Figure size 1200x600 with 1 Axes>"
      ]
     },
     "metadata": {},
     "output_type": "display_data"
    }
   ],
   "source": [
    "plot_curve_fit(x1,fa,x1,y1)"
   ]
  },
  {
   "cell_type": "code",
   "execution_count": 203,
   "id": "bcc8c228-c4b4-4c65-bea1-31d257000d06",
   "metadata": {},
   "outputs": [
    {
     "data": {
      "text/plain": [
       "(<Figure size 1200x600 with 1 Axes>, <Axes: >)"
      ]
     },
     "execution_count": 203,
     "metadata": {},
     "output_type": "execute_result"
    },
    {
     "data": {
      "image/png": "[encoded data removed]",
      "text/plain": [
       "<Figure size 1200x600 with 1 Axes>"
      ]
     },
     "metadata": {},
     "output_type": "display_data"
    }
   ],
   "source": [
    "plot_curve_fit(x1,fb,x1,y1)"
   ]
  },
  {
   "cell_type": "code",
   "execution_count": null,
   "id": "34b96805-df70-4f9f-959b-b43027ace317",
   "metadata": {},
   "outputs": [],
   "source": []
  }
 ],
 "metadata": {
  "kernelspec": {
   "display_name": "Python 3 (ipykernel)",
   "language": "python",
   "name": "python3"
  },
  "language_info": {
   "codemirror_mode": {
    "name": "ipython",
    "version": 3
   },
   "file_extension": ".py",
   "mimetype": "text/x-python",
   "name": "python",
   "nbconvert_exporter": "python",
   "pygments_lexer": "ipython3",
   "version": "3.11.6"
  }
 },
 "nbformat": 4,
 "nbformat_minor": 5
}
