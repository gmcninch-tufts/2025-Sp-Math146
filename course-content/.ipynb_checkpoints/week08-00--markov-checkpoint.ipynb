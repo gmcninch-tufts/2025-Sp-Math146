{
 "cells": [
  {
   "cell_type": "markdown",
   "metadata": {},
   "source": [
    "# [George McNinch](http://gmcninch.math.tufts.edu) Math 87 - Spring 2024\n",
    "\n",
    "# Week 8\n",
    "\n",
    "# Stochastic matrices & Markov Chains"
   ]
  },
  {
   "cell_type": "markdown",
   "metadata": {
    "slideshow": {
     "slide_type": "slide"
    }
   },
   "source": [
    "Probability, power iteration, and stochastic matrices\n",
    "-----------------------------------------------------\n",
    "\n",
    "A vector $\\mathbf{v} = \\begin{bmatrix} v_1 & v_2 & \\cdots & v_n \\end{bmatrix}^T \\in \\mathbb{R}^n$ will be said to be a *probability vector* if\n",
    "all of its entries $v_i$ satisfy $v_i \\ge 0$ and if\n",
    "$$\\begin{bmatrix} 1 & 1 & \\cdots & 1 \\end{bmatrix} \\cdot \\mathbf{v} = \\sum_{i=1}^n v_i = 1.$$\n",
    "\n",
    "Let $A = \\begin{bmatrix} a_{ij} \\end{bmatrix} \\in \\mathbb{R}^{n \\times n}$. We say that $A$ is a *stochastic matrix* if $a_{ij} \\ge 0$ for all $i,j$ and if\n",
    "$$\\begin{bmatrix} 1 & 1 & \\cdots & 1 \\end{bmatrix} \\cdot A = \\begin{bmatrix} 1 &  1 &  \\cdots & 1 \\end{bmatrix};$$\n",
    "in words, $A$ is a stochastic matrix if each column of $A$ is a probability vector.\n",
    "\n",
    "Notice that if $\\mathbf{v}$ is a probability vector, and $A$ is a stochastic matrix, then $A \\mathbf{v}$ is again a probability vector.\n",
    "\n",
    "Indeed, by the definitions we have\n",
    "$$\\begin{bmatrix} 1 & 1 & \\cdots & 1 \\end{bmatrix} \\cdot A \\cdot\\mathbf{v}\n",
    "= \\begin{bmatrix} 1 & 1 & \\cdots & 1 \\end{bmatrix} \\cdot \\mathbf{v} = 1$$\n",
    "\n",
    "As a consequence if $A$ and $B$ are stochastic $n \\times n$ matrices, then \n",
    "also $A B$ is stochastic. In particular, $A^m$ is stochastic for all $m \\ge 0$."
   ]
  },
  {
   "cell_type": "markdown",
   "metadata": {
    "slideshow": {
     "slide_type": "slide"
    }
   },
   "source": [
    "Eigenvalues of stochastic matrices\n",
    "----------------------------------\n",
    "\n",
    "**Proposition:** Let $A$ be a stochastic matrix.  \n",
    "**a)** $A$ has an eigenvector with eigenvalue 1.  \n",
    "**b)** Let $\\lambda$ be any eigenvalue of a $A$.  Then $|\\lambda| \\le 1$.  \n",
    "**c)** If $\\mathbf{w}$ is an eigenvector of $A$ with eigenvalue $\\lambda$ satisfying\n",
    "$\\lambda \\ne 1$ then $\\begin{bmatrix} 1 & 1 & \\cdots & 1 \\end{bmatrix} \\mathbf{w} = 0$.\n",
    "\n",
    "*Sketch:* \n",
    "\n",
    "For **a)**, note that taking transposes and applying the definition, we find that\n",
    "$$A^T \\cdot \\begin{bmatrix} 1 & 1 & \\cdots & 1 \\end{bmatrix}^T = \\begin{bmatrix} 1 & 1 & \\cdots & 1 \\end{bmatrix}^T;$$\n",
    "thus $\\begin{bmatrix} 1 & 1 & \\cdots & 1 \\end{bmatrix}^T$ is an eigenvector for $A^T$ with eigenvalue $1$. Since the matrices $A$ and $A^T$ have the same characteristic polynomial and hence the same eigenvalues, the assertion **a)** now follows. \n",
    "\n",
    "Since all entries $a_{ij}$ of $A$ satisfy $0 \\le a_{ij} \\le 1$, assertion **b)** is a consequence of [Gershgorin's Theorem](https://en.wikipedia.org/wiki/Gershgorin_circle_theorem).\n",
    "\n"
   ]
  },
  {
   "cell_type": "markdown",
   "metadata": {
    "slideshow": {
     "slide_type": "subslide"
    }
   },
   "source": [
    "Proof of **c)**:\n",
    "-----------------\n",
    "\n",
    "On one hand, we have \n",
    "\n",
    "$$\\begin{bmatrix} 1 & 1 & \\cdots & 1 \\end{bmatrix} \\lambda \\mathbf{w} = \\lambda  \n",
    "\\left(\\begin{bmatrix} 1 & 1 & \\cdots & 1 \\end{bmatrix} \\mathbf{w}\\right)$$\n",
    "\n",
    "On the other hand, since $A$ is stochastic we have\n",
    "\n",
    "$$\\begin{bmatrix} 1 & 1 & \\cdots & 1 \\end{bmatrix} A \\mathbf{w}\n",
    "= \\begin{bmatrix} 1 & 1 & \\cdots & 1 \\end{bmatrix} \\mathbf{w};$$\n",
    "\n",
    "since $A\\mathbf{w} = \\lambda \\mathbf{w}$ and since $\\mathbf{w} \\ne \\mathbf{0}$, we conclude\n",
    "that\n",
    "\n",
    "$$ \\begin{bmatrix} 1 & 1 & \\cdots & 1 \\end{bmatrix} \\mathbf{w} = \n",
    "\\lambda \\begin{bmatrix} 1 & 1 & \\cdots & 1 \\end{bmatrix} \\mathbf{w}.$$\n",
    "\n",
    "Since $\\lambda \\ne 1$ by assumption, this is only possible if\n",
    "$\\begin{bmatrix} 1 & 1 & \\cdots & 1 \\end{bmatrix} \\mathbf{w} = 0$, as asserted."
   ]
  },
  {
   "cell_type": "markdown",
   "metadata": {
    "slideshow": {
     "slide_type": "slide"
    }
   },
   "source": [
    "Power iteration for stochastic matrices\n",
    "----------------------------------------\n",
    "\n",
    "Let $A$ be a stochastic matrix, and *suppose* that the eigenvalue $\\lambda = 1$ has multiplicity one. This means that the *1-eigenspace* has dimension 1. \n",
    "\n",
    "More concretely, this means that $A - \\mathbf{I_n}$ has rank $n-1$.\n",
    "\n",
    "**Remark:** If $A$ has $n$ distinct eigenvalues, then the each eigenspace has dimension 1.\n",
    "\n",
    "We have the following:\n"
   ]
  },
  {
   "cell_type": "markdown",
   "metadata": {
    "slideshow": {
     "slide_type": "subslide"
    }
   },
   "source": [
    "Corollary \n",
    "----------\n",
    "Suppose that the stochastic matrix $A$ is diagonalizable, and that  the *1-eigenspace* of $A$ has dimension 1. Let $\\mathbf{v}$ be an eigenvector for $A$ with eigenvalue 1, and set $c = \\begin{bmatrix} 1 & 1 & \\cdots & 1 \\end{bmatrix} \\mathbf{v}$.\n",
    "Then $\\mathbf{w} = \\dfrac{\\mathbf{v}}{c}$ is a probability vector, and\n",
    "\n",
    "$$A^m \\to B \\quad \\text{as $m \\to \\infty$}$$\n",
    "\n",
    "for a stochastic matrix $B$. Each column of $B$ is equal to $\\mathbf{w}$.\n",
    "\n"
   ]
  },
  {
   "cell_type": "markdown",
   "metadata": {
    "slideshow": {
     "slide_type": "subslide"
    }
   },
   "source": [
    "**Sketch:**\n",
    "\n",
    "For $1 \\le i \\le n$, the $i$-th column of $B$ may be computed as \n",
    "\n",
    "$$\\lim_{m \\to \\infty} A^m \\mathbf{e}_i$$\n",
    "\n",
    "where $\\mathbf{e}_i$ is the $i$-th standard basis vector.\n",
    "\n",
    "Let $\\mathbf{v} = \\mathbf{v}_1,\\dots,\\mathbf{v}_n$ be linearly independent eigenvectors for $A$.\n",
    "\n",
    "When $j>1$, the eigenvalue for $\\mathbf{v}_j$ is $<1$ by assumption, and it follows from the preceding results that $\\begin{bmatrix} 1 & 1 & \\cdots & 1 \\end{bmatrix} \\cdot \\mathbf{v}_j = 0$\n",
    "for $j>1$.\n",
    "\n",
    "\n",
    "Fix $1 \\le i \\le n$ and consider the expression\n",
    "$$\\mathbf{e}_i = \\sum_{j=1}^n c_j \\mathbf{v}_j.$$\n",
    "\n",
    "Since $\\begin{bmatrix} 1 & 1 & \\cdots & 1 \\end{bmatrix} \\mathbf{e}_i \\ne 0$, it follows\n",
    "that $c_1 \\ne 0$. Thus a result proved in the previous notebook shows that\n",
    "$\\lim_{m \\to \\infty} A^m \\mathbf{e}_i$ is a non-zero multiple of $\\mathbf{w}$.\n",
    "\n",
    "Since $B$ is stochastic, each column of $B$ is a probability vector, and must coincide with $\\mathbf{w}$.\n"
   ]
  },
  {
   "cell_type": "markdown",
   "metadata": {
    "slideshow": {
     "slide_type": "slide"
    }
   },
   "source": [
    "Markov Chains\n",
    "-------------\n",
    "\n",
    "Let's pause to recap our *state-machine* point-of-view.\n",
    "\n",
    "We consider a system with a list of *states*. The system undergoes\n",
    "transitions, which we take to be given by probabilities.\n",
    "\n",
    "We represent the system by a directed graph. \n",
    "Each state determines a node. A directed edge between two nodes $a \\to b$ labeled with $p = p_{a,b}$\n",
    "indicates that if the system is currently in state $a$, it will transform to state $b$ with probability $p$.\n",
    "\n",
    "Thus for each node $a$, the sum of the probabilities on the edges $a \\to b$ must be 1:\n",
    "\n",
    "$$\\sum_{(a \\to b)} p_{a,b} = 1$$\n",
    "\n",
    "The resulting matrix $P = (p_{a,b})_{a,b}$ has the property that its column-sums are all equal to 1. Thus $P$ is a *stochastic matrix*.\n",
    "\n",
    "\n",
    "Let $G$ be the directed graph attached to our probabilistic state-machine as before. We will refer to $G$ as a *transition diagram*, and we call the *system* described by $G$ a *Markov chain*.\n"
   ]
  },
  {
   "cell_type": "markdown",
   "metadata": {
    "slideshow": {
     "slide_type": "subslide"
    }
   },
   "source": [
    "Diagram properties\n",
    "------------------\n",
    "\n",
    "Let $G$ be the transition diagram of a Markov chain.\n",
    "\n",
    "**Definition:** $G$ is *strongly connected* if for each pair of nodes $a,b$, there is sequence of directed edges $e_1,\\dots,e_m$ connecting $a$ to $b$.\n",
    "\n",
    "**Remark:** If $P$ is the corresponding stochastic matrix, one often says that $P$ is *irreducible* when the transition diagram $G$ is *strongly connected*.\n"
   ]
  },
  {
   "cell_type": "markdown",
   "metadata": {
    "slideshow": {
     "slide_type": "subslide"
    }
   },
   "source": [
    "Example:\n",
    "--------\n",
    "The following graph is not *strongly connected*."
   ]
  },
  {
   "cell_type": "code",
   "execution_count": 1,
   "metadata": {
    "slideshow": {
     "slide_type": "fragment"
    },
    "tags": [
     "hide"
    ]
   },
   "outputs": [
    {
     "data": {
      "image/svg+xml": [
       "<?xml version=\"1.0\" encoding=\"UTF-8\" standalone=\"no\"?>\n",
       "<!DOCTYPE svg PUBLIC \"-//W3C//DTD SVG 1.1//EN\"\n",
       " \"http://www.w3.org/Graphics/SVG/1.1/DTD/svg11.dtd\">\n",
       "<!-- Generated by graphviz version 9.0.0 (20231125.0833)\n",
       " -->\n",
       "<!-- Pages: 1 -->\n",
       "<svg width=\"170pt\" height=\"116pt\"\n",
       " viewBox=\"0.00 0.00 170.00 116.00\" xmlns=\"http://www.w3.org/2000/svg\" xmlns:xlink=\"http://www.w3.org/1999/xlink\">\n",
       "<g id=\"graph0\" class=\"graph\" transform=\"scale(1 1) rotate(0) translate(4 112)\">\n",
       "<polygon fill=\"white\" stroke=\"none\" points=\"-4,4 -4,-112 166,-112 166,4 -4,4\"/>\n",
       "<!-- A1 -->\n",
       "<g id=\"node1\" class=\"node\">\n",
       "<title>A1</title>\n",
       "<ellipse fill=\"none\" stroke=\"black\" cx=\"27\" cy=\"-90\" rx=\"27\" ry=\"18\"/>\n",
       "<text text-anchor=\"middle\" x=\"27\" y=\"-85.33\" font-family=\"Times,serif\" font-size=\"14.00\">A1</text>\n",
       "</g>\n",
       "<!-- A1&#45;&gt;A1 -->\n",
       "<g id=\"edge1\" class=\"edge\">\n",
       "<title>A1&#45;&gt;A1</title>\n",
       "<path fill=\"none\" stroke=\"black\" d=\"M46.9,-102.43C59.69,-105.68 72,-101.53 72,-90 72,-81.98 66.05,-77.54 58.12,-76.66\"/>\n",
       "<polygon fill=\"black\" stroke=\"black\" points=\"58.09,-73.15 48.4,-77.45 58.65,-80.13 58.09,-73.15\"/>\n",
       "</g>\n",
       "<!-- A2 -->\n",
       "<g id=\"node2\" class=\"node\">\n",
       "<title>A2</title>\n",
       "<ellipse fill=\"none\" stroke=\"black\" cx=\"27\" cy=\"-18\" rx=\"27\" ry=\"18\"/>\n",
       "<text text-anchor=\"middle\" x=\"27\" y=\"-13.32\" font-family=\"Times,serif\" font-size=\"14.00\">A2</text>\n",
       "</g>\n",
       "<!-- A1&#45;&gt;A2 -->\n",
       "<g id=\"edge2\" class=\"edge\">\n",
       "<title>A1&#45;&gt;A2</title>\n",
       "<path fill=\"none\" stroke=\"black\" d=\"M21.12,-72.05C20.33,-64.57 20.08,-55.58 20.37,-47.14\"/>\n",
       "<polygon fill=\"black\" stroke=\"black\" points=\"23.85,-47.51 21.04,-37.3 16.87,-47.04 23.85,-47.51\"/>\n",
       "</g>\n",
       "<!-- A2&#45;&gt;A1 -->\n",
       "<g id=\"edge3\" class=\"edge\">\n",
       "<title>A2&#45;&gt;A1</title>\n",
       "<path fill=\"none\" stroke=\"black\" d=\"M32.86,-35.79C33.66,-43.25 33.92,-52.24 33.64,-60.69\"/>\n",
       "<polygon fill=\"black\" stroke=\"black\" points=\"30.16,-60.33 32.98,-70.54 37.14,-60.8 30.16,-60.33\"/>\n",
       "</g>\n",
       "<!-- A2&#45;&gt;A2 -->\n",
       "<g id=\"edge4\" class=\"edge\">\n",
       "<title>A2&#45;&gt;A2</title>\n",
       "<path fill=\"none\" stroke=\"black\" d=\"M46.9,-30.43C59.69,-33.68 72,-29.53 72,-18 72,-9.98 66.05,-5.54 58.12,-4.66\"/>\n",
       "<polygon fill=\"black\" stroke=\"black\" points=\"58.09,-1.15 48.4,-5.45 58.65,-8.13 58.09,-1.15\"/>\n",
       "</g>\n",
       "<!-- B1 -->\n",
       "<g id=\"node3\" class=\"node\">\n",
       "<title>B1</title>\n",
       "<ellipse fill=\"none\" stroke=\"black\" cx=\"117\" cy=\"-90\" rx=\"27\" ry=\"18\"/>\n",
       "<text text-anchor=\"middle\" x=\"117\" y=\"-85.33\" font-family=\"Times,serif\" font-size=\"14.00\">B1</text>\n",
       "</g>\n",
       "<!-- B1&#45;&gt;B1 -->\n",
       "<g id=\"edge5\" class=\"edge\">\n",
       "<title>B1&#45;&gt;B1</title>\n",
       "<path fill=\"none\" stroke=\"black\" d=\"M136.9,-102.43C149.69,-105.68 162,-101.53 162,-90 162,-81.98 156.05,-77.54 148.12,-76.66\"/>\n",
       "<polygon fill=\"black\" stroke=\"black\" points=\"148.09,-73.15 138.4,-77.45 148.65,-80.13 148.09,-73.15\"/>\n",
       "</g>\n",
       "<!-- B2 -->\n",
       "<g id=\"node4\" class=\"node\">\n",
       "<title>B2</title>\n",
       "<ellipse fill=\"none\" stroke=\"black\" cx=\"117\" cy=\"-18\" rx=\"27\" ry=\"18\"/>\n",
       "<text text-anchor=\"middle\" x=\"117\" y=\"-13.32\" font-family=\"Times,serif\" font-size=\"14.00\">B2</text>\n",
       "</g>\n",
       "<!-- B1&#45;&gt;B2 -->\n",
       "<g id=\"edge6\" class=\"edge\">\n",
       "<title>B1&#45;&gt;B2</title>\n",
       "<path fill=\"none\" stroke=\"black\" d=\"M111.12,-72.05C110.33,-64.57 110.08,-55.58 110.37,-47.14\"/>\n",
       "<polygon fill=\"black\" stroke=\"black\" points=\"113.85,-47.51 111.04,-37.3 106.87,-47.04 113.85,-47.51\"/>\n",
       "</g>\n",
       "<!-- B2&#45;&gt;B1 -->\n",
       "<g id=\"edge7\" class=\"edge\">\n",
       "<title>B2&#45;&gt;B1</title>\n",
       "<path fill=\"none\" stroke=\"black\" d=\"M122.86,-35.79C123.66,-43.25 123.92,-52.24 123.64,-60.69\"/>\n",
       "<polygon fill=\"black\" stroke=\"black\" points=\"120.16,-60.33 122.98,-70.54 127.14,-60.8 120.16,-60.33\"/>\n",
       "</g>\n",
       "<!-- B2&#45;&gt;B2 -->\n",
       "<g id=\"edge8\" class=\"edge\">\n",
       "<title>B2&#45;&gt;B2</title>\n",
       "<path fill=\"none\" stroke=\"black\" d=\"M136.9,-30.43C149.69,-33.68 162,-29.53 162,-18 162,-9.98 156.05,-5.54 148.12,-4.66\"/>\n",
       "<polygon fill=\"black\" stroke=\"black\" points=\"148.09,-1.15 138.4,-5.45 148.65,-8.13 148.09,-1.15\"/>\n",
       "</g>\n",
       "</g>\n",
       "</svg>\n"
      ],
      "text/plain": [
       "<graphviz.graphs.Digraph at 0x7f39d05c54d0>"
      ]
     },
     "execution_count": 1,
     "metadata": {},
     "output_type": "execute_result"
    }
   ],
   "source": [
    "from graphviz import Digraph\n",
    "from itertools import product\n",
    "g = Digraph()\n",
    "\n",
    "for i in [\"A\",\"B\"]:\n",
    "    for j in [1,2]:\n",
    "        g.node(f\"{i}{j}\")\n",
    "    for (j,k) in product([1,2],[1,2]):\n",
    "        g.edge(f\"{i}{j}\",f\"{i}{k}\")\n",
    "\n",
    "g\n",
    "    "
   ]
  },
  {
   "cell_type": "markdown",
   "metadata": {
    "slideshow": {
     "slide_type": "subslide"
    }
   },
   "source": [
    "Example:\n",
    "--------\n",
    "The following graph appears to be \"connected\" at least in some sense, but is not *strongly connected*.\n",
    "\n",
    "Note that there is no path from the node $5$ to the node $1$, for example."
   ]
  },
  {
   "cell_type": "code",
   "execution_count": 2,
   "metadata": {
    "slideshow": {
     "slide_type": "fragment"
    },
    "tags": [
     "hide"
    ]
   },
   "outputs": [
    {
     "data": {
      "image/svg+xml": [
       "<?xml version=\"1.0\" encoding=\"UTF-8\" standalone=\"no\"?>\n",
       "<!DOCTYPE svg PUBLIC \"-//W3C//DTD SVG 1.1//EN\"\n",
       " \"http://www.w3.org/Graphics/SVG/1.1/DTD/svg11.dtd\">\n",
       "<!-- Generated by graphviz version 9.0.0 (20231125.0833)\n",
       " -->\n",
       "<!-- Pages: 1 -->\n",
       "<svg width=\"278pt\" height=\"116pt\"\n",
       " viewBox=\"0.00 0.00 278.00 116.00\" xmlns=\"http://www.w3.org/2000/svg\" xmlns:xlink=\"http://www.w3.org/1999/xlink\">\n",
       "<g id=\"graph0\" class=\"graph\" transform=\"scale(1 1) rotate(0) translate(4 112)\">\n",
       "<polygon fill=\"white\" stroke=\"none\" points=\"-4,4 -4,-112 274,-112 274,4 -4,4\"/>\n",
       "<!-- 1 -->\n",
       "<g id=\"node1\" class=\"node\">\n",
       "<title>1</title>\n",
       "<ellipse fill=\"none\" stroke=\"black\" cx=\"27\" cy=\"-90\" rx=\"27\" ry=\"18\"/>\n",
       "<text text-anchor=\"middle\" x=\"27\" y=\"-85.33\" font-family=\"Times,serif\" font-size=\"14.00\">1</text>\n",
       "</g>\n",
       "<!-- 2 -->\n",
       "<g id=\"node2\" class=\"node\">\n",
       "<title>2</title>\n",
       "<ellipse fill=\"none\" stroke=\"black\" cx=\"99\" cy=\"-90\" rx=\"27\" ry=\"18\"/>\n",
       "<text text-anchor=\"middle\" x=\"99\" y=\"-85.33\" font-family=\"Times,serif\" font-size=\"14.00\">2</text>\n",
       "</g>\n",
       "<!-- 1&#45;&gt;2 -->\n",
       "<g id=\"edge1\" class=\"edge\">\n",
       "<title>1&#45;&gt;2</title>\n",
       "<path fill=\"none\" stroke=\"black\" d=\"M48.66,-78.64C54.49,-76.9 60.32,-76.22 66.15,-76.6\"/>\n",
       "<polygon fill=\"black\" stroke=\"black\" points=\"65.41,-80.03 75.88,-78.38 66.67,-73.14 65.41,-80.03\"/>\n",
       "</g>\n",
       "<!-- 5 -->\n",
       "<g id=\"node5\" class=\"node\">\n",
       "<title>5</title>\n",
       "<ellipse fill=\"none\" stroke=\"black\" cx=\"135\" cy=\"-18\" rx=\"27\" ry=\"18\"/>\n",
       "<text text-anchor=\"middle\" x=\"135\" y=\"-13.32\" font-family=\"Times,serif\" font-size=\"14.00\">5</text>\n",
       "</g>\n",
       "<!-- 1&#45;&gt;5 -->\n",
       "<g id=\"edge7\" class=\"edge\">\n",
       "<title>1&#45;&gt;5</title>\n",
       "<path fill=\"none\" stroke=\"black\" d=\"M45.81,-76.81C62.59,-65.93 87.39,-49.86 106.59,-37.42\"/>\n",
       "<polygon fill=\"black\" stroke=\"black\" points=\"108.28,-40.49 114.77,-32.11 104.48,-34.61 108.28,-40.49\"/>\n",
       "</g>\n",
       "<!-- 2&#45;&gt;1 -->\n",
       "<g id=\"edge2\" class=\"edge\">\n",
       "<title>2&#45;&gt;1</title>\n",
       "<path fill=\"none\" stroke=\"black\" d=\"M77.37,-101.35C71.54,-103.1 65.7,-103.78 59.87,-103.4\"/>\n",
       "<polygon fill=\"black\" stroke=\"black\" points=\"60.61,-99.98 50.15,-101.63 59.36,-106.86 60.61,-99.98\"/>\n",
       "</g>\n",
       "<!-- 3 -->\n",
       "<g id=\"node3\" class=\"node\">\n",
       "<title>3</title>\n",
       "<ellipse fill=\"none\" stroke=\"black\" cx=\"171\" cy=\"-90\" rx=\"27\" ry=\"18\"/>\n",
       "<text text-anchor=\"middle\" x=\"171\" y=\"-85.33\" font-family=\"Times,serif\" font-size=\"14.00\">3</text>\n",
       "</g>\n",
       "<!-- 2&#45;&gt;3 -->\n",
       "<g id=\"edge3\" class=\"edge\">\n",
       "<title>2&#45;&gt;3</title>\n",
       "<path fill=\"none\" stroke=\"black\" d=\"M120.66,-78.64C126.49,-76.9 132.32,-76.22 138.15,-76.6\"/>\n",
       "<polygon fill=\"black\" stroke=\"black\" points=\"137.41,-80.03 147.88,-78.38 138.67,-73.14 137.41,-80.03\"/>\n",
       "</g>\n",
       "<!-- 3&#45;&gt;2 -->\n",
       "<g id=\"edge4\" class=\"edge\">\n",
       "<title>3&#45;&gt;2</title>\n",
       "<path fill=\"none\" stroke=\"black\" d=\"M149.37,-101.35C143.54,-103.1 137.7,-103.78 131.87,-103.4\"/>\n",
       "<polygon fill=\"black\" stroke=\"black\" points=\"132.61,-99.98 122.15,-101.63 131.36,-106.86 132.61,-99.98\"/>\n",
       "</g>\n",
       "<!-- 4 -->\n",
       "<g id=\"node4\" class=\"node\">\n",
       "<title>4</title>\n",
       "<ellipse fill=\"none\" stroke=\"black\" cx=\"243\" cy=\"-90\" rx=\"27\" ry=\"18\"/>\n",
       "<text text-anchor=\"middle\" x=\"243\" y=\"-85.33\" font-family=\"Times,serif\" font-size=\"14.00\">4</text>\n",
       "</g>\n",
       "<!-- 3&#45;&gt;4 -->\n",
       "<g id=\"edge5\" class=\"edge\">\n",
       "<title>3&#45;&gt;4</title>\n",
       "<path fill=\"none\" stroke=\"black\" d=\"M192.66,-78.64C198.49,-76.9 204.32,-76.22 210.15,-76.6\"/>\n",
       "<polygon fill=\"black\" stroke=\"black\" points=\"209.41,-80.03 219.88,-78.38 210.67,-73.14 209.41,-80.03\"/>\n",
       "</g>\n",
       "<!-- 4&#45;&gt;3 -->\n",
       "<g id=\"edge6\" class=\"edge\">\n",
       "<title>4&#45;&gt;3</title>\n",
       "<path fill=\"none\" stroke=\"black\" d=\"M221.37,-101.35C215.54,-103.1 209.7,-103.78 203.87,-103.4\"/>\n",
       "<polygon fill=\"black\" stroke=\"black\" points=\"204.61,-99.98 194.15,-101.63 203.36,-106.86 204.61,-99.98\"/>\n",
       "</g>\n",
       "<!-- 4&#45;&gt;5 -->\n",
       "<g id=\"edge8\" class=\"edge\">\n",
       "<title>4&#45;&gt;5</title>\n",
       "<path fill=\"none\" stroke=\"black\" d=\"M224.19,-76.81C207.41,-65.93 182.61,-49.86 163.41,-37.42\"/>\n",
       "<polygon fill=\"black\" stroke=\"black\" points=\"165.52,-34.61 155.23,-32.11 161.72,-40.49 165.52,-34.61\"/>\n",
       "</g>\n",
       "<!-- 5&#45;&gt;5 -->\n",
       "<g id=\"edge9\" class=\"edge\">\n",
       "<title>5&#45;&gt;5</title>\n",
       "<path fill=\"none\" stroke=\"black\" d=\"M154.9,-30.43C167.69,-33.68 180,-29.53 180,-18 180,-9.98 174.05,-5.54 166.12,-4.66\"/>\n",
       "<polygon fill=\"black\" stroke=\"black\" points=\"166.09,-1.15 156.4,-5.45 166.65,-8.13 166.09,-1.15\"/>\n",
       "</g>\n",
       "</g>\n",
       "</svg>\n"
      ],
      "text/plain": [
       "<graphviz.graphs.Digraph at 0x7f39cc4370d0>"
      ]
     },
     "execution_count": 2,
     "metadata": {},
     "output_type": "execute_result"
    }
   ],
   "source": [
    "h = Digraph()\n",
    "\n",
    "I = [1,2,3,4]\n",
    "\n",
    "with h.subgraph() as c:\n",
    "    c.attr(rank=\"same\")\n",
    "    for i in I:\n",
    "        c.node(f\"{i}\")\n",
    "    for (j,k) in [(i,j) for (i,j) in product(I,I) if i == j+1 or i == j-1]:\n",
    "        h.edge(f\"{j}\",f\"{k}\")\n",
    "    \n",
    "h.edge(f\"1\",f\"5\")\n",
    "h.edge(f\"4\",f\"5\")\n",
    "h.edge(f\"5\",f\"5\")\n",
    "\n",
    "h"
   ]
  },
  {
   "cell_type": "markdown",
   "metadata": {
    "slideshow": {
     "slide_type": "subslide"
    }
   },
   "source": [
    "Cycles\n",
    "-------\n",
    "\n",
    "A *cycle* of length $n$ in a transition diagram is a sequence $e_1,\\dots,e_n$ of edges for which that initial node of $e_1$ is equal to the terminal node of $e_n$.\n",
    "\n",
    "Here is an example of a cycle of length 5:"
   ]
  },
  {
   "cell_type": "code",
   "execution_count": 3,
   "metadata": {
    "slideshow": {
     "slide_type": "fragment"
    },
    "tags": [
     "hide"
    ]
   },
   "outputs": [
    {
     "data": {
      "image/svg+xml": [
       "<?xml version=\"1.0\" encoding=\"UTF-8\" standalone=\"no\"?>\n",
       "<!DOCTYPE svg PUBLIC \"-//W3C//DTD SVG 1.1//EN\"\n",
       " \"http://www.w3.org/Graphics/SVG/1.1/DTD/svg11.dtd\">\n",
       "<!-- Generated by graphviz version 9.0.0 (20231125.0833)\n",
       " -->\n",
       "<!-- Pages: 1 -->\n",
       "<svg width=\"458pt\" height=\"81pt\"\n",
       " viewBox=\"0.00 0.00 458.00 81.00\" xmlns=\"http://www.w3.org/2000/svg\" xmlns:xlink=\"http://www.w3.org/1999/xlink\">\n",
       "<g id=\"graph0\" class=\"graph\" transform=\"scale(1 1) rotate(0) translate(4 77)\">\n",
       "<polygon fill=\"white\" stroke=\"none\" points=\"-4,4 -4,-77 454,-77 454,4 -4,4\"/>\n",
       "<!-- 0 -->\n",
       "<g id=\"node1\" class=\"node\">\n",
       "<title>0</title>\n",
       "<ellipse fill=\"none\" stroke=\"black\" cx=\"27\" cy=\"-18\" rx=\"27\" ry=\"18\"/>\n",
       "<text text-anchor=\"middle\" x=\"27\" y=\"-13.32\" font-family=\"Times,serif\" font-size=\"14.00\">0</text>\n",
       "</g>\n",
       "<!-- 1 -->\n",
       "<g id=\"node2\" class=\"node\">\n",
       "<title>1</title>\n",
       "<ellipse fill=\"none\" stroke=\"black\" cx=\"126\" cy=\"-50\" rx=\"27\" ry=\"18\"/>\n",
       "<text text-anchor=\"middle\" x=\"126\" y=\"-45.33\" font-family=\"Times,serif\" font-size=\"14.00\">1</text>\n",
       "</g>\n",
       "<!-- 0&#45;&gt;1 -->\n",
       "<g id=\"edge1\" class=\"edge\">\n",
       "<title>0&#45;&gt;1</title>\n",
       "<path fill=\"none\" stroke=\"black\" d=\"M51.48,-25.75C63.19,-29.61 77.58,-34.36 90.51,-38.62\"/>\n",
       "<polygon fill=\"black\" stroke=\"black\" points=\"89.37,-41.93 99.96,-41.74 91.56,-35.28 89.37,-41.93\"/>\n",
       "<text text-anchor=\"middle\" x=\"76.5\" y=\"-37.95\" font-family=\"Times,serif\" font-size=\"14.00\">1</text>\n",
       "</g>\n",
       "<!-- 2 -->\n",
       "<g id=\"node3\" class=\"node\">\n",
       "<title>2</title>\n",
       "<ellipse fill=\"none\" stroke=\"black\" cx=\"225\" cy=\"-55\" rx=\"27\" ry=\"18\"/>\n",
       "<text text-anchor=\"middle\" x=\"225\" y=\"-50.33\" font-family=\"Times,serif\" font-size=\"14.00\">2</text>\n",
       "</g>\n",
       "<!-- 1&#45;&gt;2 -->\n",
       "<g id=\"edge2\" class=\"edge\">\n",
       "<title>1&#45;&gt;2</title>\n",
       "<path fill=\"none\" stroke=\"black\" d=\"M153.25,-51.35C163.49,-51.88 175.43,-52.5 186.55,-53.07\"/>\n",
       "<polygon fill=\"black\" stroke=\"black\" points=\"186.05,-56.55 196.22,-53.57 186.41,-49.56 186.05,-56.55\"/>\n",
       "<text text-anchor=\"middle\" x=\"175.5\" y=\"-55.95\" font-family=\"Times,serif\" font-size=\"14.00\">1</text>\n",
       "</g>\n",
       "<!-- 3 -->\n",
       "<g id=\"node4\" class=\"node\">\n",
       "<title>3</title>\n",
       "<ellipse fill=\"none\" stroke=\"black\" cx=\"324\" cy=\"-51\" rx=\"27\" ry=\"18\"/>\n",
       "<text text-anchor=\"middle\" x=\"324\" y=\"-46.33\" font-family=\"Times,serif\" font-size=\"14.00\">3</text>\n",
       "</g>\n",
       "<!-- 2&#45;&gt;3 -->\n",
       "<g id=\"edge3\" class=\"edge\">\n",
       "<title>2&#45;&gt;3</title>\n",
       "<path fill=\"none\" stroke=\"black\" d=\"M252.25,-53.92C262.49,-53.5 274.43,-53 285.55,-52.54\"/>\n",
       "<polygon fill=\"black\" stroke=\"black\" points=\"285.37,-56.05 295.22,-52.15 285.08,-49.06 285.37,-56.05\"/>\n",
       "<text text-anchor=\"middle\" x=\"274.5\" y=\"-56.95\" font-family=\"Times,serif\" font-size=\"14.00\">1</text>\n",
       "</g>\n",
       "<!-- 4 -->\n",
       "<g id=\"node5\" class=\"node\">\n",
       "<title>4</title>\n",
       "<ellipse fill=\"none\" stroke=\"black\" cx=\"423\" cy=\"-18\" rx=\"27\" ry=\"18\"/>\n",
       "<text text-anchor=\"middle\" x=\"423\" y=\"-13.32\" font-family=\"Times,serif\" font-size=\"14.00\">4</text>\n",
       "</g>\n",
       "<!-- 3&#45;&gt;4 -->\n",
       "<g id=\"edge4\" class=\"edge\">\n",
       "<title>3&#45;&gt;4</title>\n",
       "<path fill=\"none\" stroke=\"black\" d=\"M348.48,-43.01C360.19,-39.03 374.58,-34.13 387.51,-29.73\"/>\n",
       "<polygon fill=\"black\" stroke=\"black\" points=\"388.63,-33.05 396.97,-26.52 386.37,-26.42 388.63,-33.05\"/>\n",
       "<text text-anchor=\"middle\" x=\"373.5\" y=\"-38.95\" font-family=\"Times,serif\" font-size=\"14.00\">1</text>\n",
       "</g>\n",
       "<!-- 4&#45;&gt;0 -->\n",
       "<g id=\"edge5\" class=\"edge\">\n",
       "<title>4&#45;&gt;0</title>\n",
       "<path fill=\"none\" stroke=\"black\" d=\"M397.47,-11.68C377.96,-7.2 349.92,-2 325,-2 125,-2 125,-2 125,-2 104.46,-2 81.8,-5.54 63.55,-9.28\"/>\n",
       "<polygon fill=\"black\" stroke=\"black\" points=\"63.04,-5.81 54.01,-11.35 64.53,-12.65 63.04,-5.81\"/>\n",
       "<text text-anchor=\"middle\" x=\"225\" y=\"-5.95\" font-family=\"Times,serif\" font-size=\"14.00\">1</text>\n",
       "</g>\n",
       "</g>\n",
       "</svg>\n"
      ],
      "text/plain": [
       "<graphviz.graphs.Digraph at 0x7f39cc0b14d0>"
      ]
     },
     "execution_count": 3,
     "metadata": {},
     "output_type": "execute_result"
    }
   ],
   "source": [
    "import numpy as np\n",
    "\n",
    "def cycle(n=5,labels=None):\n",
    "    if labels==None:\n",
    "        labels= n*[1]\n",
    "    cyc = Digraph()\n",
    "    cyc.attr(rankdir='LR')\n",
    "    I = list(range(n))\n",
    "\n",
    "    for i in I:\n",
    "        cyc.node(f\"{i}\")\n",
    "\n",
    "    for i in I:\n",
    "        cyc.edge(f\"{i}\",f\"{np.mod(i+1,n)}\",f\"{labels[i]}\")\n",
    "\n",
    "    return cyc\n",
    "    \n",
    "cycle()"
   ]
  },
  {
   "cell_type": "markdown",
   "metadata": {
    "slideshow": {
     "slide_type": "subslide"
    }
   },
   "source": [
    "Aperiodic\n",
    "---------\n",
    "\n",
    "Given a transition diagram $G$, consider all possible cycles in $G$.\n",
    "\n",
    "A transition diagram is said to be *aperiodic* if no integer $n>1$ divides the length of each cycle.\n",
    "\n",
    "In other language, the diagram $G$ is aperiodic if the greatest common divisor of the lengths of the cycles in $G$ is equal to 1.\n",
    "\n",
    "Example: The preceding graph $G$ with 5 nodes is not *aperiodic* since every cycle has length a multiple of 5.\n",
    "\n",
    "Example: The following graph *is* aperiodic, since it contains a cycle of length 1."
   ]
  },
  {
   "cell_type": "code",
   "execution_count": 4,
   "metadata": {
    "slideshow": {
     "slide_type": "fragment"
    },
    "tags": [
     "hide"
    ]
   },
   "outputs": [
    {
     "data": {
      "image/svg+xml": [
       "<?xml version=\"1.0\" encoding=\"UTF-8\" standalone=\"no\"?>\n",
       "<!DOCTYPE svg PUBLIC \"-//W3C//DTD SVG 1.1//EN\"\n",
       " \"http://www.w3.org/Graphics/SVG/1.1/DTD/svg11.dtd\">\n",
       "<!-- Generated by graphviz version 9.0.0 (20231125.0833)\n",
       " -->\n",
       "<!-- Pages: 1 -->\n",
       "<svg width=\"458pt\" height=\"81pt\"\n",
       " viewBox=\"0.00 0.00 458.00 81.00\" xmlns=\"http://www.w3.org/2000/svg\" xmlns:xlink=\"http://www.w3.org/1999/xlink\">\n",
       "<g id=\"graph0\" class=\"graph\" transform=\"scale(1 1) rotate(0) translate(4 77)\">\n",
       "<polygon fill=\"white\" stroke=\"none\" points=\"-4,4 -4,-77 454,-77 454,4 -4,4\"/>\n",
       "<!-- 0 -->\n",
       "<g id=\"node1\" class=\"node\">\n",
       "<title>0</title>\n",
       "<ellipse fill=\"none\" stroke=\"black\" cx=\"27\" cy=\"-18\" rx=\"27\" ry=\"18\"/>\n",
       "<text text-anchor=\"middle\" x=\"27\" y=\"-13.32\" font-family=\"Times,serif\" font-size=\"14.00\">0</text>\n",
       "</g>\n",
       "<!-- 1 -->\n",
       "<g id=\"node2\" class=\"node\">\n",
       "<title>1</title>\n",
       "<ellipse fill=\"none\" stroke=\"black\" cx=\"126\" cy=\"-50\" rx=\"27\" ry=\"18\"/>\n",
       "<text text-anchor=\"middle\" x=\"126\" y=\"-45.33\" font-family=\"Times,serif\" font-size=\"14.00\">1</text>\n",
       "</g>\n",
       "<!-- 0&#45;&gt;1 -->\n",
       "<g id=\"edge1\" class=\"edge\">\n",
       "<title>0&#45;&gt;1</title>\n",
       "<path fill=\"none\" stroke=\"black\" d=\"M51.48,-25.75C63.19,-29.61 77.58,-34.36 90.51,-38.62\"/>\n",
       "<polygon fill=\"black\" stroke=\"black\" points=\"89.37,-41.93 99.96,-41.74 91.56,-35.28 89.37,-41.93\"/>\n",
       "<text text-anchor=\"middle\" x=\"76.5\" y=\"-37.95\" font-family=\"Times,serif\" font-size=\"14.00\">1</text>\n",
       "</g>\n",
       "<!-- 2 -->\n",
       "<g id=\"node3\" class=\"node\">\n",
       "<title>2</title>\n",
       "<ellipse fill=\"none\" stroke=\"black\" cx=\"225\" cy=\"-55\" rx=\"27\" ry=\"18\"/>\n",
       "<text text-anchor=\"middle\" x=\"225\" y=\"-50.33\" font-family=\"Times,serif\" font-size=\"14.00\">2</text>\n",
       "</g>\n",
       "<!-- 1&#45;&gt;2 -->\n",
       "<g id=\"edge2\" class=\"edge\">\n",
       "<title>1&#45;&gt;2</title>\n",
       "<path fill=\"none\" stroke=\"black\" d=\"M153.25,-51.35C163.49,-51.88 175.43,-52.5 186.55,-53.07\"/>\n",
       "<polygon fill=\"black\" stroke=\"black\" points=\"186.05,-56.55 196.22,-53.57 186.41,-49.56 186.05,-56.55\"/>\n",
       "<text text-anchor=\"middle\" x=\"175.5\" y=\"-55.95\" font-family=\"Times,serif\" font-size=\"14.00\">1</text>\n",
       "</g>\n",
       "<!-- 3 -->\n",
       "<g id=\"node4\" class=\"node\">\n",
       "<title>3</title>\n",
       "<ellipse fill=\"none\" stroke=\"black\" cx=\"324\" cy=\"-51\" rx=\"27\" ry=\"18\"/>\n",
       "<text text-anchor=\"middle\" x=\"324\" y=\"-46.33\" font-family=\"Times,serif\" font-size=\"14.00\">3</text>\n",
       "</g>\n",
       "<!-- 2&#45;&gt;3 -->\n",
       "<g id=\"edge3\" class=\"edge\">\n",
       "<title>2&#45;&gt;3</title>\n",
       "<path fill=\"none\" stroke=\"black\" d=\"M252.25,-53.92C262.49,-53.5 274.43,-53 285.55,-52.54\"/>\n",
       "<polygon fill=\"black\" stroke=\"black\" points=\"285.37,-56.05 295.22,-52.15 285.08,-49.06 285.37,-56.05\"/>\n",
       "<text text-anchor=\"middle\" x=\"274.5\" y=\"-56.95\" font-family=\"Times,serif\" font-size=\"14.00\">1</text>\n",
       "</g>\n",
       "<!-- 4 -->\n",
       "<g id=\"node5\" class=\"node\">\n",
       "<title>4</title>\n",
       "<ellipse fill=\"none\" stroke=\"black\" cx=\"423\" cy=\"-18\" rx=\"27\" ry=\"18\"/>\n",
       "<text text-anchor=\"middle\" x=\"423\" y=\"-13.32\" font-family=\"Times,serif\" font-size=\"14.00\">4</text>\n",
       "</g>\n",
       "<!-- 3&#45;&gt;4 -->\n",
       "<g id=\"edge4\" class=\"edge\">\n",
       "<title>3&#45;&gt;4</title>\n",
       "<path fill=\"none\" stroke=\"black\" d=\"M348.48,-43.01C360.19,-39.03 374.58,-34.13 387.51,-29.73\"/>\n",
       "<polygon fill=\"black\" stroke=\"black\" points=\"388.63,-33.05 396.97,-26.52 386.37,-26.42 388.63,-33.05\"/>\n",
       "<text text-anchor=\"middle\" x=\"373.5\" y=\"-38.95\" font-family=\"Times,serif\" font-size=\"14.00\">1</text>\n",
       "</g>\n",
       "<!-- 4&#45;&gt;0 -->\n",
       "<g id=\"edge5\" class=\"edge\">\n",
       "<title>4&#45;&gt;0</title>\n",
       "<path fill=\"none\" stroke=\"black\" d=\"M397.47,-11.68C377.96,-7.2 349.92,-2 325,-2 125,-2 125,-2 125,-2 104.46,-2 81.8,-5.54 63.55,-9.28\"/>\n",
       "<polygon fill=\"black\" stroke=\"black\" points=\"63.04,-5.81 54.01,-11.35 64.53,-12.65 63.04,-5.81\"/>\n",
       "<text text-anchor=\"middle\" x=\"225\" y=\"-5.95\" font-family=\"Times,serif\" font-size=\"14.00\">0.5</text>\n",
       "</g>\n",
       "<!-- 4&#45;&gt;4 -->\n",
       "<g id=\"edge6\" class=\"edge\">\n",
       "<title>4&#45;&gt;4</title>\n",
       "<path fill=\"none\" stroke=\"black\" d=\"M414.16,-35.41C412.51,-45.09 415.46,-54 423,-54 427.36,-54 430.18,-51.02 431.47,-46.64\"/>\n",
       "<polygon fill=\"black\" stroke=\"black\" points=\"434.96,-47.03 431.79,-36.92 427.96,-46.8 434.96,-47.03\"/>\n",
       "<text text-anchor=\"middle\" x=\"423\" y=\"-57.95\" font-family=\"Times,serif\" font-size=\"14.00\">.5</text>\n",
       "</g>\n",
       "</g>\n",
       "</svg>\n"
      ],
      "text/plain": [
       "<graphviz.graphs.Digraph at 0x7f39d05c5fd0>"
      ]
     },
     "execution_count": 4,
     "metadata": {},
     "output_type": "execute_result"
    }
   ],
   "source": [
    "acycle = cycle(labels=[1,1,1,1,.5])\n",
    "acycle.edge(\"4\",\"4\",\".5\")\n",
    "acycle"
   ]
  },
  {
   "cell_type": "markdown",
   "metadata": {
    "slideshow": {
     "slide_type": "slide"
    }
   },
   "source": [
    "Theorem: (Perron-Frobenius)\n",
    "---------------------------\n",
    "\n",
    "Let $G$ be a transition diagram for a Markov chain, and suppose that $G$ is strongly connected and aperiodic. Let $P$ be the corresponding\n",
    "stochastic matrix. The multiplicity of the eigenvalue $\\lambda = 1$ for $P$ is 1 -- i.e.\n",
    "\n",
    "$$\\dim \\operatorname{Null}(P-I_n) = 1.$$\n",
    "\n",
    "All other eigenvalues $\\lambda$ satisfy $|\\lambda|  < 1$.\n",
    "\n",
    "There is a $1$-eigenvector $\\mathbf{v}$ which is a probability vector.\n",
    "\n",
    "Corollary\n",
    "----------\n",
    "\n",
    "**a)** $\\displaystyle \\lim_{m \\to \\infty} P^m$ is a matrix for which each column is equal to $\\mathbf{v}$.  \n",
    "**b)** If $\\mathbf{w}$ is a vector for which $\\begin{bmatrix} 1 & 1 & \\cdots & 1 \\end{bmatrix} \\mathbf{v} >  0$, then $\\displaystyle \\lim_{m \\to \\infty} P^m \\mathbf{w}$ is a positive multiple of $\\mathbf{v}$."
   ]
  },
  {
   "cell_type": "markdown",
   "metadata": {
    "slideshow": {
     "slide_type": "slide"
    }
   },
   "source": [
    "Financial market example\n",
    "=========================\n",
    "\n",
    "Recall this example from a previous *problem session*.\n",
    "\n",
    "Consider the state of a financial market from week to week. \n",
    "\n",
    "- by a *bull market* we mean a week of generally rising prices. \n",
    "- by a *bear market* we mean a week of genreally declining prices.\n",
    "- by a *recession* we mean a general slowdown of the economy.\n",
    "\n",
    "Empirical observation shows for each of these three states what the probability of the state for the subsequent week, as follows:\n",
    "\n",
    "|                              | *bull*   | *bear*   | *recession*| \n",
    "| :--------------------------- | -------: | -------: | ---------: |\n",
    "|     followed by bull         | 0.90     | 0.15     | 0.25       |\n",
    "|     followed by bear         | 0.075    | 0.80     | 0.25       |\n",
    "|     followed by recession    | 0.025    | 0.05     | 0.50       |\n",
    "\n",
    "In words, the first col indicates that if one has a bull market, then 90% of the time the next week is a bull market, 7.5% of the time the next week is a bear market, and 2.5% of the time the next week is in recession."
   ]
  },
  {
   "cell_type": "markdown",
   "metadata": {
    "slideshow": {
     "slide_type": "subslide"
    }
   },
   "source": [
    "matrix\n",
    "------\n",
    "The matrix $A$ describing the state transformations is a stochastic matrix."
   ]
  },
  {
   "cell_type": "code",
   "execution_count": 8,
   "metadata": {
    "slideshow": {
     "slide_type": "fragment"
    }
   },
   "outputs": [
    {
     "data": {
      "text/plain": [
       "array([1.00, 1.00, 1.00])"
      ]
     },
     "execution_count": 8,
     "metadata": {},
     "output_type": "execute_result"
    }
   ],
   "source": [
    "ones = np.ones(3)\n",
    "\n",
    "A = np.array([[0.90 , 0.15 , 0.25],\n",
    "              [0.075, 0.80 , 0.25],\n",
    "              [0.025, 0.05 , 0.50]])\n",
    "\n",
    "ones @ A"
   ]
  },
  {
   "cell_type": "markdown",
   "metadata": {
    "slideshow": {
     "slide_type": "fragment"
    }
   },
   "source": [
    "$A$ has 3 distinct eigenvalues:"
   ]
  },
  {
   "cell_type": "code",
   "execution_count": 10,
   "metadata": {
    "slideshow": {
     "slide_type": "fragment"
    }
   },
   "outputs": [
    {
     "data": {
      "text/plain": [
       "array([1.00, 0.74, 0.46])"
      ]
     },
     "execution_count": 10,
     "metadata": {},
     "output_type": "execute_result"
    }
   ],
   "source": [
    "##\n",
    "e_vals,e_vecs = npl.eig(A)\n",
    "\n",
    "e_vals"
   ]
  },
  {
   "cell_type": "markdown",
   "metadata": {
    "slideshow": {
     "slide_type": "subslide"
    }
   },
   "source": [
    "In particular, it follows that the $1$-eigenspace of $A$ has dimension 1.\n",
    "\n",
    "A 1-eigenvector is given by"
   ]
  },
  {
   "cell_type": "code",
   "execution_count": 12,
   "metadata": {
    "slideshow": {
     "slide_type": "fragment"
    }
   },
   "outputs": [
    {
     "data": {
      "text/plain": [
       "array([0.89, 0.45, 0.09])"
      ]
     },
     "execution_count": 12,
     "metadata": {},
     "output_type": "execute_result"
    }
   ],
   "source": [
    "v = e_vecs[:,0]\n",
    "v"
   ]
  },
  {
   "cell_type": "markdown",
   "metadata": {},
   "source": [
    "Rescaling ``v`` to make a probability vector, we indeed see\n",
    "that $A^m \\to \\begin{bmatrix} \\mathbf{w}& \\mathbf{w} &\\mathbf{w} \\end{bmatrix}$."
   ]
  },
  {
   "cell_type": "code",
   "execution_count": 29,
   "metadata": {
    "slideshow": {
     "slide_type": "subslide"
    }
   },
   "outputs": [
    {
     "name": "stdout",
     "output_type": "stream",
     "text": [
      "w = \n",
      "\n",
      "[0.6250 0.3125 0.0625]\n",
      "\n",
      "A^200 = \n",
      "\n",
      "[[0.6250 0.6250 0.6250]\n",
      " [0.3125 0.3125 0.3125]\n",
      " [0.0625 0.0625 0.0625]]\n"
     ]
    }
   ],
   "source": [
    "\n",
    "float_formatter = \"{:.4f}\".format\n",
    "np.set_printoptions(formatter={'float_kind':float_formatter})\n",
    "\n",
    "\n",
    "w = (1/sum(v,0))*v\n",
    "\n",
    "B=npl.matrix_power(A,200)\n",
    "\n",
    "print(f\"w = \\n\\n{w}\\n\\nA^200 = \\n\\n{B}\")"
   ]
  },
  {
   "cell_type": "markdown",
   "metadata": {
    "slideshow": {
     "slide_type": "subslide"
    }
   },
   "source": [
    "Interpretation:\n",
    "---------------\n",
    "\n",
    "Recall that $A$ describes the state transitions for a financial market.\n",
    "\n",
    "The interpretation here means that *in the long run*,\n",
    "there is a 62.5 % chance of a bull market,\n",
    "a 31.25 % chance of a bear market,\n",
    "and a 6.25% chance of a recession."
   ]
  }
 ],
 "metadata": {
  "jupytext": {
   "formats": "ipynb,md"
  },
  "kernelspec": {
   "display_name": "Python 3 (ipykernel)",
   "language": "python",
   "name": "python3"
  },
  "language_info": {
   "codemirror_mode": {
    "name": "ipython",
    "version": 3
   },
   "file_extension": ".py",
   "mimetype": "text/x-python",
   "name": "python",
   "nbconvert_exporter": "python",
   "pygments_lexer": "ipython3",
   "version": "3.11.6"
  }
 },
 "nbformat": 4,
 "nbformat_minor": 4
}
