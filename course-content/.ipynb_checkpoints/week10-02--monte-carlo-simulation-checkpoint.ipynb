{
 "cells": [
  {
   "cell_type": "markdown",
   "metadata": {
    "slideshow": {
     "slide_type": "slide"
    }
   },
   "source": [
    "# [George McNinch](http://gmcninch.math.tufts.edu) Math 87 - Spring 2024\n",
    "\n",
    "# Week 10\n",
    "\n",
    "# Monte-Carlo simulation\n",
    "  (edited 2024-03-26)\n",
    "-----------"
   ]
  },
  {
   "cell_type": "markdown",
   "metadata": {
    "slideshow": {
     "slide_type": "slide"
    }
   },
   "source": [
    "A modeling application of Monte-Carlo methods: fish tanks!\n",
    "==========================================================\n",
    "\n",
    "In this notebook we are going to discuss a modeling example.\n",
    "\n",
    "Suppose that you have been promoted to inventory manager at **Jane's Fish Tank Emporium** (JFTE).\n",
    "\n",
    "JFTE sells only 150 gallon fish tanks that are bulky, so it prefers to not keep more in stock than are needed at any given point in time.\n",
    "\n",
    "Suppose that on average JFTE sells one tank per week. \n",
    "\n",
    "JFTE can order new tanks at any point, but they must wait 5 days for the arrival of a new tank once it has been ordered.\n",
    "\n",
    "The task is to design a good strategy for ordering fish tanks."
   ]
  },
  {
   "cell_type": "markdown",
   "metadata": {
    "slideshow": {
     "slide_type": "subslide"
    }
   },
   "source": [
    "Relevant questions & parameters??\n",
    "============\n",
    "\n",
    "- profit from the sale of a tank?\n",
    "- cost of storage for an unsold tank in stock?\n",
    "- what does \"on average, one tank is sold per week\" really mean??\n",
    "- what strategies are even possible?\n",
    "\n",
    "Let's consider some extremal cases first:\n",
    "\n",
    "- if the profit per tank is large and the storage costs for an in-stock tank relatively small, then a good strategy is to keep a relatively large inventory.\n",
    "- if the profit per tank is small and the storage costs for an in-stock tank are relatively large, then a good strategy is to keep little-or-no inventory and order as required.\n",
    "\n",
    "It is difficult to formulate too many generalities without knowing further information.\n",
    "\n",
    "An important rule of modeling we'd like to follow is this:\n",
    "\n",
    "Start with a relatively simple model, but build it to allow incremental additions of complexity."
   ]
  },
  {
   "cell_type": "markdown",
   "metadata": {
    "slideshow": {
     "slide_type": "slide"
    }
   },
   "source": [
    "Simplifying assumptions\n",
    "=======================\n",
    "\n",
    "1. Let's assume that \"on average, JFTE sells one tank per week\" means that on any given day, there is a \n",
    "$\\dfrac{1}{7}$ chance of an interested customer entering the store.\n",
    "\n",
    "2. If an interested customer arrives but there is no stock, the potential sale is then *lost* (thus our model doesn't acknowledge rainchecks or instructions to a customer to \"try next week\").\n",
    "\n",
    "3. The cost of storing a tank is high enough that you only want to store tanks you expect to sell \"soon\".\n",
    "\n",
    "These assumptions suggest two strategies, which we want to compare.\n",
    "\n",
    "**Strategy A.** Set a *standing order* to have one tank delivered each week.  \n",
    "**Strategy B.** Order a new tank whenever one is sold -- *on-demand ordering*\n",
    "\n",
    "We are going to use a Monte-Carlo simulation to compare these two strategies."
   ]
  },
  {
   "cell_type": "markdown",
   "metadata": {
    "slideshow": {
     "slide_type": "subslide"
    }
   },
   "source": [
    "Our simulation\n",
    "==============\n",
    "\n",
    "The first step is to simulate arrival of customers. We are going to make a list of $N$ days for our simulation, and for each day we are going to use a random selection to \"decide\" whether a customer arrives.\n",
    "\n",
    "For each day, we would like to keep track of various information:\n",
    "\n",
    "- does a customer arrive? (determined randomly)\n",
    "- is there a tank in stock? (ordering is determined by our strategy)\n",
    "\n",
    "So let's create a ``python`` data structure which keeps track of the required information. We'll just use a ``class`` named ``JFTE`` which has instance variables ``customers``, ``stock``, ``sales`` etc.\n",
    "  \n",
    "When we construct an instance of the class, we indicate the number of days ``N`` for our simulation. We create a list corresponding to ``days``, and the random number generated \"decides\" whether or not a customer will arrive on the given day.\n",
    "\n",
    "We now implement our *strategies* as functions which take as argument an instance of the class ``JFTE``\n",
    "and return dictionary of `result values`.\n",
    "\n"
   ]
  },
  {
   "cell_type": "code",
   "execution_count": 1,
   "metadata": {
    "slideshow": {
     "slide_type": "subslide"
    }
   },
   "outputs": [],
   "source": [
    "import numpy as np\n",
    "import itertools as it\n",
    "\n",
    "from numpy.random import default_rng\n",
    "rng = default_rng()\n"
   ]
  },
  {
   "cell_type": "code",
   "execution_count": 2,
   "metadata": {
    "slideshow": {
     "slide_type": "subslide"
    }
   },
   "outputs": [],
   "source": [
    "\n",
    "def customer(prob=1./7):\n",
    "    return rng.choice([1,0],p=[prob,1-prob])\n",
    "\n",
    "\n",
    "class JFTE():\n",
    "    def __init__(self,N,prob=1./7):\n",
    "        self.customers = [customer(prob) for n in range(N)]\n",
    "        self.num_days = N\n",
    "        self.reset()\n",
    "    \n",
    "    def reset(self):\n",
    "        self.stock = 1\n",
    "        self.sales = 0\n",
    "        self.lost_sales = 0\n",
    "        self.storage_days = 0\n",
    "        self.max_stock = 1\n",
    "    \n",
    "    def add_stock(self):\n",
    "        self.stock = self.stock + 1\n",
    "        if self.stock > self.max_stock:\n",
    "            self.max_stock = self.stock\n",
    "    \n",
    "    def sale(self):\n",
    "        self.stock = self.stock - 1\n",
    "        self.sales = self.sales + 1\n",
    "        \n",
    "    def result(self):\n",
    "        return { 'number_days': self.num_days,\n",
    "                 'weeks': self.num_days/7.0,\n",
    "                 'sales': self.sales,\n",
    "                 'lost_sales': self.lost_sales,\n",
    "                 'storage_days': self.storage_days,\n",
    "                 'max_stock': self.max_stock\n",
    "               }\n"
   ]
  },
  {
   "cell_type": "markdown",
   "metadata": {
    "slideshow": {
     "slide_type": "slide"
    }
   },
   "source": [
    "The first strategy is to have a standing order made each week on the same day.\n"
   ]
  },
  {
   "cell_type": "code",
   "execution_count": 3,
   "metadata": {
    "slideshow": {
     "slide_type": "fragment"
    }
   },
   "outputs": [],
   "source": [
    "def stand_order(J,dow=6):\n",
    "    ## dow = arrival day-of-week for standing order; should be in [0,1,2,3,4,5,6]\n",
    "    ## we'll assume that the first day of the ``days`` list is dow=0.\n",
    "    \n",
    "    N = J.num_days\n",
    "    J.reset()\n",
    "\n",
    "    # loop through the days\n",
    "    for i in range(N):\n",
    "        c = J.customers[i]            ## c is 1 if there is a customer on day i, 0 otherwise\n",
    "        \n",
    "        if dow == np.mod(i,7):        ## add stock on the dow for order arrival\n",
    "            J.add_stock()\n",
    "            \n",
    "        if c>0 and J.stock == 0:\n",
    "            J.lost_sales = J.lost_sales + 1   ## lost sale if no stock\n",
    "            \n",
    "        if c>0 and J.stock > 0:               ## sale if adequate stock\n",
    "            J.sale()\n",
    "            \n",
    "        J.storage_days = J.storage_days + J.stock    ## accumulate total storage costs\n",
    "        \n",
    "    return J.result()\n"
   ]
  },
  {
   "cell_type": "markdown",
   "metadata": {
    "slideshow": {
     "slide_type": "slide"
    }
   },
   "source": [
    "The second strategy is to have a order placed as soon as a sale is made."
   ]
  },
  {
   "cell_type": "code",
   "execution_count": 4,
   "metadata": {
    "slideshow": {
     "slide_type": "fragment"
    }
   },
   "outputs": [],
   "source": [
    "def order_on_demand(J):\n",
    "    J.reset()\n",
    "    order_wait = np.inf                        ## order_wait represents wait-time\n",
    "                                               ## until next order arrival\n",
    "\n",
    "    ## loop through the customers\n",
    "    for c in J.customers:\n",
    "        if c>0 and J.stock==0:                 ## record lost sale if no stock\n",
    "            J.lost_sales = J.lost_sales + 1\n",
    "            \n",
    "        if c>0 and J.stock>0:                  ## record sale if adequate stock\n",
    "            J.sale()\n",
    "            \n",
    "        J.storage_days += J.stock              ## accumulate storage days\n",
    "        \n",
    "        if  J.stock==0 and order_wait == np.inf:  ## reorder if stock is empty and no current order\n",
    "            order_wait = 5\n",
    "            \n",
    "        if order_wait == 0:                    ## stock arrives\n",
    "            J.add_stock()\n",
    "            order_wait = np.inf\n",
    "            \n",
    "        if order_wait>0:                       ## decrement arrival time for in-transit orders\n",
    "            order_wait -= 1\n",
    "            \n",
    "    return J.result()\n"
   ]
  },
  {
   "cell_type": "code",
   "execution_count": 5,
   "metadata": {
    "slideshow": {
     "slide_type": "slide"
    }
   },
   "outputs": [],
   "source": [
    "J = JFTE(2*52*7)   # run for 2 years\n",
    "\n",
    "stand_result = stand_order(J,dow=6)\n",
    "\n",
    "demand_result = order_on_demand(J)\n"
   ]
  },
  {
   "cell_type": "code",
   "execution_count": 6,
   "metadata": {
    "slideshow": {
     "slide_type": "fragment"
    }
   },
   "outputs": [
    {
     "data": {
      "text/plain": [
       "{'number_days': 728,\n",
       " 'weeks': 104.0,\n",
       " 'sales': 84,\n",
       " 'lost_sales': 2,\n",
       " 'storage_days': 5393,\n",
       " 'max_stock': 21}"
      ]
     },
     "execution_count": 6,
     "metadata": {},
     "output_type": "execute_result"
    }
   ],
   "source": [
    "stand_result"
   ]
  },
  {
   "cell_type": "code",
   "execution_count": 7,
   "metadata": {
    "slideshow": {
     "slide_type": "fragment"
    }
   },
   "outputs": [
    {
     "data": {
      "text/plain": [
       "{'number_days': 728,\n",
       " 'weeks': 104.0,\n",
       " 'sales': 56,\n",
       " 'lost_sales': 30,\n",
       " 'storage_days': 392,\n",
       " 'max_stock': 1}"
      ]
     },
     "execution_count": 7,
     "metadata": {},
     "output_type": "execute_result"
    }
   ],
   "source": [
    "demand_result"
   ]
  },
  {
   "cell_type": "code",
   "execution_count": 8,
   "metadata": {},
   "outputs": [],
   "source": [
    "import pandas as pd\n",
    "\n",
    "def make_trials(trial_weeks = 2*52, num_trials = 10):\n",
    "    return [ JFTE(7*trial_weeks) for _ in range(num_trials) ]\n",
    "\n",
    "def report_trials(strategy,trials):\n",
    "\n",
    "    results = [ strategy(t) for t in trials ]\n",
    "    \n",
    "    details = ['weeks', 'sales', 'lost_sales', 'storage_days', 'max_stock']\n",
    "\n",
    "    sd = {i: [r[i] for r in results ] for i in details}\n",
    "\n",
    "    return pd.DataFrame(sd)\n",
    "\n",
    "## make a list of 10 trials. Each trial has length 2 years\n",
    "ten_trials = make_trials()\n",
    "\n",
    "# now we can use `ten_trials` as input to `report_trials` and compare \n",
    "# the results of our ordering strategies on the same data."
   ]
  },
  {
   "cell_type": "code",
   "execution_count": 9,
   "metadata": {},
   "outputs": [
    {
     "data": {
      "text/html": [
       "<div>\n",
       "<style scoped>\n",
       "    .dataframe tbody tr th:only-of-type {\n",
       "        vertical-align: middle;\n",
       "    }\n",
       "\n",
       "    .dataframe tbody tr th {\n",
       "        vertical-align: top;\n",
       "    }\n",
       "\n",
       "    .dataframe thead th {\n",
       "        text-align: right;\n",
       "    }\n",
       "</style>\n",
       "<table border=\"1\" class=\"dataframe\">\n",
       "  <thead>\n",
       "    <tr style=\"text-align: right;\">\n",
       "      <th></th>\n",
       "      <th>weeks</th>\n",
       "      <th>sales</th>\n",
       "      <th>lost_sales</th>\n",
       "      <th>storage_days</th>\n",
       "      <th>max_stock</th>\n",
       "    </tr>\n",
       "  </thead>\n",
       "  <tbody>\n",
       "    <tr>\n",
       "      <th>0</th>\n",
       "      <td>104.0</td>\n",
       "      <td>104</td>\n",
       "      <td>27</td>\n",
       "      <td>811</td>\n",
       "      <td>5</td>\n",
       "    </tr>\n",
       "    <tr>\n",
       "      <th>1</th>\n",
       "      <td>104.0</td>\n",
       "      <td>101</td>\n",
       "      <td>24</td>\n",
       "      <td>1118</td>\n",
       "      <td>6</td>\n",
       "    </tr>\n",
       "    <tr>\n",
       "      <th>2</th>\n",
       "      <td>104.0</td>\n",
       "      <td>93</td>\n",
       "      <td>4</td>\n",
       "      <td>4176</td>\n",
       "      <td>14</td>\n",
       "    </tr>\n",
       "    <tr>\n",
       "      <th>3</th>\n",
       "      <td>104.0</td>\n",
       "      <td>101</td>\n",
       "      <td>5</td>\n",
       "      <td>2978</td>\n",
       "      <td>12</td>\n",
       "    </tr>\n",
       "    <tr>\n",
       "      <th>4</th>\n",
       "      <td>104.0</td>\n",
       "      <td>104</td>\n",
       "      <td>5</td>\n",
       "      <td>2194</td>\n",
       "      <td>9</td>\n",
       "    </tr>\n",
       "    <tr>\n",
       "      <th>5</th>\n",
       "      <td>104.0</td>\n",
       "      <td>99</td>\n",
       "      <td>1</td>\n",
       "      <td>3201</td>\n",
       "      <td>9</td>\n",
       "    </tr>\n",
       "    <tr>\n",
       "      <th>6</th>\n",
       "      <td>104.0</td>\n",
       "      <td>95</td>\n",
       "      <td>4</td>\n",
       "      <td>3988</td>\n",
       "      <td>13</td>\n",
       "    </tr>\n",
       "    <tr>\n",
       "      <th>7</th>\n",
       "      <td>104.0</td>\n",
       "      <td>96</td>\n",
       "      <td>21</td>\n",
       "      <td>1367</td>\n",
       "      <td>9</td>\n",
       "    </tr>\n",
       "    <tr>\n",
       "      <th>8</th>\n",
       "      <td>104.0</td>\n",
       "      <td>101</td>\n",
       "      <td>14</td>\n",
       "      <td>2278</td>\n",
       "      <td>7</td>\n",
       "    </tr>\n",
       "    <tr>\n",
       "      <th>9</th>\n",
       "      <td>104.0</td>\n",
       "      <td>93</td>\n",
       "      <td>0</td>\n",
       "      <td>5267</td>\n",
       "      <td>14</td>\n",
       "    </tr>\n",
       "  </tbody>\n",
       "</table>\n",
       "</div>"
      ],
      "text/plain": [
       "   weeks  sales  lost_sales  storage_days  max_stock\n",
       "0  104.0    104          27           811          5\n",
       "1  104.0    101          24          1118          6\n",
       "2  104.0     93           4          4176         14\n",
       "3  104.0    101           5          2978         12\n",
       "4  104.0    104           5          2194          9\n",
       "5  104.0     99           1          3201          9\n",
       "6  104.0     95           4          3988         13\n",
       "7  104.0     96          21          1367          9\n",
       "8  104.0    101          14          2278          7\n",
       "9  104.0     93           0          5267         14"
      ]
     },
     "execution_count": 9,
     "metadata": {},
     "output_type": "execute_result"
    }
   ],
   "source": [
    "stand_results = report_trials(stand_order,ten_trials)\n",
    "stand_results"
   ]
  },
  {
   "cell_type": "code",
   "execution_count": 10,
   "metadata": {
    "lines_to_next_cell": 0,
    "slideshow": {
     "slide_type": "subslide"
    }
   },
   "outputs": [
    {
     "data": {
      "text/html": [
       "<div>\n",
       "<style scoped>\n",
       "    .dataframe tbody tr th:only-of-type {\n",
       "        vertical-align: middle;\n",
       "    }\n",
       "\n",
       "    .dataframe tbody tr th {\n",
       "        vertical-align: top;\n",
       "    }\n",
       "\n",
       "    .dataframe thead th {\n",
       "        text-align: right;\n",
       "    }\n",
       "</style>\n",
       "<table border=\"1\" class=\"dataframe\">\n",
       "  <thead>\n",
       "    <tr style=\"text-align: right;\">\n",
       "      <th></th>\n",
       "      <th>weeks</th>\n",
       "      <th>sales</th>\n",
       "      <th>lost_sales</th>\n",
       "      <th>storage_days</th>\n",
       "      <th>max_stock</th>\n",
       "    </tr>\n",
       "  </thead>\n",
       "  <tbody>\n",
       "    <tr>\n",
       "      <th>0</th>\n",
       "      <td>104.0</td>\n",
       "      <td>65</td>\n",
       "      <td>66</td>\n",
       "      <td>338</td>\n",
       "      <td>1</td>\n",
       "    </tr>\n",
       "    <tr>\n",
       "      <th>1</th>\n",
       "      <td>104.0</td>\n",
       "      <td>65</td>\n",
       "      <td>60</td>\n",
       "      <td>338</td>\n",
       "      <td>1</td>\n",
       "    </tr>\n",
       "    <tr>\n",
       "      <th>2</th>\n",
       "      <td>104.0</td>\n",
       "      <td>57</td>\n",
       "      <td>40</td>\n",
       "      <td>386</td>\n",
       "      <td>1</td>\n",
       "    </tr>\n",
       "    <tr>\n",
       "      <th>3</th>\n",
       "      <td>104.0</td>\n",
       "      <td>67</td>\n",
       "      <td>39</td>\n",
       "      <td>327</td>\n",
       "      <td>1</td>\n",
       "    </tr>\n",
       "    <tr>\n",
       "      <th>4</th>\n",
       "      <td>104.0</td>\n",
       "      <td>62</td>\n",
       "      <td>47</td>\n",
       "      <td>356</td>\n",
       "      <td>1</td>\n",
       "    </tr>\n",
       "    <tr>\n",
       "      <th>5</th>\n",
       "      <td>104.0</td>\n",
       "      <td>62</td>\n",
       "      <td>38</td>\n",
       "      <td>361</td>\n",
       "      <td>1</td>\n",
       "    </tr>\n",
       "    <tr>\n",
       "      <th>6</th>\n",
       "      <td>104.0</td>\n",
       "      <td>57</td>\n",
       "      <td>42</td>\n",
       "      <td>386</td>\n",
       "      <td>1</td>\n",
       "    </tr>\n",
       "    <tr>\n",
       "      <th>7</th>\n",
       "      <td>104.0</td>\n",
       "      <td>71</td>\n",
       "      <td>46</td>\n",
       "      <td>302</td>\n",
       "      <td>1</td>\n",
       "    </tr>\n",
       "    <tr>\n",
       "      <th>8</th>\n",
       "      <td>104.0</td>\n",
       "      <td>72</td>\n",
       "      <td>43</td>\n",
       "      <td>296</td>\n",
       "      <td>1</td>\n",
       "    </tr>\n",
       "    <tr>\n",
       "      <th>9</th>\n",
       "      <td>104.0</td>\n",
       "      <td>56</td>\n",
       "      <td>37</td>\n",
       "      <td>392</td>\n",
       "      <td>1</td>\n",
       "    </tr>\n",
       "  </tbody>\n",
       "</table>\n",
       "</div>"
      ],
      "text/plain": [
       "   weeks  sales  lost_sales  storage_days  max_stock\n",
       "0  104.0     65          66           338          1\n",
       "1  104.0     65          60           338          1\n",
       "2  104.0     57          40           386          1\n",
       "3  104.0     67          39           327          1\n",
       "4  104.0     62          47           356          1\n",
       "5  104.0     62          38           361          1\n",
       "6  104.0     57          42           386          1\n",
       "7  104.0     71          46           302          1\n",
       "8  104.0     72          43           296          1\n",
       "9  104.0     56          37           392          1"
      ]
     },
     "execution_count": 10,
     "metadata": {},
     "output_type": "execute_result"
    }
   ],
   "source": [
    "demand_results = report_trials(order_on_demand, ten_trials)\n",
    "demand_results"
   ]
  },
  {
   "cell_type": "code",
   "execution_count": 11,
   "metadata": {},
   "outputs": [
    {
     "data": {
      "text/plain": [
       "weeks            104.0\n",
       "sales             98.7\n",
       "lost_sales        10.5\n",
       "storage_days    2737.8\n",
       "max_stock          9.8\n",
       "dtype: float64"
      ]
     },
     "execution_count": 11,
     "metadata": {},
     "output_type": "execute_result"
    }
   ],
   "source": [
    "stand_results.mean()"
   ]
  },
  {
   "cell_type": "code",
   "execution_count": 12,
   "metadata": {},
   "outputs": [
    {
     "data": {
      "text/plain": [
       "weeks           104.0\n",
       "sales            63.4\n",
       "lost_sales       45.8\n",
       "storage_days    348.2\n",
       "max_stock         1.0\n",
       "dtype: float64"
      ]
     },
     "execution_count": 12,
     "metadata": {},
     "output_type": "execute_result"
    }
   ],
   "source": [
    "demand_results.mean()"
   ]
  },
  {
   "cell_type": "code",
   "execution_count": 15,
   "metadata": {},
   "outputs": [
    {
     "data": {
      "text/plain": [
       "weeks              0.000000\n",
       "sales              4.191261\n",
       "lost_sales        10.124228\n",
       "storage_days    1453.847753\n",
       "max_stock          3.293090\n",
       "dtype: float64"
      ]
     },
     "execution_count": 15,
     "metadata": {},
     "output_type": "execute_result"
    }
   ],
   "source": [
    "stand_results.std()"
   ]
  },
  {
   "cell_type": "code",
   "execution_count": 18,
   "metadata": {},
   "outputs": [
    {
     "data": {
      "text/plain": [
       "weeks            0.000000\n",
       "sales            5.680376\n",
       "lost_sales       9.727395\n",
       "storage_days    34.185117\n",
       "max_stock        0.000000\n",
       "dtype: float64"
      ]
     },
     "execution_count": 18,
     "metadata": {},
     "output_type": "execute_result"
    }
   ],
   "source": [
    "demand_results.std()"
   ]
  },
  {
   "cell_type": "code",
   "execution_count": null,
   "metadata": {},
   "outputs": [],
   "source": []
  }
 ],
 "metadata": {
  "jupytext": {
   "formats": "ipynb,md"
  },
  "kernelspec": {
   "display_name": "Python 3 (ipykernel)",
   "language": "python",
   "name": "python3"
  },
  "language_info": {
   "codemirror_mode": {
    "name": "ipython",
    "version": 3
   },
   "file_extension": ".py",
   "mimetype": "text/x-python",
   "name": "python",
   "nbconvert_exporter": "python",
   "pygments_lexer": "ipython3",
   "version": "3.11.6"
  }
 },
 "nbformat": 4,
 "nbformat_minor": 4
}
