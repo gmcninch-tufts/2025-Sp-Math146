{
 "cells": [
  {
   "cell_type": "code",
   "execution_count": 1,
   "id": "31cc2f09-e7a4-40d0-8818-a3b00e5d7a89",
   "metadata": {},
   "outputs": [
    {
     "ename": "NameError",
     "evalue": "name 'makeK' is not defined",
     "output_type": "error",
     "traceback": [
      "\u001b[0;31m---------------------------------------------------------------------------\u001b[0m",
      "\u001b[0;31mNameError\u001b[0m                                 Traceback (most recent call last)",
      "Cell \u001b[0;32mIn[1], line 1\u001b[0m\n\u001b[0;32m----> 1\u001b[0m K3 \u001b[38;5;241m=\u001b[39m \u001b[43mmakeK\u001b[49m([ \u001b[38;5;241m9.7\u001b[39m\u001b[38;5;241m*\u001b[39m \u001b[38;5;241m10\u001b[39m\u001b[38;5;241m*\u001b[39m\u001b[38;5;241m*\u001b[39m\u001b[38;5;241m6\u001b[39m \u001b[38;5;28;01mif\u001b[39;00m i \u001b[38;5;129;01min\u001b[39;00m [\u001b[38;5;241m1\u001b[39m,\u001b[38;5;241m3\u001b[39m,\u001b[38;5;241m4\u001b[39m,\u001b[38;5;241m6\u001b[39m,\u001b[38;5;241m9\u001b[39m,\u001b[38;5;241m12\u001b[39m,\u001b[38;5;241m14\u001b[39m,\u001b[38;5;241m15\u001b[39m] \u001b[38;5;28;01melse\u001b[39;00m \u001b[38;5;241m2\u001b[39m\u001b[38;5;241m*\u001b[39m\u001b[38;5;241m10\u001b[39m\u001b[38;5;241m*\u001b[39m\u001b[38;5;241m*\u001b[39m\u001b[38;5;241m6\u001b[39m \u001b[38;5;28;01mif\u001b[39;00m i \u001b[38;5;241m==\u001b[39m \u001b[38;5;241m3\u001b[39m \u001b[38;5;28;01melse\u001b[39;00m \u001b[38;5;241m6.8943\u001b[39m \u001b[38;5;241m*\u001b[39m \u001b[38;5;241m10\u001b[39m\u001b[38;5;241m*\u001b[39m\u001b[38;5;241m*\u001b[39m\u001b[38;5;241m6\u001b[39m \u001b[38;5;28;01mfor\u001b[39;00m i \u001b[38;5;129;01min\u001b[39;00m \u001b[38;5;28mrange\u001b[39m (\u001b[38;5;241m1\u001b[39m,\u001b[38;5;241m16\u001b[39m)])\n\u001b[1;32m      2\u001b[0m A3 \u001b[38;5;241m=\u001b[39m B_bridge\u001b[38;5;241m.\u001b[39mtranspose() \u001b[38;5;241m@\u001b[39m K3 \u001b[38;5;241m@\u001b[39m B_bridge\n\u001b[1;32m      5\u001b[0m \u001b[38;5;66;03m# for these forces\u001b[39;00m\n",
      "\u001b[0;31mNameError\u001b[0m: name 'makeK' is not defined"
     ]
    }
   ],
   "source": [
    "K3 = makeK([ 9.7* 10**6 if i in [1,3,4,6,9,12,14,15] else 2*10**6 if i == 3 else 6.8943 * 10**6 for i in range (1,16)])\n",
    "A3 = B_bridge.transpose() @ K3 @ B_bridge\n",
    "\n",
    "\n",
    "# for these forces\n",
    "f1 = 10**6*np.array([0, 2, 0, 0, 0, 0, 0, 0, 0, 0, 0, 0])\n",
    "f2 = 10**6*np.array([0, 0, 0, 2, 0, 0, 0, 0, 0, 0, 0, 0])\n",
    "f3 = 10**6*np.array([0, 0, 0, 0, 0, 2, 0, 0, 0, 0, 0, 0])\n",
    "\n",
    "\n",
    "x = [ la.solve(A3,f) for f in [f1,f2,f3] ]"
   ]
  },
  {
   "cell_type": "code",
   "execution_count": null,
   "id": "0161da81-7edf-44e1-89ea-1d932da11c86",
   "metadata": {},
   "outputs": [],
   "source": []
  }
 ],
 "metadata": {
  "kernelspec": {
   "display_name": "Python 3 (ipykernel)",
   "language": "python",
   "name": "python3"
  },
  "language_info": {
   "codemirror_mode": {
    "name": "ipython",
    "version": 3
   },
   "file_extension": ".py",
   "mimetype": "text/x-python",
   "name": "python",
   "nbconvert_exporter": "python",
   "pygments_lexer": "ipython3",
   "version": "3.11.6"
  }
 },
 "nbformat": 4,
 "nbformat_minor": 5
}
