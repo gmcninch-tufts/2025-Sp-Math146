{
 "cells": [
  {
   "cell_type": "markdown",
   "metadata": {
    "slideshow": {
     "slide_type": "slide"
    }
   },
   "source": [
    "# [George McNinch](http://gmcninch.math.tufts.edu) Math 87 - Spring 2024\n",
    "\n",
    "# Week 5\n",
    "\n",
    "# Integer programming via Branch & Bound\n",
    "# Week 5\n",
    "\n",
    "# Integer programming via Branch & Bound\n"
   ]
  },
  {
   "cell_type": "markdown",
   "metadata": {
    "slideshow": {
     "slide_type": "slide"
    }
   },
   "source": [
    "Integer programming: summary of some issue(s)\n",
    "---------------------------------------------\n",
    "\n",
    "\n",
    "As an example, consider the linear program:\n",
    "\n",
    "``maximize`` $f(x_1,x_2) = x_1 + 5x_2$; i.e. $\\mathbf{c} \\cdot \\mathbf{x}$ where $\\mathbf{c} = \\begin{bmatrix} 1 & 5 \\end{bmatrix}$.\n",
    "\n",
    "such that $A \\mathbf{x} = \\begin{bmatrix} 1 & 10 \\\\ 1 & 0 \\end{bmatrix} \\begin{bmatrix} x_1 \\\\ x_2 \\end{bmatrix} \\le\n",
    "\\begin{bmatrix} 20 \\\\ 2 \\end{bmatrix}$ and $\\mathbf{x} \\ge \\mathbf{0}$.\n",
    "\n",
    "Let's find the optimal solution $\\mathbf{x} \\in \\mathbb{R}^2$, and the optimal *integral* solution\n",
    "$\\mathbf{x}$ with $x_1,x_2 \\in \\mathbb{Z}$.\n",
    "\n",
    "We'll start by solving the *relaxed* problem, where the integrality condition is ignored:"
   ]
  },
  {
   "cell_type": "code",
   "execution_count": 1,
   "metadata": {
    "slideshow": {
     "slide_type": "subslide"
    }
   },
   "outputs": [
    {
     "name": "stdout",
     "output_type": "stream",
     "text": [
      "result = [2.  1.8]\n",
      "maxvalue = 11.00\n"
     ]
    }
   ],
   "source": [
    "from scipy.optimize import linprog\n",
    "import numpy as np\n",
    "\n",
    "A = np.array([[1,10],[1,0]])\n",
    "b = np.array([20,2])\n",
    "c = np.array([1,5])\n",
    "\n",
    "result=linprog((-1)*c,A_ub = A, b_ub = b)\n",
    "print(f\"result = {result.x}\\nmaxvalue = {(-1)*result.fun:.2f}\")"
   ]
  },
  {
   "cell_type": "markdown",
   "metadata": {
    "slideshow": {
     "slide_type": "subslide"
    }
   },
   "source": [
    "This calculution shows that an optimal solution with no integer constraint is $\\mathbf{x} = \\begin{bmatrix} 2 \\\\ 1.8 \\end{bmatrix}$ and that the optimal value is roughly 11.\n"
   ]
  },
  {
   "cell_type": "markdown",
   "metadata": {
    "slideshow": {
     "slide_type": "subslide"
    }
   },
   "source": [
    "Let's make an image of the feasible set:"
   ]
  },
  {
   "cell_type": "code",
   "execution_count": 2,
   "metadata": {
    "lines_to_next_cell": 2,
    "slideshow": {
     "slide_type": "fragment"
    },
    "tags": [
     "to_remove"
    ]
   },
   "outputs": [],
   "source": [
    "%matplotlib notebook\n",
    "%matplotlib inline\n",
    "import matplotlib.pyplot as plt\n",
    "import itertools\n",
    "\n",
    "plt.rcParams.update({'font.size': 17})\n",
    "\n",
    "# plot the feasible region\n",
    "d = np.linspace(-.5,3,500)\n",
    "X,Y = np.meshgrid(d,d)\n",
    "\n",
    "def vector_le(b,c):\n",
    "    return np.logical_and.reduce(b<=c)\n",
    "\n",
    "@np.vectorize\n",
    "def feasible(x,y):\n",
    "    p=np.array([x,y])\n",
    "    if vector_le(A@p,b) and vector_le(np.zeros(2),p):\n",
    "        return 1.0\n",
    "    else:\n",
    "        return 0.0\n",
    "               \n",
    "Z=feasible(X,Y)\n"
   ]
  },
  {
   "cell_type": "code",
   "execution_count": 3,
   "metadata": {
    "slideshow": {
     "slide_type": "fragment"
    },
    "tags": [
     "to_remove"
    ]
   },
   "outputs": [
    {
     "data": {
      "image/png": "[encoded data removed]",
      "text/plain": [
       "<Figure size 700x700 with 1 Axes>"
      ]
     },
     "metadata": {},
     "output_type": "display_data"
    }
   ],
   "source": [
    "\n",
    "fig,ax = plt.subplots(figsize=(7,7))\n",
    "ax.axhline(y=0, color = \"black\")\n",
    "ax.axvline(x=0, color = \"black\")\n",
    "\n",
    "# draw the region defind by x >= 0 and Ax <= b. \n",
    "ax.imshow(Z,\n",
    "          extent=(X.min(),X.max(),Y.min(),Y.max()),\n",
    "          origin=\"lower\", \n",
    "          cmap=\"Reds\", \n",
    "          alpha = 0.2)\n",
    "\n",
    "def dot(x,y):\n",
    "    return ax.scatter(x,y,s=100,color=\"blue\")\n",
    "\n",
    "# draw the integer points\n",
    "for i,j in itertools.product(range(3),range(3)):\n",
    "    dot(i,j)\n"
   ]
  },
  {
   "cell_type": "markdown",
   "metadata": {
    "lines_to_next_cell": 2,
    "slideshow": {
     "slide_type": "subslide"
    }
   },
   "source": [
    "You might imagine that the optimal *integer* solution is just obtained by rounding. Note the following:\n",
    "\n",
    "$(2,2)$ is infeasible.\n",
    "\n",
    "$(2,1)$ is feasible and $f(2,1) = 2 + 5\\cdot 1 = 7$\n",
    "\n",
    "$(1,2)$ is infeasible\n",
    "\n",
    "$(1,1)$ is feasible and $f(1,1) = 1 + 5 \\cdot 1 = 6$\n",
    "\n",
    "But as it turns out, the optimal integer solution is the point $(0,2)$ for which $f(0,2) = 0 + 5 \\cdot 2 = 10$.\n",
    "\n",
    "Of course, this optimal integral solution is nowhere near the optimal non-integral solution. So in general, rounding is inadequate!\n",
    "\n",
    "-------"
   ]
  },
  {
   "cell_type": "markdown",
   "metadata": {
    "slideshow": {
     "slide_type": "slide"
    }
   },
   "source": [
    "How to proceed? Well, in this case there are not very many integral feasible points, so to optimize, we can just check the value of $f$ at all such points!\n",
    "\n",
    "Consider a linear program in standard form for $\\mathbf{x} \\in \\mathbb{R}^n$ with $\\mathbf{x} \\ge \\mathbf{0}$, with inequality constraint $A \\mathbf{x} \\le \\mathbf{b}$ which seeks to ``maximize`` its objective function $f$.\n",
    "\n"
   ]
  },
  {
   "cell_type": "markdown",
   "metadata": {
    "slideshow": {
     "slide_type": "subslide"
    }
   },
   "source": [
    "Here is a systematic way that we might proceed:\n",
    "\n",
    "Find an integer $M \\ge 0$ with the property that $$\\mathbf{x} > M \\begin{bmatrix} 1 \\\\ 1 \\\\ \\vdots \\\\ 1 \\end{bmatrix} \\implies \\text{$\\mathbf{x}$ is infeasible}.$$\n",
    "\n",
    "There are $(M+1)^n$ points $\\mathbf{x}$ with integer coordinates for which $\\mathbf{0} \\le \\mathbf{x} \\le M \\begin{bmatrix} 1 \\\\ 1 \\\\ \\vdots \\\\ 1 \\end{bmatrix}$.\n",
    "\n",
    "For each of these points $\\mathbf{x}$, we do the following:\n",
    "- if $\\mathbf{x}$ is infeasible, discard\n",
    "- otherwise, record the pair $(\\mathbf{x},f(\\mathbf{x}))$.\n",
    "\n",
    "When we are finished, we just scan the list of recorded pairs and select that with  the largest objective function value; this selection solves the problem.\n",
    "\n"
   ]
  },
  {
   "cell_type": "markdown",
   "metadata": {
    "slideshow": {
     "slide_type": "slide"
    }
   },
   "source": [
    "The strategy just described is systematic, easy to describe, and works OK when $(M+1)^n$ isn't so large. But e.g. if $M = 3$ and $n=20$, then already\n",
    "$$(M+1)^n \\approx 1.1 \\times 10^{12},$$ \n",
    "which gives us a huge number of points to check!!!"
   ]
  },
  {
   "cell_type": "markdown",
   "metadata": {
    "slideshow": {
     "slide_type": "slide"
    }
   },
   "source": [
    "A more efficient approach: \"Branch & Bound\"\n",
    "============================================\n",
    "\n",
    "We are going to describe an algorithm that implements a [branch-and-bound strategy](https://en.wikipedia.org/wiki/Branch_and_bound) to approach the problem described above.\n",
    "\n",
    "Let's fix some notation; after we formulate some generalities, we'll specialize our treatment to some examples.\n"
   ]
  },
  {
   "cell_type": "markdown",
   "metadata": {
    "slideshow": {
     "slide_type": "subslide"
    }
   },
   "source": [
    "\n",
    "Notation\n",
    "--------\n",
    "\n",
    "We consider an ``integer linear program``:\n",
    "\n",
    "$(\\clubsuit)$ ``maximize`` $f(\\mathbf{x}) = \\mathbf{c}\\cdot \\mathbf{x}$\n",
    "\n",
    "subject to:\n",
    "\n",
    "- $\\mathbf{x} \\in \\mathbb{Z}^n, \\mathbf{x} \\ge \\mathbf{0}$ \n",
    "- $A \\mathbf{x} \\le \\mathbf{b}$ for some $A \\in \\mathbb{R}^{r \\times n}$ and $\\mathbf{b} \\in \\mathbb{R}^r$.\n",
    "\n",
    "Recall that $\\mathbb{Z} = \\{0, \\pm 1, \\pm 2, \\cdots\\}$ is the set of *integers*, and  $\\mathbb{Z}^n$ is the just the set of vectors $\\begin{bmatrix} a_1 & a_2 & \\cdots & a_n \\end{bmatrix}^T$ where $a_1,a_2, \\dots, a_n \\in \\mathbb{Z}$.\n",
    "\n"
   ]
  },
  {
   "cell_type": "markdown",
   "metadata": {
    "slideshow": {
     "slide_type": "subslide"
    }
   },
   "source": [
    "We are going to suppose that we have some vector \n",
    "\n",
    "$$\\mathbf{M} = \\begin{bmatrix} m_1 & m_2 & \\cdots & m_n \\end{bmatrix}^T \\in \\mathbb{Z}^n, \\quad \\mathbf{M} \\ge \\mathbf{0}$$ \n",
    "\n",
    "with the property that $\\mathbf{x} > \\mathbf{M} \\implies \\mathbf{x}$ is infeasible (i.e. $\\mathbf{x} > \\mathbf{M} \\implies A \\mathbf{x} > \\mathbf{b}$).\n",
    "\n",
    "In practice, it'll often be the case that $m_1 = m_2 = \\cdots = m_n$ but that isn't a requirement for us.\n",
    "\n",
    "Let's write\n",
    "\n",
    "$$S = \\{ \\mathbf{x} \\in \\mathbb{Z}^n \\mid \\mathbf{0} \\le \\mathbf{x} \\le \\mathbf{M} \\}.$$ \n",
    "\n",
    "Note that the number of elements $|S|$ in the set $S$ is given by the product \n",
    "$$S = \\prod_{i=1}^n (m_i + 1) = (m_1 + 1) \\times (m_2 + 1) \\times \\cdots \\times (m_n + 1).$$\n",
    "\n",
    "\n",
    "And according to our assumption, $S$ contains every feasible point $\\mathbf{x}$ whose coordinates are integers. So a brute force approach to finding an optimal integral point $\\mathbf{x}$ could\n",
    "be achieved just by testing each element of $S$.\n",
    "\n",
    "Our goal is to systematically eliminate many of the points in $S$."
   ]
  },
  {
   "cell_type": "markdown",
   "metadata": {
    "slideshow": {
     "slide_type": "slide"
    }
   },
   "source": [
    "Algorithm overview\n",
    "------------------\n",
    "\n",
    "Keep the preceding notations. We sometimes refer to the entries $x_i$ of $\\mathbf{x}$ as \"variables\".\n",
    "\n",
    "Let's focus on one entry of $\\mathbf{x} = \\begin{bmatrix} x_1 & x_2 & \\cdots & x_n \\end{bmatrix}^T \\in \\mathbb{Z}^n$, say the $j$-th entry for some $1 \\le j \\le n$ (we'll say more below about how we should select $j$).  i.e. we focus on the variable $x_j$.\n",
    "\n",
    "Now, $x_j$ may take the values $0,1,2,\\cdots,m_j$, so we consider\n",
    "the following subsets of $S$:\n",
    "\n",
    "$$\\begin{matrix} \n",
    "S_0 &=& \\{\\mathbf{x} \\in S \\mid x_j = 0\\} \\\\\n",
    "S_1 &=& \\{\\mathbf{x} \\in S \\mid x_j = 1\\} \\\\\n",
    "\\vdots & \\vdots & \\vdots \\\\\n",
    "S_{m_j} & = & \\{\\mathbf{x} \\in S \\mid x_j = m_j\\}\n",
    "\\end{matrix}$$\n",
    " \n",
    "Thus we have *partitioned* $S$ as a *disjoint union* of certain subsets:\n",
    "\n",
    "$$S = S_0 \\cup S_1 \\cup \\cdots \\cup S_{m_j}$$\n",
    "\n"
   ]
  },
  {
   "cell_type": "markdown",
   "metadata": {
    "slideshow": {
     "slide_type": "subslide"
    }
   },
   "source": [
    "For $0 \\le \\ell \\le m_j$, write $f_\\ell$ for the maximum value of the objective function on points in $S_\\ell$:\n",
    "\n",
    "$$f_\\ell = \\max\\left(f(\\mathbf{x}) = \\mathbf{c} \\cdot \\mathbf{x} \\mid \\mathbf{x} \\in S_\\ell\\right ).$$\n",
    "\n",
    "If we know for some $\\ell_0$ that the quantity $f_{\\ell_0}$ exceeds $f_\\ell$ for every $\\ell \\not = \\ell_0$, then of course an optimal integral \n",
    "to $(\\clubsuit)$ is contained in the subset $S_{\\ell_0}$.\n",
    "\n",
    "So we can then *prune* all the $S_\\ell$ with $\\ell \\not = \\ell_0$ and continue our search for optimal solutions to $(\\clubsuit)$ only considering points in $S_{\\ell_0}$.\n",
    "\n",
    "We may now *repeat* the above procedure by focusing on a *new entry of $\\mathbf{x}$* (different from the $j$-th entry), checking only points in $S_{\\ell_0}$.\n",
    "\n",
    "Iterating after selection of the subset $S_{\\ell_0}$ is known as *branching*."
   ]
  },
  {
   "cell_type": "markdown",
   "metadata": {
    "slideshow": {
     "slide_type": "subslide"
    }
   },
   "source": [
    "The main question now is this: how can we compare the values $f_\\ell, 0 \\le \\ell \\le m_j$ with one another, in order to carry out our pruning? This is known as *bounding*; so the question is: \"how do we bound\"?\n",
    "\n",
    "The answer is to use \"relaxed\" versions of the integer linear program $(\\clubsuit)$, obtained by omitting variables (imposing additional equality constraints) and/or eliminating the \"integral\" requirement.\n",
    "\n",
    "E.g. using ordinary linear programming, we may find the optimal *value* $v_\\ell$ of the objective function for the linear program obtained from $(\\clubsuit)$ by considering $\\mathbf{x} \\in \\mathbb{R}^n$ rather than $\\in \\mathbb{Z}^n$ and\n",
    "by imposing the additional equality constraint $x_j = \\ell$.\n",
    "\n",
    "Then of course $f_\\ell \\le v_\\ell$ -- i.e. $v_\\ell$ is an *upper bound* for $f_\\ell$.\n",
    "\n",
    "On the other hand, for any point $\\mathbf{\\widetilde x} \\in S_\\ell$, the must have \n",
    "$$f(\\widetilde x) = \\mathbf{c} \\cdot \\mathbf{\\widetilde x} \\le f_\\ell$$\n",
    "(since $f_\\ell$ is the maximum of such values!).\n",
    "\n",
    "These observations give us access to upper and lower bounds for the $f_\\ell$; we can now *bound* - i.e. prune - $S_\\ell$ if we can demonstrate that a lower bound for $f_{\\ell_0}$ exceeds an upper bound for $f_\\ell$\n",
    "for $\\ell \\not = \\ell_0$.\n"
   ]
  },
  {
   "cell_type": "markdown",
   "metadata": {
    "slideshow": {
     "slide_type": "slide"
    }
   },
   "source": [
    "Example\n",
    "-------------------\n",
    "\n",
    "Let's see how this works in practice!\n",
    "\n",
    "As a guiding heuristic, when we have a (non-integral) optimal point for a linear program, we choose\n",
    "to branch on the variable whose value (for this optimal point) is non-integral but closest to a integer."
   ]
  },
  {
   "cell_type": "markdown",
   "metadata": {
    "slideshow": {
     "slide_type": "subslide"
    }
   },
   "source": [
    "Consider again  the integer linear program\n",
    "\n",
    "$(\\diamondsuit) \\quad $ ``maximize`` $f(x_0,x_1) = x_0 + 5x_1$; i.e. $\\mathbf{c} \\cdot \\mathbf{x}$ where $\\mathbf{c} = \\begin{bmatrix} 1 & 5 \\end{bmatrix}$.\n",
    "\n",
    "such that $A \\mathbf{x} = \\begin{bmatrix} 1 & 10 \\\\ 1 & 0 \\end{bmatrix} \\begin{bmatrix} x_0 \\\\ x_1 \\end{bmatrix} \\le\n",
    "\\begin{bmatrix} 20 \\\\ 2 \\end{bmatrix}$ and $\\mathbf{x} \\ge \\mathbf{0}$ for $\\mathbf{x} \\in \\mathbb{Z}^2$.\n",
    "\n",
    "We notice that $(*) \\quad \\mathbf{x} > \\begin{bmatrix} 2 & 2 \\end{bmatrix}^T \\implies \\mathbf{x}$ is not feasible.\n",
    "\n",
    "To begin, we first solve the linear program obtained from $(\\diamondsuit)$ by considering $\\mathbf{x} \\in \\mathbb{R}^2$. \n"
   ]
  },
  {
   "cell_type": "code",
   "execution_count": 4,
   "metadata": {},
   "outputs": [],
   "source": [
    "import numpy as np\n",
    "\n",
    "lp = { \"goal\": \"maximize\",\n",
    "       \"obj\": np.array([1,5]),\n",
    "       \"Aub\": np.array([[1,10],[1,0]]),\n",
    "       \"bub\": np.array([20,2]),\n",
    "       \"bounds\": 2*[(0,None)]\n",
    "     }"
   ]
  },
  {
   "cell_type": "code",
   "execution_count": 5,
   "metadata": {},
   "outputs": [
    {
     "name": "stdout",
     "output_type": "stream",
     "text": [
      "The optimal value is v = 11.0 and an optimal solution is [2.  1.8]\n"
     ]
    }
   ],
   "source": [
    "result = linprog((-1)*lp[\"obj\"] ,bounds = lp[\"bounds\"], A_ub = lp[\"Aub\"], b_ub = lp[\"bub\"])\n",
    "print(f\"The optimal value is v = {abs(result.fun)} and an optimal solution is {result.x}\")"
   ]
  },
  {
   "cell_type": "markdown",
   "metadata": {},
   "source": [
    "\n",
    "Thus for this optimal solution, $x_0$ is already an integer, so we branch on $x_1$.\n",
    "\n",
    "Let's take a minute to write some code for branching."
   ]
  },
  {
   "cell_type": "code",
   "execution_count": 6,
   "metadata": {},
   "outputs": [],
   "source": [
    "\n",
    "def sbv(index,size):\n",
    "    return np.array([1.0 if i == index else 0.0 for i in range(size)])\n",
    "\n",
    "def branch(specs,lp):\n",
    "    n = len(lp[\"obj\"])\n",
    "\n",
    "    # create equality constraints for the \"specs\"\n",
    "    # each spec is a dictionary {\"index\": i, \"value\": v}\n",
    "    #\n",
    "    Aeq = np.array([sbv(spec[\"index\"],n) for spec in specs])\n",
    "    beq = np.array([spec[\"value\"] for spec in specs]) \n",
    "\n",
    " \n",
    "    #print(Aeq,beq)\n",
    "    if lp[\"goal\"] == \"maximize\":\n",
    "        result = linprog((-1)*lp[\"obj\"], \n",
    "                         bounds = lp[\"bounds\"], \n",
    "                         A_ub=lp[\"Aub\"], \n",
    "                         b_ub=lp[\"bub\"], \n",
    "                         A_eq = Aeq, \n",
    "                         b_eq = beq)\n",
    "    else:\n",
    "        result = linprog(lp[\"obj\"],  \n",
    "                         bounds = lp[\"bounds\"],\n",
    "                         A_ub=lp[\"Aub\"], \n",
    "                         b_ub=lp[\"bub\"], \n",
    "                         A_eq = Aeq, \n",
    "                         b_eq = beq)\n",
    "\n",
    "    if result.success:\n",
    "        return {\"obj_value\": (-1)*result.fun,\n",
    "                \"solution\": result.x}\n",
    "    else:\n",
    "        return \"lin program failed\""
   ]
  },
  {
   "cell_type": "markdown",
   "metadata": {},
   "source": [
    "Now we branch on `x1`. Recall that -- according to $(*)$ -- we need only consider values of `x1` in `[0,1,2]`."
   ]
  },
  {
   "cell_type": "code",
   "execution_count": 7,
   "metadata": {},
   "outputs": [
    {
     "data": {
      "text/plain": [
       "[(0, {'obj_value': 2.0, 'solution': array([ 2., -0.])}),\n",
       " (1, {'obj_value': 7.0, 'solution': array([2., 1.])}),\n",
       " (2, {'obj_value': 10.0, 'solution': array([-0.,  2.])})]"
      ]
     },
     "execution_count": 7,
     "metadata": {},
     "output_type": "execute_result"
    }
   ],
   "source": [
    "[ (v,branch([{\"index\":1, \"value\": v}],lp)) for v in [0,1,2]]\n"
   ]
  },
  {
   "cell_type": "markdown",
   "metadata": {},
   "source": [
    "Recall that -- in the notation used above -- `fi` denotes the maximum value of the objective function on points having\n",
    "`x1 == i`.  The preceding calculation shows that\n",
    "\n",
    "- `f0 <= 2`\n",
    "- `f1 <= 7`\n",
    "- since `[0,2]` is an integral solution, `10 <= f2`\n",
    "\n",
    "This shows that `f2` exceeds both `f0` and `f1`, so we `prune` the sets $S_0$ and $S_1$."
   ]
  },
  {
   "cell_type": "markdown",
   "metadata": {
    "slideshow": {
     "slide_type": "subslide"
    }
   },
   "source": [
    "\n",
    "We also see that $f_0 \\le 2, f_1 \\le 7$ and (since $(0,2)$ is an integral solution) $10 \\le f_1$;\n",
    "thus $f_1$ exceeds $f_0$ and $f_1$. Thus we ``prune`` $S_0$ and $S_1$.\n",
    "\n",
    "Moreover, \n",
    "since the optimal solution $x1 == 2$ is actually integral, we find $f_2 = 10$.\n",
    "\n",
    "Thus $f_2 = 10$ is the optimal value for $(\\diamondsuit)$ and an optimal integral solution is `x = [0,2]`.\n"
   ]
  },
  {
   "cell_type": "markdown",
   "metadata": {
    "slideshow": {
     "slide_type": "subslide"
    }
   },
   "source": [
    "One often presents this algorithm via a tree diagram, like the following:"
   ]
  },
  {
   "cell_type": "code",
   "execution_count": 8,
   "metadata": {
    "slideshow": {
     "slide_type": "fragment"
    },
    "tags": [
     "to_remove"
    ]
   },
   "outputs": [
    {
     "data": {
      "image/svg+xml": [
       "<?xml version=\"1.0\" encoding=\"UTF-8\" standalone=\"no\"?>\n",
       "<!DOCTYPE svg PUBLIC \"-//W3C//DTD SVG 1.1//EN\"\n",
       " \"http://www.w3.org/Graphics/SVG/1.1/DTD/svg11.dtd\">\n",
       "<!-- Generated by graphviz version 9.0.0 (20231125.0833)\n",
       " -->\n",
       "<!-- Title: bb1 Pages: 1 -->\n",
       "<svg width=\"464pt\" height=\"342pt\"\n",
       " viewBox=\"0.00 0.00 463.75 341.50\" xmlns=\"http://www.w3.org/2000/svg\" xmlns:xlink=\"http://www.w3.org/1999/xlink\">\n",
       "<g id=\"graph0\" class=\"graph\" transform=\"scale(1 1) rotate(0) translate(4 337.5)\">\n",
       "<title>bb1</title>\n",
       "<polygon fill=\"white\" stroke=\"none\" points=\"-4,4 -4,-337.5 459.75,-337.5 459.75,4 -4,4\"/>\n",
       "<!-- S -->\n",
       "<g id=\"node1\" class=\"node\">\n",
       "<title>S</title>\n",
       "<polygon fill=\"none\" stroke=\"black\" points=\"299.88,-333.5 165.38,-333.5 165.38,-199 299.88,-199 299.88,-333.5\"/>\n",
       "<text text-anchor=\"middle\" x=\"232.62\" y=\"-270.2\" font-family=\"Times,serif\" font-size=\"14.00\">S:</text>\n",
       "<text text-anchor=\"middle\" x=\"232.62\" y=\"-252.95\" font-family=\"Times,serif\" font-size=\"14.00\">v=11, x=(2, 1.8)</text>\n",
       "</g>\n",
       "<!-- S0 -->\n",
       "<g id=\"node2\" class=\"node\">\n",
       "<title>S0</title>\n",
       "<polygon fill=\"none\" stroke=\"black\" points=\"141.25,-143.5 0,-143.5 0,-2.25 141.25,-2.25 141.25,-143.5\"/>\n",
       "<text text-anchor=\"middle\" x=\"70.62\" y=\"-93.45\" font-family=\"Times,serif\" font-size=\"14.00\">*pruned*</text>\n",
       "<text text-anchor=\"middle\" x=\"70.62\" y=\"-60.2\" font-family=\"Times,serif\" font-size=\"14.00\">S_0:</text>\n",
       "<text text-anchor=\"middle\" x=\"70.62\" y=\"-42.95\" font-family=\"Times,serif\" font-size=\"14.00\">v_0 = 2, x = (2,0)</text>\n",
       "</g>\n",
       "<!-- S&#45;&#45;S0 -->\n",
       "<g id=\"edge1\" class=\"edge\">\n",
       "<title>S&#45;&#45;S0</title>\n",
       "<path fill=\"none\" stroke=\"black\" d=\"M176.19,-198.58C161.22,-180.89 145,-161.74 129.88,-143.88\"/>\n",
       "<text text-anchor=\"middle\" x=\"175.75\" y=\"-167.7\" font-family=\"Times,serif\" font-size=\"14.00\">x2=0</text>\n",
       "</g>\n",
       "<!-- S1 -->\n",
       "<g id=\"node3\" class=\"node\">\n",
       "<title>S1</title>\n",
       "<polygon fill=\"none\" stroke=\"black\" points=\"305.5,-145.75 159.75,-145.75 159.75,0 305.5,0 305.5,-145.75\"/>\n",
       "<text text-anchor=\"middle\" x=\"232.62\" y=\"-93.45\" font-family=\"Times,serif\" font-size=\"14.00\">*pruned*</text>\n",
       "<text text-anchor=\"middle\" x=\"232.62\" y=\"-60.2\" font-family=\"Times,serif\" font-size=\"14.00\">S_1:</text>\n",
       "<text text-anchor=\"middle\" x=\"232.62\" y=\"-42.95\" font-family=\"Times,serif\" font-size=\"14.00\">v_1 = 7, x = (2,1) </text>\n",
       "</g>\n",
       "<!-- S&#45;&#45;S1 -->\n",
       "<g id=\"edge2\" class=\"edge\">\n",
       "<title>S&#45;&#45;S1</title>\n",
       "<path fill=\"none\" stroke=\"black\" d=\"M232.62,-198.58C232.62,-181.65 232.62,-163.37 232.62,-146.17\"/>\n",
       "<text text-anchor=\"middle\" x=\"251.75\" y=\"-167.7\" font-family=\"Times,serif\" font-size=\"14.00\">x2=1</text>\n",
       "</g>\n",
       "<!-- S2 -->\n",
       "<g id=\"node4\" class=\"node\">\n",
       "<title>S2</title>\n",
       "<polygon fill=\"none\" stroke=\"black\" points=\"455.75,-139 323.5,-139 323.5,-6.75 455.75,-6.75 455.75,-139\"/>\n",
       "<text text-anchor=\"middle\" x=\"389.62\" y=\"-60.83\" font-family=\"Times,serif\" font-size=\"14.00\">S_2</text>\n",
       "<text text-anchor=\"middle\" x=\"389.62\" y=\"-43.58\" font-family=\"Times,serif\" font-size=\"14.00\">v_2 = 2, x=(0,2)</text>\n",
       "</g>\n",
       "<!-- S&#45;&#45;S2 -->\n",
       "<g id=\"edge3\" class=\"edge\">\n",
       "<title>S&#45;&#45;S2</title>\n",
       "<path fill=\"none\" stroke=\"black\" d=\"M287.32,-198.58C303.07,-179.38 320.23,-158.46 335.92,-139.33\"/>\n",
       "<text text-anchor=\"middle\" x=\"335.75\" y=\"-167.7\" font-family=\"Times,serif\" font-size=\"14.00\">x2=2</text>\n",
       "</g>\n",
       "</g>\n",
       "</svg>\n"
      ],
      "text/plain": [
       "<graphviz.graphs.Graph at 0x7f84418d6d50>"
      ]
     },
     "execution_count": 8,
     "metadata": {},
     "output_type": "execute_result"
    }
   ],
   "source": [
    "from graphviz import Graph\n",
    "\n",
    "## https://www.graphviz.org/\n",
    "## https://graphviz.readthedocs.io/en/stable/index.html\n",
    "\n",
    "dot = Graph('bb1')\n",
    "\n",
    "dot.node('S','S:\\nv=11, x=(2, 1.8)',shape=\"square\")\n",
    "\n",
    "dot.node('S0','*pruned*\\n\\nS_0:\\nv_0 = 2, x = (2,0)',shape=\"square\")\n",
    "dot.node('S1','*pruned*\\n\\nS_1:\\nv_1 = 7, x = (2,1) ',shape=\"square\")\n",
    "dot.node('S2','\\n\\nS_2\\nv_2 = 2, x=(0,2)',shape=\"square\")\n",
    "\n",
    "\n",
    "dot.edge('S','S0','x2=0')\n",
    "dot.edge('S','S1','x2=1')\n",
    "dot.edge('S','S2','x2=2')\n",
    "\n",
    "dot"
   ]
  },
  {
   "cell_type": "markdown",
   "metadata": {
    "slideshow": {
     "slide_type": "slide"
    }
   },
   "source": [
    "--------------------\n",
    "Now let's consider a more elaborate example.\n",
    "\n",
    "Example\n",
    "=======\n",
    "\n",
    "$(\\heartsuit) \\quad $ ``maximize`` $f(\\mathbf{x}) = \\begin{bmatrix} 10 & 7 & 4 & 3 & 1 & 0 \\end{bmatrix} \\cdot \\mathbf{x}$\n",
    "\n",
    "subject to: $\\mathbf{x} = \\begin{bmatrix} x_1 & x_2 & x_3 & x_4 &x_5 & x_6 \\end{bmatrix}^T \\in \\mathbb{R}^5$, $\\mathbf{x} \\ge \\mathbf{0}$, \n",
    "\n",
    "$x_1,x_2,x_3,x_4,x_5 \\in \\{0,1\\}$\n",
    "\n",
    "and $A \\mathbf{x} \\le \\mathbf{b}$\n",
    "\n",
    "where $A = \\begin{bmatrix}\n",
    " 2 & 6 & 1 & 0 & 0 & 1 \\\\\n",
    " 1 & 0 & 2 & -3 & 1 & -1 \\\\\n",
    " 2 & -3 & 4 & 1 & 1 & 0 \\\\\n",
    " 1 & 1 & 1 & 1 & -1 & 0  \\\\\n",
    "\\end{bmatrix}, \\quad\n",
    "\\mathbf{b} = \\begin{bmatrix}\n",
    "7 \\\\ -1 \\\\ 3 \\\\ 3\n",
    "\\end{bmatrix}.$\n",
    "\n"
   ]
  },
  {
   "cell_type": "markdown",
   "metadata": {
    "slideshow": {
     "slide_type": "subslide"
    }
   },
   "source": [
    "Notice that we *aren't* imposing any integral condition on $x_6$, but we require that $x_i \\in \\mathbb{Z}$ for $1 \\le i \\le 5$, and even more: these coordinates may only take the value $0$ or $1$.\n",
    "\n",
    "The procedure described above can (with perhaps some minor adaptations) be applied to this problem, as we now describe. Note that -- unlike the previous example -- we will have to iterate our procedure. \n",
    "\n",
    "-------\n",
    "\n",
    "We begin by formulating the linear program\n",
    "which replaces the integrality condition \n",
    "$x_1,x_2,x_3,x_4,x_5 \\in \\{0,1\\}$\n",
    "with the condition $\\begin{bmatrix} x_1 & x_2 & x_3 & x_4 &x_5 \\end{bmatrix}^T \\le \\begin{bmatrix} 1 & 1 & 1 & 1 & 1\\end{bmatrix}^T$ \n"
   ]
  },
  {
   "cell_type": "code",
   "execution_count": 9,
   "metadata": {},
   "outputs": [],
   "source": [
    "\n",
    "nlp = {\"goal\": \"maximize\",\n",
    "       \"obj\": np.array([10,7,4,3,1,0]),\n",
    "       \"Aub\": np.array([[2,6,1,0,0,1],\n",
    "                        [1,0,2,-3,1,-1],\n",
    "                        [2,-3,4,1,1,0],\n",
    "                        [1,1,1,1,-1,0]]),\n",
    "       \"bub\": np.array([7,-1,3,3]),\n",
    "       \"bounds\": 5*[(0,1)] + [(0,None)]\n",
    "      }\n"
   ]
  },
  {
   "cell_type": "markdown",
   "metadata": {},
   "source": [
    "Solving this linear program yields the following:"
   ]
  },
  {
   "cell_type": "code",
   "execution_count": 35,
   "metadata": {},
   "outputs": [
    {
     "name": "stdout",
     "output_type": "stream",
     "text": [
      "{'obj_value': 20.209302325581397, 'solution': array([1.        , 0.72093023, 0.48837209, 1.        , 0.20930233,\n",
      "       0.18604651])}\n"
     ]
    }
   ],
   "source": [
    "## A \n",
    "\n",
    "res= linprog((-1)*nlp[\"obj\"],\n",
    "             bounds = nlp[\"bounds\"],\n",
    "             A_ub = nlp[\"Aub\"], \n",
    "             b_ub = nlp[\"bub\"])\n",
    "\n",
    "resA = { 'obj_value': abs(res.fun),\n",
    "         'solution': res.x\n",
    "       }\n",
    "print(resA)\n"
   ]
  },
  {
   "cell_type": "markdown",
   "metadata": {
    "slideshow": {
     "slide_type": "subslide"
    }
   },
   "source": [
    "We are going to label this solution **(A)** \n",
    "\n",
    "Of the non-integer coordinates of the solution `x` to **(A)**, the one closest to an integer is `x4 = 0.21`.\n",
    "(Remember that we don't impose an integrality condition on `x5`!!)\n",
    "\n",
    "We now **Branch on (A)** with `x4`:\n",
    "\n",
    "We label **(B)** the result of setting ``x4==0``:"
   ]
  },
  {
   "cell_type": "code",
   "execution_count": 11,
   "metadata": {},
   "outputs": [
    {
     "data": {
      "text/plain": [
       "{'obj_value': 19.44444444444445,\n",
       " 'solution': array([ 1.        ,  0.77777778,  0.33333333,  0.88888889, -0.        ,\n",
       "         0.        ])}"
      ]
     },
     "execution_count": 11,
     "metadata": {},
     "output_type": "execute_result"
    }
   ],
   "source": [
    "## B\n",
    "\n",
    "resB =  branch([{\"index\": 4, \"value\": 0}],nlp)\n",
    "resB"
   ]
  },
  {
   "cell_type": "markdown",
   "metadata": {},
   "source": [
    "\n",
    "And we label **(C)** the result of setting `x4==1`"
   ]
  },
  {
   "cell_type": "code",
   "execution_count": 12,
   "metadata": {},
   "outputs": [
    {
     "data": {
      "text/plain": [
       "{'obj_value': 19.96969696969697,\n",
       " 'solution': array([1.        , 0.6969697 , 0.27272727, 1.        , 1.        ,\n",
       "        0.54545455])}"
      ]
     },
     "execution_count": 12,
     "metadata": {},
     "output_type": "execute_result"
    }
   ],
   "source": [
    "## C\n",
    "\n",
    "resC = branch([{\"index\": 4, \"value\": 1}],nlp)\n",
    "resC"
   ]
  },
  {
   "cell_type": "markdown",
   "metadata": {
    "slideshow": {
     "slide_type": "subslide"
    }
   },
   "source": [
    "\n",
    "We must now branch off of both **(B)** and **(C)**. \n",
    "\n",
    "We'll begin with **(C)** and branch on `x2`\n",
    "\n",
    "**(D)** will be the result of branching from **(C)** with `x2==0`:"
   ]
  },
  {
   "cell_type": "code",
   "execution_count": 13,
   "metadata": {},
   "outputs": [
    {
     "data": {
      "text/plain": [
       "{'obj_value': 19.833333333333336,\n",
       " 'solution': array([ 1.        ,  0.83333333, -0.        ,  1.        ,  1.        ,\n",
       "         0.        ])}"
      ]
     },
     "execution_count": 13,
     "metadata": {},
     "output_type": "execute_result"
    }
   ],
   "source": [
    "## D\n",
    "\n",
    "resD = branch([{\"index\": 4, \"value\": 1}, \n",
    "               {\"index\": 2, \"value\": 0}],nlp)\n",
    "\n",
    "resD"
   ]
  },
  {
   "cell_type": "markdown",
   "metadata": {},
   "source": [
    "**(E)** will be the result of branching from **(C)** with `x2==1`"
   ]
  },
  {
   "cell_type": "code",
   "execution_count": 14,
   "metadata": {},
   "outputs": [
    {
     "data": {
      "text/plain": [
       "'lin program failed'"
      ]
     },
     "execution_count": 14,
     "metadata": {},
     "output_type": "execute_result"
    }
   ],
   "source": [
    "## E\n",
    "\n",
    "resE = branch([{\"index\": 4, \"value\": 1}, \n",
    "               {\"index\": 2, \"value\": 1}],nlp)\n",
    "\n",
    "resE"
   ]
  },
  {
   "cell_type": "markdown",
   "metadata": {
    "slideshow": {
     "slide_type": "subslide"
    }
   },
   "source": [
    "This branching failed because there are no feasible points.\n",
    "So we may **Prune** **(E)**.\n"
   ]
  },
  {
   "cell_type": "markdown",
   "metadata": {},
   "source": [
    "We now branch on **(D)** with `x1`\n",
    "\n",
    "**F** will be the result of branching on **(D)** with `x1==0`:"
   ]
  },
  {
   "cell_type": "code",
   "execution_count": 15,
   "metadata": {},
   "outputs": [
    {
     "data": {
      "text/plain": [
       "{'obj_value': 11.0, 'solution': array([ 1., -0.,  0., -0.,  1.,  3.])}"
      ]
     },
     "execution_count": 15,
     "metadata": {},
     "output_type": "execute_result"
    }
   ],
   "source": [
    "## F\n",
    "\n",
    "resF = branch([{\"index\": 4, \"value\": 1}, \n",
    "               {\"index\": 2, \"value\": 0},\n",
    "               {\"index\": 1, \"value\": 0}],nlp)\n",
    "\n",
    "resF"
   ]
  },
  {
   "cell_type": "markdown",
   "metadata": {},
   "source": [
    "Note that **(F)** gives an integral solution, so we can stop examining this branch of the tree.\n",
    "\n",
    "\n",
    "**(G)** will be the result of branching on **(D)** with `x1==1`:"
   ]
  },
  {
   "cell_type": "code",
   "execution_count": 16,
   "metadata": {},
   "outputs": [
    {
     "data": {
      "text/plain": [
       "{'obj_value': 16.0, 'solution': array([0.5, 1. , 0. , 1. , 1. , 0. ])}"
      ]
     },
     "execution_count": 16,
     "metadata": {},
     "output_type": "execute_result"
    }
   ],
   "source": [
    "## G\n",
    "\n",
    "resG = branch([{\"index\": 4, \"value\": 1}, \n",
    "               {\"index\": 2, \"value\": 0}, \n",
    "               {\"index\": 1, \"value\": 1}],nlp)\n",
    "\n",
    "resG"
   ]
  },
  {
   "cell_type": "markdown",
   "metadata": {},
   "source": [
    "We now return and **branch on (B)** with `x4`:\n",
    "\n",
    "**(H)** will be the result of branching on **(B)** with `x3==0`:"
   ]
  },
  {
   "cell_type": "code",
   "execution_count": 17,
   "metadata": {},
   "outputs": [
    {
     "data": {
      "text/plain": [
       "{'obj_value': 13.727272727272727,\n",
       " 'solution': array([ 1.        ,  0.27272727,  0.45454545, -0.        ,  0.        ,\n",
       "         2.90909091])}"
      ]
     },
     "execution_count": 17,
     "metadata": {},
     "output_type": "execute_result"
    }
   ],
   "source": [
    "## H\n",
    "\n",
    "resH = branch([{\"index\": 4, \"value\": 0},\n",
    "               {\"index\":3, \"value\": 0}],nlp)\n",
    "\n",
    "resH"
   ]
  },
  {
   "cell_type": "markdown",
   "metadata": {},
   "source": [
    "**(I)** will be the result of branching on **(B)** with `x3==1`:"
   ]
  },
  {
   "cell_type": "code",
   "execution_count": 18,
   "metadata": {},
   "outputs": [
    {
     "data": {
      "text/plain": [
       "{'obj_value': 19.4, 'solution': array([ 1. ,  0.8,  0.2,  1. , -0. ,  0. ])}"
      ]
     },
     "execution_count": 18,
     "metadata": {},
     "output_type": "execute_result"
    }
   ],
   "source": [
    "## I\n",
    "\n",
    "resI = branch([{\"index\": 4, \"value\": 0},\n",
    "               {\"index\":3, \"value\": 1}],nlp)\n",
    "\n",
    "resI"
   ]
  },
  {
   "cell_type": "markdown",
   "metadata": {
    "slideshow": {
     "slide_type": "subslide"
    }
   },
   "source": [
    "\n",
    "Now **branch on (I)** with `x1`:\n",
    "\n",
    "\n",
    "**(J)** will be the result of branching from **(I)** with `x1=0`.\n"
   ]
  },
  {
   "cell_type": "code",
   "execution_count": 19,
   "metadata": {},
   "outputs": [
    {
     "data": {
      "text/plain": [
       "{'obj_value': 13.0, 'solution': array([ 1., -0.,  0.,  1.,  0.,  0.])}"
      ]
     },
     "execution_count": 19,
     "metadata": {},
     "output_type": "execute_result"
    }
   ],
   "source": [
    "## J\n",
    "\n",
    "resJ = branch([{\"index\": 4, \"value\": 0},\n",
    "               {\"index\":3, \"value\": 1},\n",
    "               {\"index\":1, \"value\": 0}],nlp)\n",
    "\n",
    "resJ"
   ]
  },
  {
   "cell_type": "markdown",
   "metadata": {
    "slideshow": {
     "slide_type": "subslide"
    }
   },
   "source": [
    "The solution **(J)** is an integer point, and the objective value $13$ is larger than the objective value in **(F)**,\n",
    "so we **Prune (F)**.\n",
    "\n",
    "**(K)** will be the result of branching from **(I)** with `x1=1`:\n"
   ]
  },
  {
   "cell_type": "code",
   "execution_count": 20,
   "metadata": {},
   "outputs": [
    {
     "data": {
      "text/plain": [
       "{'obj_value': 15.0, 'solution': array([ 0.5,  1. ,  0. ,  1. , -0. ,  0. ])}"
      ]
     },
     "execution_count": 20,
     "metadata": {},
     "output_type": "execute_result"
    }
   ],
   "source": [
    "## K\n",
    "\n",
    "resK = branch([{\"index\": 4, \"value\": 0},\n",
    "               {\"index\":3, \"value\": 1},\n",
    "               {\"index\": 1, \"value\": 1}],nlp)\n",
    "\n",
    "resK"
   ]
  },
  {
   "cell_type": "markdown",
   "metadata": {},
   "source": [
    "Now **branch from (G)** with $x_1$:\n",
    "\n",
    "**(L)** will be the result of branching from **(G)** with `x0=0`\n"
   ]
  },
  {
   "cell_type": "code",
   "execution_count": 21,
   "metadata": {},
   "outputs": [
    {
     "data": {
      "text/plain": [
       "{'obj_value': 11.0, 'solution': array([-0.,  1., -0.,  1.,  1.,  1.])}"
      ]
     },
     "execution_count": 21,
     "metadata": {},
     "output_type": "execute_result"
    }
   ],
   "source": [
    "## L\n",
    "\n",
    "resL = branch([{\"index\": 4, \"value\": 1}, \n",
    "               {\"index\": 2, \"value\": 0}, \n",
    "               {\"index\": 1, \"value\": 1},\n",
    "               {\"index\": 0, \"value\": 0}],nlp)\n",
    "\n",
    "resL"
   ]
  },
  {
   "cell_type": "markdown",
   "metadata": {
    "slideshow": {
     "slide_type": "subslide"
    }
   },
   "source": [
    "\n",
    "This is an integer solution, so we **prune (L)** since the integer solution from **(J)** has an larger  objective function value than 11.\n",
    "\n",
    "**(M)** is the result of branching from **(G)** with $x_0=1$\n"
   ]
  },
  {
   "cell_type": "code",
   "execution_count": 22,
   "metadata": {},
   "outputs": [
    {
     "data": {
      "text/plain": [
       "'lin program failed'"
      ]
     },
     "execution_count": 22,
     "metadata": {},
     "output_type": "execute_result"
    }
   ],
   "source": [
    "## M\n",
    "\n",
    "resM = branch([{\"index\": 4, \"value\": 1}, \n",
    "               {\"index\": 2, \"value\": 0}, \n",
    "               {\"index\": 1, \"value\": 1},\n",
    "               {\"index\": 0, \"value\": 1}],nlp)\n",
    "\n",
    "resM"
   ]
  },
  {
   "cell_type": "markdown",
   "metadata": {},
   "source": [
    "The linear program **(M)** is infeasible.\n",
    "\n"
   ]
  },
  {
   "cell_type": "markdown",
   "metadata": {},
   "source": [
    "\n",
    "Finally, **branch from (K)** with $x_1$\n",
    "\n",
    "**(N)** is the result of branching from **(K)** with `x0=0`:"
   ]
  },
  {
   "cell_type": "code",
   "execution_count": 23,
   "metadata": {},
   "outputs": [
    {
     "data": {
      "text/plain": [
       "{'obj_value': 14.0, 'solution': array([-0.,  1.,  1.,  1., -0.,  0.])}"
      ]
     },
     "execution_count": 23,
     "metadata": {},
     "output_type": "execute_result"
    }
   ],
   "source": [
    "## N \n",
    "\n",
    "\n",
    "resN = branch([{\"index\": 4, \"value\": 0},\n",
    "               {\"index\":3, \"value\": 1},\n",
    "               {\"index\": 1, \"value\": 1},\n",
    "               {\"index\": 0, \"value\": 0}],nlp)\n",
    "\n",
    "resN"
   ]
  },
  {
   "cell_type": "markdown",
   "metadata": {},
   "source": [
    "**(N)** gives an integer solution.\n",
    "\n",
    "**(O)** is the result of branching from **(K)** with `x0=1`:"
   ]
  },
  {
   "cell_type": "code",
   "execution_count": 24,
   "metadata": {},
   "outputs": [
    {
     "data": {
      "text/plain": [
       "'lin program failed'"
      ]
     },
     "execution_count": 24,
     "metadata": {},
     "output_type": "execute_result"
    }
   ],
   "source": [
    "## O\n",
    "\n",
    "\n",
    "resO = branch([{\"index\": 4, \"value\": 0},\n",
    "               {\"index\":3, \"value\": 1},\n",
    "               {\"index\": 1, \"value\": 1},\n",
    "               {\"index\": 0, \"value\": 1}],nlp)\n",
    "resO"
   ]
  },
  {
   "cell_type": "markdown",
   "metadata": {
    "slideshow": {
     "slide_type": "subslide"
    }
   },
   "source": [
    "This linear program is infeasible.\n",
    "\n",
    "Finally,we **Prune (H) and (J)** since the objective function for the point in **(N)** exceeds an upper bound for the objective functions in **(H)** and in **(J)**. \n",
    "\n",
    "We are now **finished**; the integer solution from **(N)**\n",
    "\n",
    "`{'obj_value': 14.0, 'solution': array([-0.00, 1.00, 1.00, 1.00, -0.00, 0.00])}`\n",
    "\n",
    "is an optimal point for $(\\heartsuit)$.\n",
    "\n",
    "-------------"
   ]
  },
  {
   "cell_type": "markdown",
   "metadata": {
    "slideshow": {
     "slide_type": "slide"
    }
   },
   "source": [
    "We now construct (via ``graphviz``) the *tree* corresponding to the branch-and-bound just carried out; see below.\n"
   ]
  },
  {
   "cell_type": "code",
   "execution_count": 40,
   "metadata": {},
   "outputs": [
    {
     "data": {
      "text/plain": [
       "'lin program failed'"
      ]
     },
     "execution_count": 40,
     "metadata": {},
     "output_type": "execute_result"
    }
   ],
   "source": [
    "resE"
   ]
  },
  {
   "cell_type": "code",
   "execution_count": 67,
   "metadata": {
    "slideshow": {
     "slide_type": "subslide"
    },
    "tags": [
     "to_remove"
    ]
   },
   "outputs": [
    {
     "data": {
      "image/svg+xml": [
       "<?xml version=\"1.0\" encoding=\"UTF-8\" standalone=\"no\"?>\n",
       "<!DOCTYPE svg PUBLIC \"-//W3C//DTD SVG 1.1//EN\"\n",
       " \"http://www.w3.org/Graphics/SVG/1.1/DTD/svg11.dtd\">\n",
       "<!-- Generated by graphviz version 9.0.0 (20231125.0833)\n",
       " -->\n",
       "<!-- Title: bb1 Pages: 1 -->\n",
       "<svg width=\"905pt\" height=\"582pt\"\n",
       " viewBox=\"0.00 0.00 904.75 581.75\" xmlns=\"http://www.w3.org/2000/svg\" xmlns:xlink=\"http://www.w3.org/1999/xlink\">\n",
       "<g id=\"graph0\" class=\"graph\" transform=\"scale(1 1) rotate(0) translate(4 577.75)\">\n",
       "<title>bb1</title>\n",
       "<polygon fill=\"white\" stroke=\"none\" points=\"-4,4 -4,-577.75 900.75,-577.75 900.75,4 -4,4\"/>\n",
       "<!-- A -->\n",
       "<g id=\"node1\" class=\"node\">\n",
       "<title>A</title>\n",
       "<polygon fill=\"none\" stroke=\"black\" points=\"143.5,-391.75 0,-391.75 0,-248.25 143.5,-248.25 143.5,-391.75\"/>\n",
       "<text text-anchor=\"middle\" x=\"71.75\" y=\"-323.95\" font-family=\"Times,serif\" font-size=\"14.00\">A: relaxed linprog</text>\n",
       "<text text-anchor=\"middle\" x=\"71.75\" y=\"-306.7\" font-family=\"Times,serif\" font-size=\"14.00\">v=20.21</text>\n",
       "</g>\n",
       "<!-- B -->\n",
       "<g id=\"node2\" class=\"node\">\n",
       "<title>B</title>\n",
       "<polygon fill=\"none\" stroke=\"black\" points=\"323,-436.62 217.75,-436.62 217.75,-331.38 323,-331.38 323,-436.62\"/>\n",
       "<text text-anchor=\"middle\" x=\"270.38\" y=\"-379.32\" font-family=\"Times,serif\" font-size=\"14.00\">B: v = 19.44</text>\n",
       "</g>\n",
       "<!-- A&#45;&#45;B -->\n",
       "<g id=\"edge1\" class=\"edge\">\n",
       "<title>A&#45;&#45;B</title>\n",
       "<path fill=\"none\" stroke=\"black\" d=\"M143.74,-343.11C168.05,-351.02 194.78,-359.72 217.31,-367.05\"/>\n",
       "<text text-anchor=\"middle\" x=\"180.62\" y=\"-362.95\" font-family=\"Times,serif\" font-size=\"14.00\">x4=0</text>\n",
       "</g>\n",
       "<!-- C -->\n",
       "<g id=\"node3\" class=\"node\">\n",
       "<title>C</title>\n",
       "<polygon fill=\"none\" stroke=\"black\" points=\"323,-309.62 217.75,-309.62 217.75,-204.38 323,-204.38 323,-309.62\"/>\n",
       "<text text-anchor=\"middle\" x=\"270.38\" y=\"-252.32\" font-family=\"Times,serif\" font-size=\"14.00\">C: v = 19.97</text>\n",
       "</g>\n",
       "<!-- A&#45;&#45;C -->\n",
       "<g id=\"edge2\" class=\"edge\">\n",
       "<title>A&#45;&#45;C</title>\n",
       "<path fill=\"none\" stroke=\"black\" d=\"M143.74,-297.26C168.05,-289.47 194.78,-280.9 217.31,-273.68\"/>\n",
       "<text text-anchor=\"middle\" x=\"180.62\" y=\"-293.95\" font-family=\"Times,serif\" font-size=\"14.00\">x4=1</text>\n",
       "</g>\n",
       "<!-- H -->\n",
       "<g id=\"node8\" class=\"node\">\n",
       "<title>H</title>\n",
       "<polygon fill=\"none\" stroke=\"black\" points=\"509.25,-564 397.25,-564 397.25,-452 509.25,-452 509.25,-564\"/>\n",
       "<text text-anchor=\"middle\" x=\"453.25\" y=\"-520.58\" font-family=\"Times,serif\" font-size=\"14.00\">**pruned**</text>\n",
       "<text text-anchor=\"middle\" x=\"453.25\" y=\"-503.32\" font-family=\"Times,serif\" font-size=\"14.00\">========</text>\n",
       "<text text-anchor=\"middle\" x=\"453.25\" y=\"-486.07\" font-family=\"Times,serif\" font-size=\"14.00\">H: v = 13.73</text>\n",
       "</g>\n",
       "<!-- B&#45;&#45;H -->\n",
       "<g id=\"edge3\" class=\"edge\">\n",
       "<title>B&#45;&#45;H</title>\n",
       "<path fill=\"none\" stroke=\"black\" d=\"M323.21,-419.53C346.28,-435.35 373.47,-453.99 396.94,-470.08\"/>\n",
       "<text text-anchor=\"middle\" x=\"360.12\" y=\"-460.95\" font-family=\"Times,serif\" font-size=\"14.00\">x3=0</text>\n",
       "</g>\n",
       "<!-- I -->\n",
       "<g id=\"node9\" class=\"node\">\n",
       "<title>I</title>\n",
       "<polygon fill=\"none\" stroke=\"black\" points=\"503.25,-434 403.25,-434 403.25,-334 503.25,-334 503.25,-434\"/>\n",
       "<text text-anchor=\"middle\" x=\"453.25\" y=\"-379.32\" font-family=\"Times,serif\" font-size=\"14.00\">I: v = 19.40</text>\n",
       "</g>\n",
       "<!-- B&#45;&#45;I -->\n",
       "<g id=\"edge4\" class=\"edge\">\n",
       "<title>B&#45;&#45;I</title>\n",
       "<path fill=\"none\" stroke=\"black\" d=\"M323.21,-384C348.26,-384 378.18,-384 402.9,-384\"/>\n",
       "<text text-anchor=\"middle\" x=\"360.12\" y=\"-387.95\" font-family=\"Times,serif\" font-size=\"14.00\">x3=1</text>\n",
       "</g>\n",
       "<!-- D -->\n",
       "<g id=\"node4\" class=\"node\">\n",
       "<title>D</title>\n",
       "<polygon fill=\"none\" stroke=\"black\" points=\"505.88,-309.62 400.62,-309.62 400.62,-204.38 505.88,-204.38 505.88,-309.62\"/>\n",
       "<text text-anchor=\"middle\" x=\"453.25\" y=\"-252.32\" font-family=\"Times,serif\" font-size=\"14.00\">E: v = 19.83</text>\n",
       "</g>\n",
       "<!-- C&#45;&#45;D -->\n",
       "<g id=\"edge5\" class=\"edge\">\n",
       "<title>C&#45;&#45;D</title>\n",
       "<path fill=\"none\" stroke=\"black\" d=\"M323.21,-257C347.43,-257 376.19,-257 400.41,-257\"/>\n",
       "<text text-anchor=\"middle\" x=\"360.12\" y=\"-260.95\" font-family=\"Times,serif\" font-size=\"14.00\">x2=0</text>\n",
       "</g>\n",
       "<!-- E -->\n",
       "<g id=\"node5\" class=\"node\">\n",
       "<title>E</title>\n",
       "<polygon fill=\"none\" stroke=\"black\" points=\"509.25,-186 397.25,-186 397.25,-74 509.25,-74 509.25,-186\"/>\n",
       "<text text-anchor=\"middle\" x=\"453.25\" y=\"-142.57\" font-family=\"Times,serif\" font-size=\"14.00\">**pruned**</text>\n",
       "<text text-anchor=\"middle\" x=\"453.25\" y=\"-125.33\" font-family=\"Times,serif\" font-size=\"14.00\">========</text>\n",
       "<text text-anchor=\"middle\" x=\"453.25\" y=\"-108.08\" font-family=\"Times,serif\" font-size=\"14.00\">D: v = 19.83</text>\n",
       "</g>\n",
       "<!-- C&#45;&#45;E -->\n",
       "<g id=\"edge6\" class=\"edge\">\n",
       "<title>C&#45;&#45;E</title>\n",
       "<path fill=\"none\" stroke=\"black\" d=\"M323.21,-220.61C346.28,-204.41 373.47,-185.31 396.94,-168.84\"/>\n",
       "<text text-anchor=\"middle\" x=\"360.12\" y=\"-208.95\" font-family=\"Times,serif\" font-size=\"14.00\">x2=1</text>\n",
       "</g>\n",
       "<!-- F -->\n",
       "<g id=\"node6\" class=\"node\">\n",
       "<title>F</title>\n",
       "<polygon fill=\"none\" stroke=\"black\" points=\"699.25,-313 587.25,-313 587.25,-201 699.25,-201 699.25,-313\"/>\n",
       "<text text-anchor=\"middle\" x=\"643.25\" y=\"-278.2\" font-family=\"Times,serif\" font-size=\"14.00\">**pruned**</text>\n",
       "<text text-anchor=\"middle\" x=\"643.25\" y=\"-260.95\" font-family=\"Times,serif\" font-size=\"14.00\">========</text>\n",
       "<text text-anchor=\"middle\" x=\"643.25\" y=\"-243.7\" font-family=\"Times,serif\" font-size=\"14.00\">F: v = 11.00</text>\n",
       "<text text-anchor=\"middle\" x=\"643.25\" y=\"-226.45\" font-family=\"Times,serif\" font-size=\"14.00\">**integral**</text>\n",
       "</g>\n",
       "<!-- D&#45;&#45;F -->\n",
       "<g id=\"edge7\" class=\"edge\">\n",
       "<title>D&#45;&#45;F</title>\n",
       "<path fill=\"none\" stroke=\"black\" d=\"M506.12,-257C531.23,-257 561.39,-257 586.93,-257\"/>\n",
       "<text text-anchor=\"middle\" x=\"546.38\" y=\"-260.95\" font-family=\"Times,serif\" font-size=\"14.00\">x1=0</text>\n",
       "</g>\n",
       "<!-- G -->\n",
       "<g id=\"node7\" class=\"node\">\n",
       "<title>G</title>\n",
       "<polygon fill=\"none\" stroke=\"black\" points=\"696.25,-183 590.25,-183 590.25,-77 696.25,-77 696.25,-183\"/>\n",
       "<text text-anchor=\"middle\" x=\"643.25\" y=\"-125.33\" font-family=\"Times,serif\" font-size=\"14.00\">G: v = 16.00</text>\n",
       "</g>\n",
       "<!-- D&#45;&#45;G -->\n",
       "<g id=\"edge8\" class=\"edge\">\n",
       "<title>D&#45;&#45;G</title>\n",
       "<path fill=\"none\" stroke=\"black\" d=\"M506.12,-221.96C532.2,-204.34 563.75,-183.03 589.9,-165.37\"/>\n",
       "<text text-anchor=\"middle\" x=\"546.38\" y=\"-208.95\" font-family=\"Times,serif\" font-size=\"14.00\">x1=1</text>\n",
       "</g>\n",
       "<!-- L -->\n",
       "<g id=\"node12\" class=\"node\">\n",
       "<title>L</title>\n",
       "<polygon fill=\"none\" stroke=\"black\" points=\"896.75,-249.75 777.25,-249.75 777.25,-130.25 896.75,-130.25 896.75,-249.75\"/>\n",
       "<text text-anchor=\"middle\" x=\"837\" y=\"-211.2\" font-family=\"Times,serif\" font-size=\"14.00\">**pruned**</text>\n",
       "<text text-anchor=\"middle\" x=\"837\" y=\"-193.95\" font-family=\"Times,serif\" font-size=\"14.00\">========</text>\n",
       "<text text-anchor=\"middle\" x=\"837\" y=\"-176.7\" font-family=\"Times,serif\" font-size=\"14.00\">L: v = 11.00</text>\n",
       "<text text-anchor=\"middle\" x=\"837\" y=\"-159.45\" font-family=\"Times,serif\" font-size=\"14.00\">**integer sol**</text>\n",
       "</g>\n",
       "<!-- G&#45;&#45;L -->\n",
       "<g id=\"edge9\" class=\"edge\">\n",
       "<title>G&#45;&#45;L</title>\n",
       "<path fill=\"none\" stroke=\"black\" d=\"M696.65,-146.4C721.48,-154.17 751.26,-163.49 776.9,-171.51\"/>\n",
       "<text text-anchor=\"middle\" x=\"740.12\" y=\"-169.95\" font-family=\"Times,serif\" font-size=\"14.00\">x1=0</text>\n",
       "</g>\n",
       "<!-- M -->\n",
       "<g id=\"node13\" class=\"node\">\n",
       "<title>M</title>\n",
       "<polygon fill=\"none\" stroke=\"black\" points=\"893,-112 781,-112 781,0 893,0 893,-112\"/>\n",
       "<text text-anchor=\"middle\" x=\"837\" y=\"-68.58\" font-family=\"Times,serif\" font-size=\"14.00\">**pruned**</text>\n",
       "<text text-anchor=\"middle\" x=\"837\" y=\"-51.33\" font-family=\"Times,serif\" font-size=\"14.00\">========</text>\n",
       "<text text-anchor=\"middle\" x=\"837\" y=\"-34.08\" font-family=\"Times,serif\" font-size=\"14.00\">M: infeasible</text>\n",
       "</g>\n",
       "<!-- G&#45;&#45;M -->\n",
       "<g id=\"edge10\" class=\"edge\">\n",
       "<title>G&#45;&#45;M</title>\n",
       "<path fill=\"none\" stroke=\"black\" d=\"M696.65,-109.78C722.7,-99.72 754.2,-87.57 780.65,-77.36\"/>\n",
       "<text text-anchor=\"middle\" x=\"740.12\" y=\"-103.95\" font-family=\"Times,serif\" font-size=\"14.00\">x1=1</text>\n",
       "</g>\n",
       "<!-- J -->\n",
       "<g id=\"node10\" class=\"node\">\n",
       "<title>J</title>\n",
       "<polygon fill=\"none\" stroke=\"black\" points=\"703,-573.75 583.5,-573.75 583.5,-454.25 703,-454.25 703,-573.75\"/>\n",
       "<text text-anchor=\"middle\" x=\"643.25\" y=\"-535.2\" font-family=\"Times,serif\" font-size=\"14.00\">**pruned**</text>\n",
       "<text text-anchor=\"middle\" x=\"643.25\" y=\"-517.95\" font-family=\"Times,serif\" font-size=\"14.00\">========</text>\n",
       "<text text-anchor=\"middle\" x=\"643.25\" y=\"-500.7\" font-family=\"Times,serif\" font-size=\"14.00\">J: v = 13.00</text>\n",
       "<text text-anchor=\"middle\" x=\"643.25\" y=\"-483.45\" font-family=\"Times,serif\" font-size=\"14.00\">**integer sol**</text>\n",
       "</g>\n",
       "<!-- I&#45;&#45;J -->\n",
       "<g id=\"edge11\" class=\"edge\">\n",
       "<title>I&#45;&#45;J</title>\n",
       "<path fill=\"none\" stroke=\"black\" d=\"M503.64,-418.16C528.01,-435.01 557.59,-455.46 583.15,-473.13\"/>\n",
       "<text text-anchor=\"middle\" x=\"546.38\" y=\"-463.95\" font-family=\"Times,serif\" font-size=\"14.00\">x1=0</text>\n",
       "</g>\n",
       "<!-- K -->\n",
       "<g id=\"node11\" class=\"node\">\n",
       "<title>K</title>\n",
       "<polygon fill=\"none\" stroke=\"black\" points=\"695.88,-436.62 590.62,-436.62 590.62,-331.38 695.88,-331.38 695.88,-436.62\"/>\n",
       "<text text-anchor=\"middle\" x=\"643.25\" y=\"-379.32\" font-family=\"Times,serif\" font-size=\"14.00\">K: v = 15.00</text>\n",
       "</g>\n",
       "<!-- I&#45;&#45;K -->\n",
       "<g id=\"edge12\" class=\"edge\">\n",
       "<title>I&#45;&#45;K</title>\n",
       "<path fill=\"none\" stroke=\"black\" d=\"M503.64,-384C530.3,-384 563.18,-384 590.23,-384\"/>\n",
       "<text text-anchor=\"middle\" x=\"546.38\" y=\"-387.95\" font-family=\"Times,serif\" font-size=\"14.00\">x1=1</text>\n",
       "</g>\n",
       "<!-- N -->\n",
       "<g id=\"node14\" class=\"node\">\n",
       "<title>N</title>\n",
       "<polygon fill=\"none\" stroke=\"black\" points=\"896.75,-547.75 777.25,-547.75 777.25,-428.25 896.75,-428.25 896.75,-547.75\"/>\n",
       "<text text-anchor=\"middle\" x=\"837\" y=\"-491.95\" font-family=\"Times,serif\" font-size=\"14.00\">N: v = 14.00</text>\n",
       "<text text-anchor=\"middle\" x=\"837\" y=\"-474.7\" font-family=\"Times,serif\" font-size=\"14.00\">**integer sol**</text>\n",
       "</g>\n",
       "<!-- K&#45;&#45;N -->\n",
       "<g id=\"edge13\" class=\"edge\">\n",
       "<title>K&#45;&#45;N</title>\n",
       "<path fill=\"none\" stroke=\"black\" d=\"M696.14,-412.14C721.1,-425.68 751.13,-441.97 776.95,-455.98\"/>\n",
       "<text text-anchor=\"middle\" x=\"740.12\" y=\"-448.95\" font-family=\"Times,serif\" font-size=\"14.00\">x0=0</text>\n",
       "</g>\n",
       "<!-- O -->\n",
       "<g id=\"node15\" class=\"node\">\n",
       "<title>O</title>\n",
       "<polygon fill=\"none\" stroke=\"black\" points=\"893,-410 781,-410 781,-298 893,-298 893,-410\"/>\n",
       "<text text-anchor=\"middle\" x=\"837\" y=\"-366.57\" font-family=\"Times,serif\" font-size=\"14.00\">**pruned**</text>\n",
       "<text text-anchor=\"middle\" x=\"837\" y=\"-349.32\" font-family=\"Times,serif\" font-size=\"14.00\">========</text>\n",
       "<text text-anchor=\"middle\" x=\"837\" y=\"-332.07\" font-family=\"Times,serif\" font-size=\"14.00\">O: infeasible</text>\n",
       "</g>\n",
       "<!-- K&#45;&#45;O -->\n",
       "<g id=\"edge14\" class=\"edge\">\n",
       "<title>K&#45;&#45;O</title>\n",
       "<path fill=\"none\" stroke=\"black\" d=\"M696.14,-375.88C722.32,-371.79 754.08,-366.82 780.71,-362.65\"/>\n",
       "<text text-anchor=\"middle\" x=\"740.12\" y=\"-374.95\" font-family=\"Times,serif\" font-size=\"14.00\">x0=1</text>\n",
       "</g>\n",
       "</g>\n",
       "</svg>\n"
      ],
      "text/plain": [
       "<graphviz.graphs.Graph at 0x7f8441010e90>"
      ]
     },
     "execution_count": 67,
     "metadata": {},
     "output_type": "execute_result"
    }
   ],
   "source": [
    "from graphviz import Graph\n",
    "\n",
    "## https://www.graphviz.org/\n",
    "## https://graphviz.readthedocs.io/en/stable/index.html\n",
    "\n",
    "dot = Graph('bb1')\n",
    "dot.attr(rankdir='LR')\n",
    "dot.node('A',f\"A: relaxed linprog\\nv={resA['obj_value']:.2f}\",shape=\"square\")\n",
    "\n",
    "dot.node('B',f\"B: v = {resB['obj_value']:.2f}\",shape=\"square\")\n",
    "dot.node('C',f\"C: v = {resC['obj_value']:.2f}\",shape=\"square\")\n",
    "dot.node('D',f\"E: v = {resD['obj_value']:.2f}\",shape=\"square\")\n",
    "dot.node('E',f\"**pruned**\\n========\\nD: v = {resD['obj_value']:.2f}\",shape=\"square\")\n",
    "dot.node('F',f\"**pruned**\\n========\\nF: v = {resF['obj_value']:.2f}\\n**integral**\",shape=\"square\")\n",
    "dot.node('G',f\"G: v = {resG['obj_value']:.2f}\",shape=\"square\")\n",
    "dot.node('H',f\"**pruned**\\n========\\nH: v = {resH['obj_value']:.2f}\",shape=\"square\")\n",
    "dot.node('I',f\"I: v = {resI['obj_value']:.2f}\",shape=\"square\")\n",
    "dot.node('J',f\"**pruned**\\n========\\nJ: v = {resJ['obj_value']:.2f}\\n**integer sol**\",shape=\"square\")\n",
    "dot.node('K',f\"K: v = {resK['obj_value']:.2f}\",shape=\"square\")\n",
    "dot.node('L',f\"**pruned**\\n========\\nL: v = {resL['obj_value']:.2f}\\n**integer sol**\",shape=\"square\")\n",
    "dot.node('M','**pruned**\\n========\\nM: infeasible',shape=\"square\")\n",
    "dot.node('N',f\"N: v = {resN['obj_value']:.2f}\\n**integer sol**\",shape=\"square\")\n",
    "dot.node('O','**pruned**\\n========\\nO: infeasible',shape=\"square\")\n",
    "\n",
    "\n",
    "dot.edge('A','B','x4=0')\n",
    "dot.edge('A','C','x4=1')\n",
    "\n",
    "dot.edge('B','H','x3=0')\n",
    "dot.edge('B','I','x3=1')\n",
    "\n",
    "dot.edge('C','D','x2=0')\n",
    "dot.edge('C','E','x2=1')\n",
    "\n",
    "dot.edge('D','F','x1=0')\n",
    "dot.edge('D','G','x1=1')\n",
    "\n",
    "dot.edge('G','L','x1=0')\n",
    "dot.edge('G','M','x1=1')\n",
    "\n",
    "dot.edge('I','J','x1=0')\n",
    "dot.edge('I','K','x1=1')\n",
    "\n",
    "\n",
    "dot.edge('K','N','x0=0')\n",
    "dot.edge('K','O','x0=1')\n",
    "\n",
    "\n",
    "\n",
    "dot"
   ]
  },
  {
   "cell_type": "markdown",
   "metadata": {
    "slideshow": {
     "slide_type": "slide"
    }
   },
   "source": [
    "Postcript\n",
    "=========\n",
    "\n",
    "It turns out that solving integer programming problems is *hard*. In fact, in computer\n",
    "science integer programming problems are in a class of problems called [**NP Hard** problems](https://en.wikipedia.org/wiki/NP-completeness) -- see the [discussion here.](https://en.wikipedia.org/wiki/Integer_programming).\n",
    "\n",
    "The algorithm we describe above is a type of ``branch and bound algorithm``, which is a common approach. While our description gives pretty good evidence that this approach is effective, we haven't said anything e.g. about the ``run time`` of our algorithm, etc."
   ]
  }
 ],
 "metadata": {
  "jupytext": {
   "formats": "ipynb,md"
  },
  "kernelspec": {
   "display_name": "Python 3 (ipykernel)",
   "language": "python",
   "name": "python3"
  },
  "language_info": {
   "codemirror_mode": {
    "name": "ipython",
    "version": 3
   },
   "file_extension": ".py",
   "mimetype": "text/x-python",
   "name": "python",
   "nbconvert_exporter": "python",
   "pygments_lexer": "ipython3",
   "version": "3.11.6"
  }
 },
 "nbformat": 4,
 "nbformat_minor": 4
}
