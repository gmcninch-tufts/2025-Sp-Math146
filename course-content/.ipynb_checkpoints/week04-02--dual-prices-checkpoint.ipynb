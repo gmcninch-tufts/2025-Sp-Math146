{
 "cells": [
  {
   "cell_type": "markdown",
   "metadata": {},
   "source": [
    "# [George McNinch](http://gmcninch.math.tufts.edu) Math 87 - Spring 2024\n",
    "\n",
    "# Week 4\n",
    "\n",
    "\n",
    "# Dual prices \n"
   ]
  },
  {
   "cell_type": "markdown",
   "metadata": {},
   "source": [
    "Recollections\n",
    "=============\n",
    "\n",
    "Let's briefly recall the notion of *slack variables* and *complementary slackness* from our duality discussion.\n",
    "\n",
    "To this end, consider a linear program $\\mathcal{L}$ given by\n",
    "$(\\mathbf{c} \\in \\mathbb{R}^{1 \\times n},A \\in \\mathbb{R}^{r \\times n}, \\mathbf{b} \\in \\mathbb{R}^r)$ which seeks to ``maximize`` its objective function. We write $\\mathbf{0} \\le \\mathbf{x} \\in \\mathbb{R}^n$ for the variable vector of our linear program, and we recall that it satisfies $A \\mathbf{x} \\le \\mathbf{b}$.\n",
    "\n",
    "As usual we'll write $\\mathcal{L}'$ for the dual linear program -- it is determined by the triple $(\\mathbf{b}^T,A^T,\\mathcal{c}^T)$; it seeks to ``minimize`` its objective function; the dual varible vector is written\n",
    "$\\mathbf{y} \\in \\mathbf{R}^r$ and it satisfies $\\mathbf{y} \\ge \\mathbf{0}$ and\n",
    "$A^T\\mathbf{y} \\ge \\mathbf{c}^T$.\n",
    "\n",
    "*Complementary slackness* is the assertion that for feasible points $\\mathbf{x}$ for $\\mathcal{L}$ and $\\mathbf{y}$ for $\\mathcal{L}'$, $\\mathbf{x}$ is optimal for $\\mathcal{L}$ and $\\mathbf{y}$ is optimal for $\\mathcal{L}'$ if and only if\n",
    "\n",
    "$$(\\clubsuit) \\quad (\\mathbf{b} - A\\mathbf{x})^T \\cdot \\mathbf{y} = 0 \\quad \\text{and} \\quad (\\mathbf{y}^TA - \\mathbf{c}) \\cdot \\mathbf{x} = 0.$$\n",
    "\n",
    "For optimal vectors $\\mathbf{x}^*$ and $\\mathbf{y}^*$ we refer to the slack vectors:\n",
    "\n",
    "$$(\\mathbf{b} - A\\mathbf{x}^*) \\quad \\text{and} \\quad ((\\mathbf{y}^*)^TA - \\mathbf{c})$$\n",
    "\n",
    "**Remark**: Recall that if $\\mathbf{x}$ is a feasible point for $\\mathcal{L}$, then $A \\mathbf{x} \\le \\mathbf{b}$ or put another way, the slack vector $\\mathbf{b} - A\\mathbf{x} \\ge \\mathbf{0}$ is non-negative. Now, if also $\\mathbf{y} \\ge \\mathbf{0}$, it is easy to see that the product -- a scalar quantity -- satisfies\n",
    "\n",
    "$$(\\mathbf{b} - A\\mathbf{x})^T\\cdot \\mathbf{y} \\ge 0$$ \n",
    "\n",
    "and that in order to have $(\\mathbf{b} - A\\mathbf{x})^T\\cdot \\mathbf{y} = 0$ for a non-zero vector $\\mathbf{y}$, some of the coefficients of $\\mathbf{b} - A\\mathbf{x}$ must be zero; in the discussion below we say that those coefficients - or the corresponding constraints -- are *binding*."
   ]
  },
  {
   "cell_type": "markdown",
   "metadata": {},
   "source": [
    "Example \n",
    "=======\n",
    "\n",
    "A company has acquired 100 lots on which to build homes of two styles: Cape Cod and Ranch. They will build these homes over a year, during which they will have available\n",
    "13,000 hours of bricklayer labor and 12,000 hours of carpenter labor. Each Cape Cod house requires\n",
    "200 hours of carpentry labor and 50 hours of bricklayer labor. Each Ranch house requires 120 hours\n",
    "of bricklayer labor and 100 hours of carpentry. The profit for building a Cape Cod home is projected\n",
    "to be \\\\$5,100 and each Ranch home is projected to be \\\\$5,000.\n",
    "How many of each type of house would you recommend building?\n",
    "\n",
    "Variables: \n",
    "\n",
    "- $C$ = # Cape Cod homes built\n",
    "- $R$ = # Ranch homes built\n",
    "\n",
    "Constraints:\n",
    "\n",
    "- $l$ = # lots\n",
    "- $b$ = hours of bricklayer labor\n",
    "- $c$ = hours of carpentry labor\n",
    "\n",
    "Let's assemble the input for the linear program using some code:"
   ]
  },
  {
   "cell_type": "code",
   "execution_count": 36,
   "metadata": {},
   "outputs": [
    {
     "name": "stdout",
     "output_type": "stream",
     "text": [
      "objective function is given by \n",
      "c=\n",
      "[5100. 5000.]\n",
      "\n",
      "the inequality Ax <= b is given by \n",
      "\n",
      " A=\n",
      "[[200. 100.]\n",
      " [ 50. 120.]\n",
      " [  1.   1.]] \n",
      "\n",
      " b=\n",
      "[12000 13000   100]\n"
     ]
    }
   ],
   "source": [
    "from scipy.optimize import linprog\n",
    "import numpy as np\n",
    "\n",
    "home_specs = { \"cape\": { \"carpentry\": 200.0,\n",
    "                         \"bricklayer\": 50.0,\n",
    "                         \"profit\": 5100.0,\n",
    "                         \"lots\": 1\n",
    "                       },\n",
    "               \"ranch\": { \"carpentry\": 100.0,\n",
    "                          \"bricklayer\": 120.0,\n",
    "                          \"profit\": 5000.0,\n",
    "                          \"lots\": 1\n",
    "                        }\n",
    "             }\n",
    "\n",
    "resources_avail = { \"carpentry\": 12000,\n",
    "                    \"bricklayer\": 13000,\n",
    "                    \"lots\": 100\n",
    "                  }\n",
    "\n",
    "# objective vector; entries correspond to the profit for each home_type.\n",
    "c = np.array([ home_specs[t][\"profit\"] for t in home_specs.keys() ])\n",
    "\n",
    "# constraint matrix; one row for each resource type.\n",
    "A = np.array([ [ home_specs[t][r] for t in home_specs.keys() ] \n",
    "                 for r in resources_avail.keys() ])\n",
    "\n",
    "b = np.array([ resources_avail[r] for r in resources_avail.keys() ])\n",
    "\n",
    "print(f\"objective function is given by \\nc=\\n{c}\\n\")\n",
    "print(f\"the inequality Ax <= b is given by \\n\\n A=\\n{A} \\n\\n b=\\n{b}\")\n"
   ]
  },
  {
   "cell_type": "markdown",
   "metadata": {},
   "source": [
    "\n",
    "Primal linear program: *maximize* for the data $(\\mathbf{c},A,\\mathbf{b})$.\n",
    "\n",
    "i.e. the objective function is given by $\\mathbf{c} \\cdot \\begin{bmatrix} C \\\\ R \\end{bmatrix} = 5100C + 5000R$ where $\\begin{bmatrix} C \\\\ R \\end{bmatrix} \\ge \\mathbf{0}$.\n",
    "\n",
    "And $A \\cdot \\begin{bmatrix} C \\\\ R \\end{bmatrix} \\le \\mathbf{b}$.\n",
    "\n",
    "-----\n",
    "\n",
    "Thus the dual linear program is given by the data $(\\mathbf{b}^T,A^T,\\mathbf{c}^T)$.\n",
    "\n",
    "Let's look first at the data determining the dual:"
   ]
  },
  {
   "cell_type": "code",
   "execution_count": 39,
   "metadata": {},
   "outputs": [
    {
     "name": "stdout",
     "output_type": "stream",
     "text": [
      "objective function for the dual is given by \n",
      "c=\n",
      "[12000 13000   100]\n",
      "\n",
      "the inequality Ax <= b for the dual is given by \n",
      "\n",
      " A=\n",
      "[[200.  50.   1.]\n",
      " [100. 120.   1.]] \n",
      "\n",
      " b=\n",
      "[5100. 5000.]\n"
     ]
    }
   ],
   "source": [
    "\n",
    "print(f\"objective function for the dual is given by \\nc=\\n{b}\\n\")\n",
    "print(f\"the inequality Ax <= b for the dual is given by \\n\\n A=\\n{A.T} \\n\\n b=\\n{c}\")\n"
   ]
  },
  {
   "cell_type": "markdown",
   "metadata": {},
   "source": [
    "\n",
    "\n",
    "We label the variables of the dual linear program using the two resource constraints: $\\mathbf{y} = \\begin{bmatrix}\n",
    "y_c \\\\ y_b \\\\ y_l\n",
    "\\end{bmatrix}$ where $y_l$ denotes the unit price of a lot, $y_c$ denotes the unit price of carpentry labor, and $y_b$ denotes the unit price of bricklayer labor.\n",
    "\n",
    "So the objective function for the dual system is given by\n",
    "$$\\mathbf{b}^T \\cdot \\begin{bmatrix}\n",
    "y_l \\\\ y_b \\\\ y_c\n",
    "\\end{bmatrix} = 100y_l + 12000y_b + 13000y_c$$ \n",
    "and the inequality constraints are given by\n",
    "$$A^T \\cdot  \\begin{bmatrix}\n",
    "y_l \\\\ y_b \\\\ y_c\n",
    "\\end{bmatrix} \\ge \\mathbf{c}^T = \\begin{bmatrix} 5100 \\\\ 5000 \\end{bmatrix}$$"
   ]
  },
  {
   "cell_type": "code",
   "execution_count": 40,
   "metadata": {},
   "outputs": [
    {
     "name": "stdout",
     "output_type": "stream",
     "text": [
      "** primal:\n",
      "         message: Optimization terminated successfully. (HiGHS Status 7: Optimal)\n",
      "        success: True\n",
      "         status: 0\n",
      "            fun: -502000.0\n",
      "              x: [ 2.000e+01  8.000e+01]\n",
      "            nit: 2\n",
      "          lower:  residual: [ 2.000e+01  8.000e+01]\n",
      "                 marginals: [ 0.000e+00  0.000e+00]\n",
      "          upper:  residual: [       inf        inf]\n",
      "                 marginals: [ 0.000e+00  0.000e+00]\n",
      "          eqlin:  residual: []\n",
      "                 marginals: []\n",
      "        ineqlin:  residual: [ 0.000e+00  2.400e+03  0.000e+00]\n",
      "                 marginals: [-1.000e+00 -0.000e+00 -4.900e+03]\n",
      " mip_node_count: 0\n",
      " mip_dual_bound: 0.0\n",
      "        mip_gap: 0.0 \n",
      "\n",
      "-----------\n",
      "\n",
      "\n",
      "** dual:\n",
      "         message: Optimization terminated successfully. (HiGHS Status 7: Optimal)\n",
      "        success: True\n",
      "         status: 0\n",
      "            fun: 502000.0\n",
      "              x: [ 1.000e+00  0.000e+00  4.900e+03]\n",
      "            nit: 2\n",
      "          lower:  residual: [ 1.000e+00  0.000e+00  4.900e+03]\n",
      "                 marginals: [ 0.000e+00  2.400e+03  0.000e+00]\n",
      "          upper:  residual: [       inf        inf        inf]\n",
      "                 marginals: [ 0.000e+00  0.000e+00  0.000e+00]\n",
      "          eqlin:  residual: []\n",
      "                 marginals: []\n",
      "        ineqlin:  residual: [ 0.000e+00  0.000e+00]\n",
      "                 marginals: [-2.000e+01 -8.000e+01]\n",
      " mip_node_count: 0\n",
      " mip_dual_bound: 0.0\n",
      "        mip_gap: 0.0\n"
     ]
    }
   ],
   "source": [
    "\n",
    "primal = linprog((-1)*c,A_ub = A,b_ub = b)\n",
    "\n",
    "dual = linprog(b,A_ub = (-1)*A.T,b_ub = (-1)*c)\n",
    "\n",
    "print(\"** primal:\\n\",primal,\"\\n\\n-----------\\n\\n\")\n",
    "print(\"** dual:\\n\",dual)"
   ]
  },
  {
   "cell_type": "markdown",
   "metadata": {},
   "source": [
    "So ``scipy`` confirms that an optimal solution  to the primal linear system is\n",
    "\n",
    "`primal.x = [ 2.000e+01  8.000e+01]`; i.e.\n",
    "\n",
    "$$\\mathbf{x}^* = \\begin{bmatrix} C \\\\ R \\end{bmatrix} = \\begin{bmatrix} 20 \\\\ 80 \\end{bmatrix}$$\n",
    "\n",
    "Note that $\\mathbf{c} \\cdot \\begin{bmatrix} 20 \\\\ 80 \\end{bmatrix} = \\$502,000$\n",
    "\n",
    "And an optimal solution to the dual linear system is\n",
    "\n",
    "`dual.x = [ 1.000e+00  0.000e+00  4.900e+03]`; i.e.\n",
    "$$\\mathbf{y}^* = \\begin{bmatrix} y_c \\\\ y_b \\\\ y_l \\end{bmatrix} = \\begin{bmatrix} 1 \\\\ 0 \\\\4900\\end{bmatrix}$$\n",
    "\n",
    "------\n",
    "\n",
    "Let's try to understand what the *slack vectors* are telling us.\n",
    "\n",
    "Let's compute\n",
    "$$(\\mathbf{b} - A\\mathbf{x}^*) \\quad \\text{and} \\quad ((\\mathbf{y}^*)^TA - \\mathbf{c})$$\n"
   ]
  },
  {
   "cell_type": "code",
   "execution_count": 45,
   "metadata": {},
   "outputs": [
    {
     "name": "stdout",
     "output_type": "stream",
     "text": [
      "primal slack agrees? [ True  True  True]\n",
      "dual slack agrees? [ True  True]\n",
      "[   0. 2400.    0.]\n",
      "[0. 0.]\n"
     ]
    }
   ],
   "source": [
    "xstar = primal.x    # we get the vector from the .x member of the \n",
    "                    # class returned by linprog\n",
    "    \n",
    "ystar = dual.x\n",
    "\n",
    "slack_primal = b - A @ xstar\n",
    "slack_dual = ystar @ A - c\n",
    "\n",
    "# Note that you can actually get the clack vectors from the result given by `linprog`\n",
    "print(\"primal slack agrees?\", slack_primal == primal.slack)\n",
    "print(\"dual slack agrees?\", slack_dual == dual.slack)\n",
    "print(slack_primal)\n",
    "print(slack_dual)\n"
   ]
  },
  {
   "cell_type": "markdown",
   "metadata": {},
   "source": [
    "We focus on \n",
    "`slack_primal = b - A @ xstar = [   0. 2400.    0.]`; i.e.\n",
    "$$(\\mathbf{b} - A\\mathbf{x}^*) \\approx \\begin{bmatrix} 0 \\\\ 2400 \\\\ 0 \\end{bmatrix}$$\n",
    "\n",
    "First, this confirms (at least part of) the complementary slackness result; indeed,\n",
    "$$(\\mathbf{b} - A\\mathbf{x}^*)^T \\cdot \\mathbf{y}^* =  \\begin{bmatrix}\n",
    "0 & 2400 & 0\\end{bmatrix} \\cdot \\begin{bmatrix} 1 \\\\ 0 \\\\ 4900 \\end{bmatrix} = 0.$$\n",
    "\n",
    "\n"
   ]
  },
  {
   "cell_type": "code",
   "execution_count": 46,
   "metadata": {},
   "outputs": [
    {
     "data": {
      "text/plain": [
       "0.0"
      ]
     },
     "execution_count": 46,
     "metadata": {},
     "output_type": "execute_result"
    }
   ],
   "source": [
    "slack_primal @ ystar"
   ]
  },
  {
   "cell_type": "markdown",
   "metadata": {},
   "source": [
    "We can easily check the other assertion; i.e. `slack_dual @ xstar == 0`.\n",
    "\n",
    "(But in this case, this is an easy assertion as `slack_dual` is the zero vector.) "
   ]
  },
  {
   "cell_type": "markdown",
   "metadata": {},
   "source": [
    "\n",
    "In general, *one says that the constraints -- or the dual variables -- corresponding to zero entries of the slack vector are binding*. \n",
    "\n",
    "In this case, the first and second entries of the slack variable $\\mathbf{b} - A\\mathbf{x}^*$ are zero, and hence the \"lots\" and \"carpentry\" constraints are binding; the resulting dual prices are 4900 for lots and 1 for carpentry.\n",
    "But we have an oversupply of available bricklaying, and thus the dual price for bricklaying is 0.\n",
    "\n",
    "As some heuristic evidence for why we see the result we do, note that in our model, Cape Cod houses are more profitable, but require more carpentry.\n",
    "\n",
    "\n",
    "\n"
   ]
  },
  {
   "cell_type": "markdown",
   "metadata": {},
   "source": [
    "\n",
    "Understanding the dual prices\n",
    "=============================\n",
    "Let's try to understand the meanining of the dual prices in this case.\n",
    "The *dual price lemma* -- see the slide below -- shows that -- roughly speaking -- the dual price\n",
    "predicts the change in the objective function if the right-hand side of the constraint inequality changes by 1.\n",
    "\n",
    "Imagine that the owner of 15 lots adjacent to the development describe above offers to sell them for \\\\$60,000 total. Should you buy them?\n",
    "\n",
    "Well, this amounts to changing the inequality $C+R \\le 100$ to $C+R \\le 115$.\n",
    "Since the dual price of lots is \\\\$4900, we predict a gain in profit of\n",
    "\\\\$ $4900 \\times 15$. For total price \\\\$60,000 for the 15 lots amounts to a per-lot price of \\\\$4000 per lot.\n",
    "\n",
    "So, if the prediction is correct, we would make a profit of \\\\$900 per lot!\n",
    "\n",
    "Re-reading the fine print on the lemma below, however, we actually see that it isn't quite true \"on the nose\" that changes in the constraint values cause the objective function to increases by the corresponding multiple of the dual price -- in fact, that increase is only an \"upper bound\" (however, see the remark below the lemma for some justification for why it is not an unreasonable estimate to use).\n",
    "\n",
    "In fact, re-running the linear program after replacing the inequality constraint by $C+R \\le 115$, \n",
    "our profits increase from \\\\$502,000 to \\\\$563,895\n",
    "i.e. by roughly \\\\$62,000. After we spend the \\\\$60,000 on the new lots,\n",
    "we only net \\\\$2,000. So we make considerably less than the estimated \n",
    "\\\\$ $900 \\times 15 = 13,500$.\n"
   ]
  },
  {
   "cell_type": "code",
   "execution_count": 53,
   "metadata": {},
   "outputs": [
    {
     "data": {
      "text/plain": [
       "        message: Optimization terminated successfully. (HiGHS Status 7: Optimal)\n",
       "        success: True\n",
       "         status: 0\n",
       "            fun: -563894.7368421053\n",
       "              x: [ 7.368e+00  1.053e+02]\n",
       "            nit: 3\n",
       "          lower:  residual: [ 7.368e+00  1.053e+02]\n",
       "                 marginals: [ 0.000e+00  0.000e+00]\n",
       "          upper:  residual: [       inf        inf]\n",
       "                 marginals: [ 0.000e+00  0.000e+00]\n",
       "          eqlin:  residual: []\n",
       "                 marginals: []\n",
       "        ineqlin:  residual: [ 0.000e+00  0.000e+00  2.368e+00]\n",
       "                 marginals: [-1.905e+01 -2.579e+01 -0.000e+00]\n",
       " mip_node_count: 0\n",
       " mip_dual_bound: 0.0\n",
       "        mip_gap: 0.0"
      ]
     },
     "execution_count": 53,
     "metadata": {},
     "output_type": "execute_result"
    }
   ],
   "source": [
    "def key_index(k,dict):\n",
    "    keys = list(dict.keys())\n",
    "    return keys.index(k)\n",
    "\n",
    "def key_sbv(k,dict):\n",
    "    return sbv(key_index(k,dict),len(list(dict.keys())))\n",
    "\n",
    "def sbv(index,size):\n",
    "    return np.array([1.0 if i == index else 0.0 for i in range(size)])\n",
    "\n",
    "\n",
    "bprime = b + 15*key_sbv('lots',resources_avail)\n",
    "\n",
    "primal_tweaked = linprog((-1)*c,A_ub = A,b_ub = bprime)\n",
    "\n",
    "primal_tweaked"
   ]
  },
  {
   "cell_type": "markdown",
   "metadata": {},
   "source": [
    "As a final comment, one can recompute the slack vector for the \"new\" linear program (with $C+R \\le 115$) - one now finds no slack at all in either of the labor contraints (so they are both *binding*), but there is now slack in the *lot* constraint, which reflects an \"oversupply\" of lots."
   ]
  },
  {
   "cell_type": "code",
   "execution_count": 54,
   "metadata": {},
   "outputs": [
    {
     "data": {
      "text/plain": [
       "array([0.        , 0.        , 2.36842105])"
      ]
     },
     "execution_count": 54,
     "metadata": {},
     "output_type": "execute_result"
    }
   ],
   "source": [
    "primal_tweaked.slack"
   ]
  },
  {
   "cell_type": "markdown",
   "metadata": {},
   "source": [
    "Dual price lemma\n",
    "----------------\n",
    "\n",
    "Let's consider again a linear program $\\mathcal{L}$ in standard form given by data $(\\mathbf{c},A,\\mathbf{b})$.\n",
    "\n",
    "Let $\\Delta \\mathbf{b} \\in \\mathbb{R}^r$ be a small perturbation of $\\mathbf{b} \\in \\mathbb{R}^r$.\n",
    "\n",
    "**Lemma:** Suppose that $\\mathbf{x}^*$ is an optimal solution to the linear program $\\mathcal{L}$ and that $\\mathbf{x}'$ is an optimal solution to the linear program\n",
    "$\\mathcal{L}_\\Delta$ given by the data $(\\mathbf{c},A,\\mathbf{b} + \\Delta \\mathbf{b})$.\n",
    "Then \n",
    "\n",
    "$$\\mathbf{c} \\cdot \\mathbf{x'} \\le \\mathbf{c} \\cdot \\mathbf{x}^* + \\Delta \\mathbf{b}^T \\cdot \\mathbf{y}^*$$\n",
    "\n",
    "where $\\mathbf{y}^*$ is an optimal solution to the dual linear system $\\mathcal{L}'$.\n",
    "\n",
    "\n",
    "**Remark** One can actually prove equality in the lemma provided that\n",
    "the perturbation $\\Delta \\mathbf{b}$ vector is \"small enough\".\n",
    "\n",
    "**Proof of Lemma:**\n",
    "\n",
    "Note that the constraints of the unaltered dual $\\mathcal{L}'$ are the same as those of the altered dual $\\mathcal{L}_a'$. Thus, an optimal solution $\\mathbf{y}^*$ for $\\mathcal{L}'$ is at least feasible for $\\mathcal{L}_a'$.\n",
    "\n",
    "So we may apply the weak duality theorem to see that\n",
    "\n",
    "$$(*) \\quad \\mathbf{c} \\cdot \\mathbf{x}' \\le (\\mathbf{b} + \\Delta \\mathbf{b})^T \\cdot \\mathbf{y}^*\n",
    "= \\mathbf{b}^T \\cdot \\mathbf{y}^* + \\Delta \\mathbf{b}^T \\cdot \\mathbf{y}^*.$$\n",
    "\n",
    "However, by strong duality of the unaltered linear programs, we have\n",
    "$$\\mathbf{c} \\cdot \\mathbf{x}^* = \\mathbf{b}^T \\cdot \\mathbf{y}^*;$$\n",
    "substituting in $(*)$ we find\n",
    "$$ \\mathbf{c} \\cdot \\mathbf{x}' \\le \\mathbf{c} \\cdot \\mathbf{x}^* + \\Delta \\mathbf{b}^T \\cdot \\mathbf{y}^*$$ \n",
    "as required.\n",
    "**QED**"
   ]
  }
 ],
 "metadata": {
  "jupytext": {
   "formats": "ipynb,md"
  },
  "kernelspec": {
   "display_name": "Python 3 (ipykernel)",
   "language": "python",
   "name": "python3"
  },
  "language_info": {
   "codemirror_mode": {
    "name": "ipython",
    "version": 3
   },
   "file_extension": ".py",
   "mimetype": "text/x-python",
   "name": "python",
   "nbconvert_exporter": "python",
   "pygments_lexer": "ipython3",
   "version": "3.11.6"
  }
 },
 "nbformat": 4,
 "nbformat_minor": 4
}
