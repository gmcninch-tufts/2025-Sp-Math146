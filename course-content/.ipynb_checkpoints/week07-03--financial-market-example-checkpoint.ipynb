{
 "cells": [
  {
   "cell_type": "markdown",
   "metadata": {},
   "source": [
    "Math087 - Mathematical Modeling\n",
    "===============================\n",
    "[Tufts University](http://www.tufts.edu) -- [Department of Math](http://math.tufts.edu)  \n",
    "[George McNinch](http://gmcninch.math.tufts.edu) <george.mcninch@tufts.edu>  \n",
    "*Fall 2020*\n",
    "\n",
    "Course material (Week 7): Example: financial markets\n",
    "--------------------------------------------------------"
   ]
  },
  {
   "cell_type": "markdown",
   "metadata": {},
   "source": [
    "Financial market example\n",
    "=========================\n",
    "\n",
    "Consider the state of a financial market from week to week. \n",
    "\n",
    "- by a *bull market* we mean a week of generally rising prices. \n",
    "- by a *bear market* we mean a week of generally declining prices.\n",
    "- by a *recession* we mean a general slowdown of the economy.\n",
    "\n",
    "Empirical observation shows for each of these three states what the probability of the state for the subsequent week, as follows:\n",
    "\n",
    "|                  | *bull*   | *bear*   | *recession*| \n",
    "| :--------------- | -------: | -------: | ---------: |\n",
    "|     followed by bull         | 0.90     | 0.15     | 0.25      |\n",
    "|     followed by bear         | 0.075    | 0.80     | 0.25       |\n",
    "|     followed by recession    | 0.025    | 0.05     | 0.50       |\n",
    "\n",
    "In words, the first col indicates that if one has a bull market, then 90% of the time the next week is a bull market, 7.5% of the time the next week is a bear market, and 2.5% of the time the next week is in recession."
   ]
  },
  {
   "cell_type": "markdown",
   "metadata": {},
   "source": [
    "Probabilities\n",
    "-------------\n",
    "\n",
    "Let's number the weeks we are going to consider $k=0,1,2,...$.\n",
    "We can represent the probability that week $k$ is a bull market, a bear market, or in recession using a vector in $\\mathbb{R}^3$:\n",
    "\n",
    "$$\\mathbf{x}^{(k)} = \\begin{bmatrix}\n",
    "\\text{bull market prob.} \\\\\n",
    "\\text{bear market prob.} \\\\\n",
    "\\text{recession prob.}\n",
    "\\end{bmatrix}\n",
    "=\\begin{bmatrix}\n",
    "\\alpha_k \\\\\n",
    "\\beta_k \\\\\n",
    "\\gamma_k\n",
    "\\end{bmatrix}$$\n",
    "\n",
    "We'd like to describe the probabilities describing the next week -- i.e. the vector $\\mathbf{x}^{(k+1)}$.\n",
    "\n",
    "Observe that if we *knew for sure* that week $k$ was a bear market, then $\\mathbf{x}^{(k)} = \\mathbf{e}_1 = \n",
    "\\begin{bmatrix} \n",
    "1 \\\\ 0 \\\\ 0 \n",
    "\\end{bmatrix}$.\n",
    "But then we have more-or-less been told what $\\mathbf{x}^{(k+1)}$ is -- it must be \n",
    "$$\\mathbf{x}^{(k+1)} = \\begin{bmatrix}\n",
    "0.90\\\\\n",
    "0.075 \\\\\n",
    "0.025\n",
    "\\end{bmatrix}.$$\n",
    "\n",
    "In the general case, we see if $\\mathbf{x}^{(k)} = \\begin{bmatrix}\n",
    "\\alpha_k \\\\\n",
    "\\beta_k \\\\\n",
    "\\gamma_k\n",
    "\\end{bmatrix}$, then\n",
    "$$\\mathbf{x}^{(k+1)} = \\alpha_k \\begin{bmatrix}\n",
    "0.90\\\\\n",
    "0.075 \\\\\n",
    "0.025\n",
    "\\end{bmatrix} + \n",
    "\\beta_k \\begin{bmatrix}\n",
    "0.15\\\\\n",
    "0.8 \\\\\n",
    "0.05\n",
    "\\end{bmatrix} +\n",
    "\\gamma_k \\begin{bmatrix}\n",
    "0.25\\\\\n",
    "0.25 \\\\\n",
    "0.5\n",
    "\\end{bmatrix} = A \\cdot \\begin{bmatrix} \\alpha_k \\\\ \\beta_k \\\\ \\gamma_k \\end{bmatrix} = A \\cdot \\mathbf{x}^{(k)}$$\n",
    "where\n",
    "$$A = \\begin{bmatrix}\n",
    "0.90 & 0.15 & 0.25 \\\\\n",
    "0.075 & 0.80  & 0.25  \\\\\n",
    ".025 & 0.05  & 0.50 \n",
    "\\end{bmatrix}$$"
   ]
  },
  {
   "cell_type": "markdown",
   "metadata": {},
   "source": [
    "We want to enter $A$ as a matrix in ``python``, and use ``numpy`` functions \n",
    "to study the iterations.\n",
    "\n",
    "Of course, with just three states this is fairly straightforward -- one just gets a $3 \\times 3$ matrix. But with more variables, it might be nice to be more systematic. So I wanted to describe a way of using ``dictionaries`` in ``python`` to index the probabilities.\n",
    "\n",
    "The idea is to make a list of the possible states; in this case\n",
    "\n",
    "```\n",
    "states = [\"bull\",\"bear\",\"recess\"]\n",
    "```\n",
    "\n",
    "and to use these states as the row/column index for the information in the resulting matrix.\n",
    "\n",
    "So we just enter the matrix:\n",
    "\n",
    "```\n",
    "A = np.array([[0.90 , 0.15 , 0.25],\n",
    "              [0.075, 0.80 , 0.25],\n",
    "              [0.025, 0.05 , 0.50]])\n",
    "```\n",
    "\n",
    "and build the dictionary ``dict`` using the information in ``A``.\n",
    "\n",
    "Note e.g. that if you wanted the entry in A corresponding to \"bull then bear\", you could do\n",
    "\n",
    "``A[1,2]``\n",
    "\n",
    "or\n",
    "\n",
    "``A[states.index(\"bull\"),states.index(\"bear\")]``\n"
   ]
  },
  {
   "cell_type": "code",
   "execution_count": null,
   "metadata": {},
   "outputs": [],
   "source": [
    "import numpy as np\n",
    "\n",
    "A = np.array([[0.90 , 0.15 , 0.25],\n",
    "              [0.075, 0.80 , 0.25],\n",
    "              [0.025, 0.05 , 0.50]])\n",
    "\n",
    "states = [\"bull\",\"bear\",\"recess\"]\n",
    "\n",
    "A[states.index(\"bull\"),states.index(\"bear\")]"
   ]
  },
  {
   "cell_type": "markdown",
   "metadata": {},
   "source": [
    "Of cours, writing\n",
    "\n",
    "``A[states.index(\"bull\"),states.index(\"bear\")]``\n",
    "\n",
    "is a bit clunky...\n",
    "\n",
    "So let's create the dictionary I mentioned. A dictionary\n",
    "is a collection of ``key/value`` pairs.\n",
    "\n",
    "The *keys* to our dictionary will be pairs (\"tuples\")\n",
    "\n",
    "``(a,b)`` where ``a,b`` are members of the list ``states``.\n",
    "\n",
    "And the value associated to ``(a,b)`` will be the probability that state ``b`` follows state ``a``.\n",
    "\n",
    "The dictionary will be named ``prob``, and we'll be able to the probability\n",
    "that a bull market follows  a recession as follows:\n",
    "\n",
    "``prob[(\"recess\",\"bull\")]``\n",
    "\n",
    "To define ``dict``, we'll use:\n",
    "\n",
    "```\n",
    "{(a,b):A[states.index(a)][states.index(b)] for (a,b) in product(states,states)}\n",
    "```"
   ]
  },
  {
   "cell_type": "code",
   "execution_count": null,
   "metadata": {},
   "outputs": [],
   "source": [
    "from itertools import product\n",
    "\n",
    "prob = {(a,b):A[states.index(a)][states.index(b)] for (a,b) in product(states,states)}\n",
    "\n",
    "prob\n"
   ]
  },
  {
   "cell_type": "code",
   "execution_count": null,
   "metadata": {},
   "outputs": [],
   "source": [
    "print(\"\\n\".join([f\"week of {a:6} ---> week of {b:6}: {prob[(a,b)]}\" for (a,b) in prob.keys()]))"
   ]
  },
  {
   "cell_type": "code",
   "execution_count": null,
   "metadata": {},
   "outputs": [],
   "source": [
    "from graphviz import Digraph\n",
    "\n",
    "fin = Digraph(\"financial\")\n",
    "\n",
    "## make the nodes\n",
    "for a in states:\n",
    "    fin.node(a)\n",
    "\n",
    "## make and label the edges\n",
    "for a,b in prob.keys():\n",
    "    fin.edge(a,b,f\"{prob[(a,b)]}\")\n",
    "\n",
    "\n",
    "fin"
   ]
  },
  {
   "cell_type": "code",
   "execution_count": null,
   "metadata": {},
   "outputs": [],
   "source": [
    "def sbv(index,size):\n",
    "    return np.array([1.0 if i == index-1 else 0.0 for i in range(size)])\n",
    "\n",
    "state_vector = {\"bull\":sbv(1,3),\n",
    "                \"bear\":sbv(2,3),\n",
    "                \"recess\":sbv(3,3)}\n",
    "\n",
    "def state(bull=0,bear=0,recess=0):\n",
    "    if np.abs(1 - (bull + bear + recess)) < 1e-7:\n",
    "        return sum([bull*state_vector[\"bull\"],\n",
    "                    bear*state_vector[\"bear\"],\n",
    "                    recess*state_vector[\"recess\"]],\n",
    "                    np.zeros(3))\n",
    "    else:\n",
    "        raise Exception(\"Probabilities must add to 1\")\n",
    "        \n",
    "[A @ state_vector[\"bull\"],\n",
    " A @ state(bull=1),\n",
    " A @ state(bull=.5,bear=.5)]"
   ]
  },
  {
   "cell_type": "markdown",
   "metadata": {},
   "source": [
    "**Q1**\n",
    "======\n",
    "\n",
    "If there is a bear market in week $k$, what probabilities describe the market state 3 weeks later (i.e. in week $k+3$)?"
   ]
  },
  {
   "cell_type": "code",
   "execution_count": null,
   "metadata": {},
   "outputs": [],
   "source": [
    "## we'll need to use the ``matrix_power`` function\n",
    "\n",
    "from numpy.linalg import matrix_power\n"
   ]
  },
  {
   "cell_type": "markdown",
   "metadata": {},
   "source": [
    "**Q2**\n",
    "------\n",
    "\n",
    "Suppose that in we knew that there was a 50% chance of a recession and a 50% chance of a bear market.\n",
    "What probabilities describe the market state 5 weeks later?"
   ]
  },
  {
   "cell_type": "markdown",
   "metadata": {},
   "source": [
    "**Q3**\n",
    "=======\n",
    "\n",
    "Compute A^50. What do you observe? What about A^100?\n",
    "\n",
    "Explain what seems to happen to the vector $A^j \\cdot \\mathbf{x}^{(0)}$ for large $j$.\n"
   ]
  },
  {
   "cell_type": "code",
   "execution_count": null,
   "metadata": {},
   "outputs": [],
   "source": [
    "matrix_power(A,50)"
   ]
  },
  {
   "cell_type": "markdown",
   "metadata": {},
   "source": [
    "**Q4**\n",
    "======\n",
    "In the long run, what do you think the probability of a bull market is? Does this probability depend on the starting state of the market?"
   ]
  }
 ],
 "metadata": {
  "kernelspec": {
   "display_name": "Python 3 (ipykernel)",
   "language": "python",
   "name": "python3"
  },
  "language_info": {
   "codemirror_mode": {
    "name": "ipython",
    "version": 3
   },
   "file_extension": ".py",
   "mimetype": "text/x-python",
   "name": "python",
   "nbconvert_exporter": "python",
   "pygments_lexer": "ipython3",
   "version": "3.11.6"
  }
 },
 "nbformat": 4,
 "nbformat_minor": 4
}
