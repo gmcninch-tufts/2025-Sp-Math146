{
 "cells": [
  {
   "cell_type": "markdown",
   "id": "d9270742-70a5-45c0-9bba-a49858b01e54",
   "metadata": {},
   "source": [
    "# Extensions of $\\mathbf{F}_{19}$\n",
    "\n",
    "Let's create a field of order `19^2`"
   ]
  },
  {
   "cell_type": "code",
   "execution_count": 1,
   "id": "65a6c50a-6866-4e55-b13d-d5367fbb2124",
   "metadata": {},
   "outputs": [
    {
     "data": {
      "text/plain": [
       "x^2 + 18*x + 2"
      ]
     },
     "execution_count": 1,
     "metadata": {},
     "output_type": "execute_result"
    }
   ],
   "source": [
    "H.<a>=FiniteField(19^2)\n",
    "a.minpoly()"
   ]
  },
  {
   "cell_type": "code",
   "execution_count": 2,
   "id": "311b0868-e6ed-4c9c-b6b8-e32e5da58d3b",
   "metadata": {},
   "outputs": [
    {
     "data": {
      "text/plain": [
       "361"
      ]
     },
     "execution_count": 2,
     "metadata": {},
     "output_type": "execute_result"
    }
   ],
   "source": [
    "H.order()"
   ]
  },
  {
   "cell_type": "markdown",
   "id": "6a7ef908-1adf-4598-968a-9996d7f9866c",
   "metadata": {},
   "source": [
    "And now a field of order `19^6`"
   ]
  },
  {
   "cell_type": "code",
   "execution_count": 3,
   "id": "ce60e91c-1406-4c43-916c-e5597067d310",
   "metadata": {},
   "outputs": [
    {
     "data": {
      "text/plain": [
       "x^6 + 17*x^3 + 17*x^2 + 6*x + 2"
      ]
     },
     "execution_count": 3,
     "metadata": {},
     "output_type": "execute_result"
    }
   ],
   "source": [
    "G.<z>=FiniteField(19^6)\n",
    "z.minpoly()"
   ]
  },
  {
   "cell_type": "code",
   "execution_count": 4,
   "id": "e5c522ef-8990-43c2-9204-9525fbd2afda",
   "metadata": {},
   "outputs": [
    {
     "data": {
      "text/plain": [
       "47045881"
      ]
     },
     "execution_count": 4,
     "metadata": {},
     "output_type": "execute_result"
    }
   ],
   "source": [
    "G.order() "
   ]
  },
  {
   "cell_type": "code",
   "execution_count": 5,
   "id": "aed4515a-25bc-4a92-b6e3-9b9784c47e87",
   "metadata": {},
   "outputs": [
    {
     "data": {
      "text/plain": [
       "[(Finite Field of size 19,\n",
       "  Ring morphism:\n",
       "    From: Finite Field of size 19\n",
       "    To:   Finite Field in z of size 19^6\n",
       "    Defn: 1 |--> 1),\n",
       " (Finite Field in z2 of size 19^2,\n",
       "  Ring morphism:\n",
       "    From: Finite Field in z2 of size 19^2\n",
       "    To:   Finite Field in z of size 19^6\n",
       "    Defn: z2 |--> 18*z^5 + 9*z^4 + 5*z^3 + 2*z^2 + 12*z + 7),\n",
       " (Finite Field in z3 of size 19^3,\n",
       "  Ring morphism:\n",
       "    From: Finite Field in z3 of size 19^3\n",
       "    To:   Finite Field in z of size 19^6\n",
       "    Defn: z3 |--> 13*z^5 + 10*z^4 + 2*z^3 + 15*z^2 + 7*z + 18),\n",
       " (Finite Field in z of size 19^6,\n",
       "  Identity endomorphism of Finite Field in z of size 19^6)]"
      ]
     },
     "execution_count": 5,
     "metadata": {},
     "output_type": "execute_result"
    }
   ],
   "source": [
    "G.subfields()"
   ]
  },
  {
   "cell_type": "code",
   "execution_count": 6,
   "id": "5a35ddc0-1594-455a-9117-c620369041ff",
   "metadata": {},
   "outputs": [
    {
     "data": {
      "text/plain": [
       "9"
      ]
     },
     "execution_count": 6,
     "metadata": {},
     "output_type": "execute_result"
    }
   ],
   "source": [
    "F.<a>=FiniteField(19)\n",
    "squares = [ x^2 for x in F]\n",
    "nonSquares = [x for x in F if not(x in squares)]\n",
    "len(nonSquares)"
   ]
  },
  {
   "cell_type": "code",
   "execution_count": 7,
   "id": "d61169fb-5262-4571-a954-f574969c73f9",
   "metadata": {},
   "outputs": [
    {
     "data": {
      "text/plain": [
       "[2, 3, 8, 10, 12, 13, 14, 15, 18]"
      ]
     },
     "execution_count": 7,
     "metadata": {},
     "output_type": "execute_result"
    }
   ],
   "source": [
    "nonSquares"
   ]
  },
  {
   "cell_type": "code",
   "execution_count": 8,
   "id": "fdd78d13-a7b9-4193-9cca-71e2420f6ef0",
   "metadata": {},
   "outputs": [
    {
     "data": {
      "text/plain": [
       "[a, 18*a]"
      ]
     },
     "execution_count": 8,
     "metadata": {},
     "output_type": "execute_result"
    }
   ],
   "source": [
    "F= FiniteField(19)\n",
    "R.<T>=PolynomialRing(F)\n",
    "E.<a> = F.extension(T^2 - 2)\n",
    "\n",
    "# here are the roots of T^2 - 2 in E:\n",
    "\n",
    "[x for x in E if x^2==2]"
   ]
  },
  {
   "cell_type": "markdown",
   "id": "45c72953-cd8e-4305-8e2b-c9b3dcc9b7d2",
   "metadata": {},
   "source": [
    "Of course, $E = F(\\sqrt{2})$ contains roots of $T^2 - a$ for all $a \\in \\mathbf{F}_{19}$. For example, it contains $\\sqrt{13}$:"
   ]
  },
  {
   "cell_type": "code",
   "execution_count": 9,
   "id": "1fe5b374-1b4b-409d-b6f6-0bbf0283d1a8",
   "metadata": {},
   "outputs": [
    {
     "data": {
      "text/plain": [
       "[4*a, 15*a]"
      ]
     },
     "execution_count": 9,
     "metadata": {},
     "output_type": "execute_result"
    }
   ],
   "source": [
    "[x for x in E if x^2==13]"
   ]
  },
  {
   "cell_type": "markdown",
   "id": "062c8737-3f68-4817-993e-3dc31e6a7e47",
   "metadata": {},
   "source": [
    "Moreover $E = F(\\sqrt{2})$ contains roots of the minimal polynomial defining the extension $H$ above:"
   ]
  },
  {
   "cell_type": "code",
   "execution_count": 10,
   "id": "40a4fcd3-b9da-4ae4-9b11-1591316052d4",
   "metadata": {},
   "outputs": [
    {
     "data": {
      "text/plain": [
       "[12*a + 10, 7*a + 10]"
      ]
     },
     "execution_count": 10,
     "metadata": {},
     "output_type": "execute_result"
    }
   ],
   "source": [
    "# here are the roots of T^2 + 18*T + 2 in E:\n",
    "\n",
    "[x for x in E if x^2 + 18*x + 2 == 0 ]"
   ]
  },
  {
   "cell_type": "markdown",
   "id": "121bae18-b9bb-46bf-9555-a1d36a7208ec",
   "metadata": {},
   "source": [
    "We can get a full list of *monic*, *irreducible* quadratic polynomials in $\\mathbf{F}_{19}[T]$."
   ]
  },
  {
   "cell_type": "code",
   "execution_count": 11,
   "id": "41b82153-f7c6-4f1d-b617-10de5ca3ff3d",
   "metadata": {},
   "outputs": [
    {
     "data": {
      "text/plain": [
       "171"
      ]
     },
     "execution_count": 11,
     "metadata": {},
     "output_type": "execute_result"
    }
   ],
   "source": [
    "irred = [T^2 + a*T + b for a in F for b in F if (T^2+a*T+b).is_irreducible()]\n",
    "len(irred)"
   ]
  },
  {
   "cell_type": "markdown",
   "id": "8f0a9445-01f3-48d5-a212-2c0efff2f817",
   "metadata": {},
   "source": [
    "Here are the first few of those irreducible polynomials:"
   ]
  },
  {
   "cell_type": "code",
   "execution_count": 12,
   "id": "c01a0f3b-db34-4a74-9efc-cd78ddd1b22e",
   "metadata": {},
   "outputs": [
    {
     "data": {
      "text/plain": [
       "[T^2 + 1,\n",
       " T^2 + 4,\n",
       " T^2 + 5,\n",
       " T^2 + 6,\n",
       " T^2 + 7,\n",
       " T^2 + 9,\n",
       " T^2 + 11,\n",
       " T^2 + 16,\n",
       " T^2 + 17,\n",
       " T^2 + T + 2,\n",
       " T^2 + T + 3,\n",
       " T^2 + T + 6,\n",
       " T^2 + T + 9,\n",
       " T^2 + T + 10,\n",
       " T^2 + T + 11,\n",
       " T^2 + T + 12,\n",
       " T^2 + T + 14,\n",
       " T^2 + T + 16,\n",
       " T^2 + 2*T + 2,\n",
       " T^2 + 2*T + 5]"
      ]
     },
     "execution_count": 12,
     "metadata": {},
     "output_type": "execute_result"
    }
   ],
   "source": [
    "irred[0:20]"
   ]
  },
  {
   "cell_type": "markdown",
   "id": "6eb71cb9-574c-419c-97b0-b3fc3e724d36",
   "metadata": {},
   "source": [
    "We can get a list of the roots of a polynomial in $E$:"
   ]
  },
  {
   "cell_type": "code",
   "execution_count": 13,
   "id": "2b226f6b-7e68-4351-b588-c0b436c58a3e",
   "metadata": {},
   "outputs": [
    {
     "data": {
      "text/plain": [
       "{T^2 + 1: [16*a, 3*a],\n",
       " T^2 + 4: [13*a, 6*a],\n",
       " T^2 + 5: [8*a, 11*a],\n",
       " T^2 + 6: [4*a, 15*a],\n",
       " T^2 + 7: [14*a, 5*a],\n",
       " T^2 + 9: [9*a, 10*a],\n",
       " T^2 + 11: [2*a, 17*a],\n",
       " T^2 + 16: [7*a, 12*a],\n",
       " T^2 + 17: [a, 18*a],\n",
       " T^2 + T + 2: [12*a + 9, 7*a + 9],\n",
       " T^2 + T + 3: [a + 9, 18*a + 9],\n",
       " T^2 + T + 6: [3*a + 9, 16*a + 9],\n",
       " T^2 + T + 9: [6*a + 9, 13*a + 9],\n",
       " T^2 + T + 10: [8*a + 9, 11*a + 9],\n",
       " T^2 + T + 11: [15*a + 9, 4*a + 9],\n",
       " T^2 + T + 12: [14*a + 9, 5*a + 9],\n",
       " T^2 + T + 14: [9*a + 9, 10*a + 9],\n",
       " T^2 + T + 16: [2*a + 9, 17*a + 9],\n",
       " T^2 + 2*T + 2: [16*a + 18, 3*a + 18],\n",
       " T^2 + 2*T + 5: [13*a + 18, 6*a + 18]}"
      ]
     },
     "execution_count": 13,
     "metadata": {},
     "output_type": "execute_result"
    }
   ],
   "source": [
    "def pol_roots(f):\n",
    "    return [x for x in E if f(x)==0]\n",
    "\n",
    "{p: pol_roots(p) for  p in irred[:20]}"
   ]
  },
  {
   "cell_type": "markdown",
   "id": "a3508071-ed91-4725-86cf-c32e049fb3ac",
   "metadata": {},
   "source": [
    "In fact, $E$ contains a root of *every* quadratic polynomial having coefficients in $\\mathbf{F}_{19}$, as we can now check:"
   ]
  },
  {
   "cell_type": "code",
   "execution_count": 16,
   "id": "fce4091a-aa53-430f-9abe-f57abd8d2e29",
   "metadata": {},
   "outputs": [
    {
     "data": {
      "text/plain": [
       "True"
      ]
     },
     "execution_count": 16,
     "metadata": {},
     "output_type": "execute_result"
    }
   ],
   "source": [
    "def has_root(f):\n",
    "    return len(pol_roots(f)) > 0\n",
    "\n",
    "# to verify the statement, it is enough\n",
    "# to check that every monic irreducible polynomial has a root.\n",
    "\n",
    "all([ has_root(p) for p in irred])"
   ]
  },
  {
   "cell_type": "markdown",
   "id": "564aef54-c789-48fd-8823-ce11b0883fb0",
   "metadata": {},
   "source": [
    "# Fields of order 4 and 8"
   ]
  },
  {
   "cell_type": "markdown",
   "id": "988ec0be-a53f-4ca3-8e58-5aba2e9bb88c",
   "metadata": {},
   "source": [
    "There are exactly 4 monic polynomials of degree 2 over $\\mathbf{F}_2 = \\mathbf{Z}/2\\mathbf{Z}$. Of these, only one is irreducible:"
   ]
  },
  {
   "cell_type": "code",
   "execution_count": 27,
   "id": "4edeeb39-af55-4968-adba-66844202c1bf",
   "metadata": {},
   "outputs": [
    {
     "data": {
      "text/plain": [
       "[T^2 + T + 1]"
      ]
     },
     "execution_count": 27,
     "metadata": {},
     "output_type": "execute_result"
    }
   ],
   "source": [
    "F2 = FiniteField(2)\n",
    "R2.<T>=PolynomialRing(F2)\n",
    "\n",
    "[ T^2 + a*T + b for a in F2 for b in F2 if (T^2 + a*T + b).is_irreducible() ]"
   ]
  },
  {
   "cell_type": "markdown",
   "id": "739b1e60-4921-4695-a939-489b321c526e",
   "metadata": {},
   "source": [
    "We can see that this irreducible polynomial splits over $\\mathbf{F}_4$. If $c$ is one of the roots, the other root is $c+1$:"
   ]
  },
  {
   "cell_type": "code",
   "execution_count": 34,
   "id": "abeb91b7-1e8f-495b-8341-a9090a94e246",
   "metadata": {},
   "outputs": [
    {
     "data": {
      "text/plain": [
       "[T^2 + T + 1, (T + c) * (T + c + 1)]"
      ]
     },
     "execution_count": 34,
     "metadata": {},
     "output_type": "execute_result"
    }
   ],
   "source": [
    "F4.<c>=FiniteField(4)\n",
    "R4.<T>=PolynomialRing(F4)\n",
    "\n",
    "[c.minpoly(T),\n",
    " R4(T^2 + T +1).factor()] "
   ]
  },
  {
   "cell_type": "markdown",
   "id": "da6f38d9-19f7-45ca-b743-c1fae45f2e9c",
   "metadata": {},
   "source": [
    "There are 8 monic polynomials of degree 3 over $\\mathbf{F}_2$. Of these, two are irreducible:"
   ]
  },
  {
   "cell_type": "code",
   "execution_count": 29,
   "id": "d25b9236-84f2-47d7-bca9-c90cb573ee8f",
   "metadata": {},
   "outputs": [
    {
     "data": {
      "text/plain": [
       "[T^3 + T + 1, T^3 + T^2 + 1]"
      ]
     },
     "execution_count": 29,
     "metadata": {},
     "output_type": "execute_result"
    }
   ],
   "source": [
    "[T^3 + a*T^2 + b*T + c \n",
    " for a in F2\n",
    " for b in F2\n",
    " for c in F2\n",
    " if (T^3+a*T^2+b*T + c).is_irreducible()]"
   ]
  },
  {
   "cell_type": "markdown",
   "id": "31952d42-f4b2-48e0-b6ef-709ad4a55d77",
   "metadata": {},
   "source": [
    "Let's notice that both of the degree 3 irreducibles factor over $\\mathbf{F}_8$."
   ]
  },
  {
   "cell_type": "code",
   "execution_count": 32,
   "id": "f590a3f8-ce10-4913-ada1-03d479a1eda1",
   "metadata": {},
   "outputs": [
    {
     "data": {
      "text/plain": [
       "[T^3 + T + 1,\n",
       " (T + b) * (T + b^2) * (T + b^2 + b),\n",
       " (T + b + 1) * (T + b^2 + 1) * (T + b^2 + b + 1)]"
      ]
     },
     "execution_count": 32,
     "metadata": {},
     "output_type": "execute_result"
    }
   ],
   "source": [
    "F8.<b>=FiniteField(8)\n",
    "R8.<T>=PolynomialRing(F8)\n",
    "\n",
    "[b.minpoly(T),\n",
    " R8(T^3+T+1).factor(),\n",
    " R8(T^3+T^2+1).factor()]\n"
   ]
  },
  {
   "cell_type": "markdown",
   "id": "ae135ce3-94af-4e40-9d11-f1ee18fdba13",
   "metadata": {},
   "source": [
    "Since $8= 2^3$, $\\mathbf{F}_8$ only has 2 subfields."
   ]
  },
  {
   "cell_type": "code",
   "execution_count": 35,
   "id": "97c1cf34-6227-45e8-9b4b-eee7e9f2ebd6",
   "metadata": {},
   "outputs": [
    {
     "data": {
      "text/plain": [
       "[(Finite Field of size 2,\n",
       "  Ring morphism:\n",
       "    From: Finite Field of size 2\n",
       "    To:   Finite Field in b of size 2^3\n",
       "    Defn: 1 |--> 1),\n",
       " (Finite Field in b of size 2^3,\n",
       "  Identity endomorphism of Finite Field in b of size 2^3)]"
      ]
     },
     "execution_count": 35,
     "metadata": {},
     "output_type": "execute_result"
    }
   ],
   "source": [
    "F8.subfields()"
   ]
  },
  {
   "cell_type": "markdown",
   "id": "991a0b57-7dd1-4127-90e8-3516386e4a54",
   "metadata": {},
   "source": [
    "Note that the multiplicative group $\\mathbf{F}_8^\\times$ order $7$, so any non-identity element has multiplicative order 7: "
   ]
  },
  {
   "cell_type": "code",
   "execution_count": 36,
   "id": "0bb9b937-7de2-4dbc-bd56-03cdb9dd89a1",
   "metadata": {},
   "outputs": [
    {
     "data": {
      "text/plain": [
       "{b: 7, b^2: 7, b + 1: 7, b^2 + b: 7, b^2 + b + 1: 7, b^2 + 1: 7, 1: 1}"
      ]
     },
     "execution_count": 36,
     "metadata": {},
     "output_type": "execute_result"
    }
   ],
   "source": [
    "{ x: x.multiplicative_order() for x in F8 if x != 0 }"
   ]
  },
  {
   "cell_type": "markdown",
   "id": "38f62b33-048e-40ac-9fd7-6463c41b0ddc",
   "metadata": {},
   "source": [
    "This becomes more complicated for $\\mathbf{F}_{16}$. Note that the multiplicative group has order $15$ in this case:"
   ]
  },
  {
   "cell_type": "code",
   "execution_count": 39,
   "id": "519fcfc1-70d6-44b9-ad43-047bc913bc37",
   "metadata": {},
   "outputs": [
    {
     "data": {
      "text/plain": [
       "{f: 15,\n",
       " f^2: 15,\n",
       " f^3: 5,\n",
       " f + 1: 15,\n",
       " f^2 + f: 3,\n",
       " f^3 + f^2: 5,\n",
       " f^3 + f + 1: 15,\n",
       " f^2 + 1: 15,\n",
       " f^3 + f: 5,\n",
       " f^2 + f + 1: 3,\n",
       " f^3 + f^2 + f: 15,\n",
       " f^3 + f^2 + f + 1: 5,\n",
       " f^3 + f^2 + 1: 15,\n",
       " f^3 + 1: 15,\n",
       " 1: 1}"
      ]
     },
     "execution_count": 39,
     "metadata": {},
     "output_type": "execute_result"
    }
   ],
   "source": [
    "F16.<f> = FiniteField(16)\n",
    "{ x: x.multiplicative_order() for x in F16 if x != 0 }"
   ]
  },
  {
   "cell_type": "code",
   "execution_count": null,
   "id": "4c4e2783-a10f-4c3d-9ebf-fe5d04a3665b",
   "metadata": {},
   "outputs": [],
   "source": []
  }
 ],
 "metadata": {
  "kernelspec": {
   "display_name": "SageMath 9.5",
   "language": "sage",
   "name": "sagemath"
  },
  "language_info": {
   "codemirror_mode": {
    "name": "ipython",
    "version": 3
   },
   "file_extension": ".py",
   "mimetype": "text/x-python",
   "name": "python",
   "nbconvert_exporter": "python",
   "pygments_lexer": "ipython3",
   "version": "3.11.2"
  }
 },
 "nbformat": 4,
 "nbformat_minor": 5
}
