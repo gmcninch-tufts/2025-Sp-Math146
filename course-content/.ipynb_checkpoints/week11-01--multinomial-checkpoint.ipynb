{
 "cells": [
  {
   "cell_type": "markdown",
   "id": "323203a4-0948-4e11-ac37-d3452220c011",
   "metadata": {},
   "source": [
    "# [George McNinch](http://gmcninch.math.tufts.edu) Math 87 - Spring 2024\n",
    "\n",
    "# Week 11\n",
    "\n",
    "# Multinomial distributions"
   ]
  },
  {
   "cell_type": "markdown",
   "id": "de230db5-a85e-4723-9618-cb0bc124f81d",
   "metadata": {},
   "source": [
    "The *binomial distribution* appears when modeling a sequence of independent events each having exactly two outcomes.\n",
    "One can instead consider analogous questions for events having some fixed number of outcomes `m > 2`. These are known as *multinomial distributions*. \n",
    "\n"
   ]
  },
  {
   "cell_type": "markdown",
   "id": "0c66758c-9fec-458f-b960-310ec8752e7f",
   "metadata": {},
   "source": [
    "# Example\n",
    "\n",
    "Consider a nature preserve which has 3 species -- `A`, `B`, `C` -- of birds.\n",
    "\n",
    "Among the total population of birds in the preserve, `40%` are of species `A`, `35%` are of species `B` and `25%` are of species `C`.\n",
    "\n",
    "Each day you travel through the preserve and record the species of the first 10 birds you see. We assume that our observations are *independent* and that the probability\n",
    "of seeing a bird of a particular species is given by the corresponding proportion of the population."
   ]
  },
  {
   "cell_type": "code",
   "execution_count": 15,
   "id": "008718c5-1465-4874-9117-321462e7fb68",
   "metadata": {},
   "outputs": [
    {
     "data": {
      "text/plain": [
       "[['a', 'a'],\n",
       " ['a', 'b'],\n",
       " ['a', 'c'],\n",
       " ['a', 'd'],\n",
       " ['b', 'a'],\n",
       " ['b', 'b'],\n",
       " ['b', 'c'],\n",
       " ['b', 'd'],\n",
       " ['c', 'a'],\n",
       " ['c', 'b'],\n",
       " ['c', 'c'],\n",
       " ['c', 'd'],\n",
       " ['d', 'a'],\n",
       " ['d', 'b'],\n",
       " ['d', 'c'],\n",
       " ['d', 'd']]"
      ]
     },
     "execution_count": 15,
     "metadata": {},
     "output_type": "execute_result"
    }
   ],
   "source": [
    "import numpy as np\n",
    "import math\n",
    "\n",
    "# lets make a list of all sequences of `a`, `b`, `c` of length n\n",
    "\n",
    "def seqs(symbols,n):\n",
    "    if n == 0: \n",
    "        return [[]]\n",
    "    else:\n",
    "        ls = seqs(symbols,n-1)   # recursively get all the sequences of length n-1\n",
    "        result = [ [s] + l for s in symbols for l in ls]\n",
    "        return result\n",
    "\n",
    "## for example, here are all the sequences  of length 3\n",
    "seqs(['a','b','c','d'],2)\n"
   ]
  },
  {
   "cell_type": "code",
   "execution_count": 4,
   "id": "2268b2f0-052b-41b8-a752-2aa614d343c7",
   "metadata": {},
   "outputs": [
    {
     "data": {
      "text/plain": [
       "2"
      ]
     },
     "execution_count": 4,
     "metadata": {},
     "output_type": "execute_result"
    }
   ],
   "source": [
    "def count(ls,symbol):\n",
    "    # count the number of occurences of `symbol` in the sequence ls\n",
    "    f = [ x for x in ls if x == symbol ]\n",
    "    return len(f)\n",
    "\n",
    "count(['a','a','b'], 'a')"
   ]
  },
  {
   "cell_type": "code",
   "execution_count": 5,
   "id": "eef1f8aa-deb9-4637-ab2e-36a5c62298e1",
   "metadata": {},
   "outputs": [
    {
     "data": {
      "text/plain": [
       "[20, 10]"
      ]
     },
     "execution_count": 5,
     "metadata": {},
     "output_type": "execute_result"
    }
   ],
   "source": [
    "\n",
    "## for an arrangement\n",
    "## { 'a': na, 'b': nb, 'c': nc }\n",
    "## we count the number of sequences of the symbols ['a','b','c']\n",
    "## of length `n = na + nb + nc`\n",
    "## having 'na' occurences of 'a',\n",
    "## 'nb' occurences of 'b'\n",
    "## 'nc' occurences of 'c'\n",
    "\n",
    "def multinomial(arrange):\n",
    "   symbols = arrange.keys()\n",
    "   n = sum([arrange[s] for s in symbols ])\n",
    "   seq = seqs(symbols,n)\n",
    "   results = [ ls for ls in seq if all([count(ls,s) == arrange[s] for s in symbols ])]\n",
    "   return len(results)\n",
    "\n",
    "\n",
    "[ multinomial({'x': 1, 'y': 1, 'z': 3}), multinomial({'x': 3,'y':0,'z':2}) ]"
   ]
  },
  {
   "cell_type": "code",
   "execution_count": 6,
   "id": "e3892dee-1b42-4f6f-ac3d-c8362518074b",
   "metadata": {},
   "outputs": [
    {
     "data": {
      "text/latex": [
       "$\\displaystyle \\operatorname{Poly}{\\left( x^{5} + 5 x^{4}y + 5 x^{4}z + 10 x^{3}y^{2} + 20 x^{3}yz + 10 x^{3}z^{2} + 10 x^{2}y^{3} + 30 x^{2}y^{2}z + 30 x^{2}yz^{2} + 10 x^{2}z^{3} + 5 xy^{4} + 20 xy^{3}z + 30 xy^{2}z^{2} + 20 xyz^{3} + 5 xz^{4} + y^{5} + 5 y^{4}z + 10 y^{3}z^{2} + 10 y^{2}z^{3} + 5 yz^{4} + z^{5}, x, y, z, domain=\\mathbb{Z} \\right)}$"
      ],
      "text/plain": [
       "Poly(x**5 + 5*x**4*y + 5*x**4*z + 10*x**3*y**2 + 20*x**3*y*z + 10*x**3*z**2 + 10*x**2*y**3 + 30*x**2*y**2*z + 30*x**2*y*z**2 + 10*x**2*z**3 + 5*x*y**4 + 20*x*y**3*z + 30*x*y**2*z**2 + 20*x*y*z**3 + 5*x*z**4 + y**5 + 5*y**4*z + 10*y**3*z**2 + 10*y**2*z**3 + 5*y*z**4 + z**5, x, y, z, domain='ZZ')"
      ]
     },
     "execution_count": 6,
     "metadata": {},
     "output_type": "execute_result"
    }
   ],
   "source": [
    "import sympy\n",
    "(x,y,z) = sympy.symbols('x y z')\n",
    "f = sympy.Poly((x + y + z)**5)\n",
    "f"
   ]
  },
  {
   "cell_type": "code",
   "execution_count": 7,
   "id": "6b88f9c6-94bb-45bf-b91a-08038a085900",
   "metadata": {},
   "outputs": [
    {
     "data": {
      "text/plain": [
       "True"
      ]
     },
     "execution_count": 7,
     "metadata": {},
     "output_type": "execute_result"
    }
   ],
   "source": [
    "# the sum of all trinomial coefficients should give 3**n\n",
    "# for example when n = 5\n",
    "\n",
    "sum([multinomial({'a': a, 'b': b, 'c': 5-a-b}) for a in range(5+1) for b in range(0,5-a+1) ]) == 3**5"
   ]
  },
  {
   "cell_type": "markdown",
   "id": "c4c0203d-b0fe-4d8c-a47e-27299a97895e",
   "metadata": {},
   "source": [
    "In fact, there is a *formula* for the `multinomial` coefficients, similar to that for the `binomial` coefficients.\n",
    "\n",
    "For an arrangement `{ 'a': na, 'b', nb, 'c', nc }`, the number of sequences of length `n = na + nb + nc` having\n",
    "exactly `na` 'a's, exactly `nb` b's and exactly `nc` c's is given by\n",
    "\n",
    "$$\\dbinom{n}{na,nb,nc} = \\dfrac{n!}{na!\\cdot nb!\\cdot nc!}$$\n",
    "\n",
    "This is a **closed form** expression for these coefficients.\n",
    "\n",
    "Let's define a python function implementing this *closed form*, and\n",
    "let's check that it agrees with the `python` function we just defined."
   ]
  },
  {
   "cell_type": "code",
   "execution_count": 19,
   "id": "05eec586-ed21-44cd-a83e-3884b27ee707",
   "metadata": {},
   "outputs": [
    {
     "data": {
      "text/plain": [
       "[(20, 20.0), (10, 10.0)]"
      ]
     },
     "execution_count": 19,
     "metadata": {},
     "output_type": "execute_result"
    }
   ],
   "source": [
    "def multinomial_alt(arrange):\n",
    "    n = sum([arrange[s] for s in arrange.keys() ])\n",
    "    den = np.prod([ math.factorial(arrange[s]) for s in arrange.keys()])\n",
    "    return math.factorial(n)/den\n"
   ]
  },
  {
   "cell_type": "code",
   "execution_count": 20,
   "id": "52726681-893a-4426-b09e-7e70114ddfc3",
   "metadata": {},
   "outputs": [
    {
     "data": {
      "text/plain": [
       "[(20, 20.0), (10, 10.0)]"
      ]
     },
     "execution_count": 20,
     "metadata": {},
     "output_type": "execute_result"
    }
   ],
   "source": [
    "\n",
    "[ (multinomial(a), multinomial_alt(a)) for a in [{'x': 1, 'y': 1, 'z': 3}, \n",
    "                                                 {'x': 3, 'y': 0, 'z': 2}] ]"
   ]
  },
  {
   "cell_type": "code",
   "execution_count": 25,
   "id": "434b345f-8fc9-450f-bbd4-78b97d2ca8e2",
   "metadata": {},
   "outputs": [
    {
     "data": {
      "text/plain": [
       "True"
      ]
     },
     "execution_count": 25,
     "metadata": {},
     "output_type": "execute_result"
    }
   ],
   "source": [
    "## again, for m symbols the multinomial coefficients should sum to `m**n`\n",
    "\n",
    "## so for 4 symbols and 5 choices, we should get `4**5`:\n",
    "sum([multinomial_alt({'a': a, 'b': b, 'c': c, 'd': 5-a-b-c}) for a in range(5+1) for b in range(0,5-a+1) for c in range(0,5-a-b+1) ]) == 4**5"
   ]
  },
  {
   "cell_type": "markdown",
   "id": "b4066982-2ff7-4c5c-ba91-eac2c5ee019a",
   "metadata": {},
   "source": [
    "We can now use the `multinomial coefficients` to describe the probabilities for our bird population.\n",
    "\n",
    "Remember that `pa = .40` denotes the probability of seeing a bird of type `a`,\n",
    "`pb = .35` the probabilty of seeing a `b` bird, and `pc = .25` the probability of seeing a `c` bird.\n"
   ]
  },
  {
   "cell_type": "code",
   "execution_count": 21,
   "id": "db34a897-e774-4b49-978e-a33954def69c",
   "metadata": {},
   "outputs": [],
   "source": [
    "bird_probs = {'a': .4, 'b': .35, 'c': .25 }\n",
    "\n",
    "def probArrangement(arrange,bird_probs=bird_probs):\n",
    "    # for a sequence of `n` bird sightings,\n",
    "    # compute the probability of seeing exactly `na` `a`-birds,\n",
    "    # exactly `nb` `b`-birds, and exactly `n - na - nb` `c`-birds\n",
    "    return multinomial_alt(arrange)*np.prod([bird_probs[c]**arrange[c] for c in arrange.keys()])"
   ]
  },
  {
   "cell_type": "code",
   "execution_count": 22,
   "id": "fa4a6585-439f-46d3-b572-a8fb5c21c9fa",
   "metadata": {},
   "outputs": [
    {
     "data": {
      "text/plain": [
       "0.14700000000000002"
      ]
     },
     "execution_count": 22,
     "metadata": {},
     "output_type": "execute_result"
    }
   ],
   "source": [
    "a = { 'a': 2, 'b': 2, 'c': 1 }\n",
    "probArrangement(a)"
   ]
  },
  {
   "cell_type": "code",
   "execution_count": 29,
   "id": "46bf10f7-a098-407e-83e6-e02dcf436c08",
   "metadata": {},
   "outputs": [
    {
     "data": {
      "text/plain": [
       "{(0, 0, 10): 9.5367431640625e-07,\n",
       " (0, 1, 9): 1.33514404296875e-05,\n",
       " (0, 2, 8): 8.411407470703124e-05,\n",
       " (0, 3, 7): 0.0003140258789062499,\n",
       " (0, 4, 6): 0.0007693634033203124,\n",
       " (0, 5, 5): 0.0012925305175781245,\n",
       " (0, 6, 4): 0.001507952270507812,\n",
       " (0, 7, 3): 0.0012063618164062494,\n",
       " (0, 8, 2): 0.0006333399536132809,\n",
       " (0, 9, 1): 0.0001970390966796874,\n",
       " (0, 10, 0): 2.7585473535156234e-05,\n",
       " (1, 0, 9): 1.52587890625e-05,\n",
       " (1, 1, 8): 0.00019226074218749997,\n",
       " (1, 2, 7): 0.0010766601562499998,\n",
       " (1, 3, 6): 0.003517089843749999,\n",
       " (1, 4, 5): 0.007385888671874999,\n",
       " (1, 5, 4): 0.010340244140624998,\n",
       " (1, 6, 3): 0.009650894531249997,\n",
       " (1, 7, 2): 0.005790536718749998,\n",
       " (1, 8, 1): 0.002026687851562499,\n",
       " (1, 9, 0): 0.00031526255468749983,\n",
       " (2, 0, 8): 0.00010986328125000002,\n",
       " (2, 1, 7): 0.0012304687500000002,\n",
       " (2, 2, 6): 0.006029296875000001,\n",
       " (2, 3, 5): 0.01688203125,\n",
       " (2, 4, 4): 0.029543554687499998,\n",
       " (2, 5, 3): 0.03308878125,\n",
       " (2, 6, 2): 0.023162146874999998,\n",
       " (2, 7, 1): 0.009264858749999999,\n",
       " (2, 8, 0): 0.0016213502812499993,\n",
       " (3, 0, 7): 0.0004687500000000001,\n",
       " (3, 1, 6): 0.004593750000000001,\n",
       " (3, 2, 5): 0.019293750000000005,\n",
       " (3, 3, 4): 0.045018749999999996,\n",
       " (3, 4, 3): 0.06302625,\n",
       " (3, 5, 2): 0.05294205,\n",
       " (3, 6, 1): 0.024706289999999995,\n",
       " (3, 7, 0): 0.004941257999999999,\n",
       " (4, 0, 6): 0.0013125000000000003,\n",
       " (4, 1, 5): 0.011025000000000002,\n",
       " (4, 2, 4): 0.038587500000000004,\n",
       " (4, 3, 3): 0.07203,\n",
       " (4, 4, 2): 0.07563149999999999,\n",
       " (4, 5, 1): 0.04235363999999999,\n",
       " (4, 6, 0): 0.009882516,\n",
       " (5, 0, 5): 0.0025200000000000005,\n",
       " (5, 1, 4): 0.017640000000000003,\n",
       " (5, 2, 3): 0.049392000000000005,\n",
       " (5, 3, 2): 0.06914880000000001,\n",
       " (5, 4, 1): 0.04840416,\n",
       " (5, 5, 0): 0.013553164799999998,\n",
       " (6, 0, 4): 0.0033600000000000014,\n",
       " (6, 1, 3): 0.018816000000000006,\n",
       " (6, 2, 2): 0.0395136,\n",
       " (6, 3, 1): 0.03687936000000001,\n",
       " (6, 4, 0): 0.012907776000000003,\n",
       " (7, 0, 3): 0.003072000000000001,\n",
       " (7, 1, 2): 0.012902400000000003,\n",
       " (7, 2, 1): 0.018063360000000004,\n",
       " (7, 3, 0): 0.008429568,\n",
       " (8, 0, 2): 0.001843200000000001,\n",
       " (8, 1, 1): 0.005160960000000003,\n",
       " (8, 2, 0): 0.0036126720000000012,\n",
       " (9, 0, 1): 0.0006553600000000003,\n",
       " (9, 1, 0): 0.0009175040000000004,\n",
       " (10, 0, 0): 0.00010485760000000006}"
      ]
     },
     "execution_count": 29,
     "metadata": {},
     "output_type": "execute_result"
    }
   ],
   "source": [
    "birdprob10 = {(a,b,10-a-b): probArrangement({'a':a,'b':b,'c':10-a-b}) for a in range(10+1) for b in range(10-a+1) }\n",
    "birdprob10"
   ]
  },
  {
   "cell_type": "code",
   "execution_count": 30,
   "id": "0b5824d3-3ec1-4974-af52-f66d9c3bdab3",
   "metadata": {},
   "outputs": [
    {
     "data": {
      "text/plain": [
       "1.0000000000000002"
      ]
     },
     "execution_count": 30,
     "metadata": {},
     "output_type": "execute_result"
    }
   ],
   "source": [
    "# these probabilities should  sum to 1 (!)\n",
    "\n",
    "sum(birdprob10.values())"
   ]
  },
  {
   "cell_type": "code",
   "execution_count": 34,
   "id": "89f263e0-6352-4b17-9d7d-3e7110e6d308",
   "metadata": {},
   "outputs": [
    {
     "data": {
      "text/plain": [
       "[((4, 4, 2), 0.07563149999999999),\n",
       " ((4, 3, 3), 0.07203),\n",
       " ((5, 3, 2), 0.06914880000000001),\n",
       " ((3, 4, 3), 0.06302625),\n",
       " ((3, 5, 2), 0.05294205)]"
      ]
     },
     "execution_count": 34,
     "metadata": {},
     "output_type": "execute_result"
    }
   ],
   "source": [
    "# what is the most likely arrangement??\n",
    "\n",
    "s=[ (k,birdprob10[k]) for k in birdprob10.keys()]\n",
    "s.sort(key=lambda x: -x[1]) \n",
    "\n",
    "## top 5\n",
    "s[:5]"
   ]
  },
  {
   "cell_type": "code",
   "execution_count": 36,
   "id": "f08003be-a598-4b85-a6ba-0197a7d7afb0",
   "metadata": {},
   "outputs": [
    {
     "data": {
      "text/plain": [
       "[((0, 2, 8), 8.411407470703124e-05),\n",
       " ((0, 10, 0), 2.7585473535156234e-05),\n",
       " ((1, 0, 9), 1.52587890625e-05),\n",
       " ((0, 1, 9), 1.33514404296875e-05),\n",
       " ((0, 0, 10), 9.5367431640625e-07)]"
      ]
     },
     "execution_count": 36,
     "metadata": {},
     "output_type": "execute_result"
    }
   ],
   "source": [
    "## bottom 5\n",
    "s[-5:]"
   ]
  },
  {
   "cell_type": "code",
   "execution_count": 39,
   "id": "c000a292-b881-48b5-8c7b-e66bad39fe65",
   "metadata": {},
   "outputs": [
    {
     "data": {
      "text/plain": [
       "0.00010485760000000006"
      ]
     },
     "execution_count": 39,
     "metadata": {},
     "output_type": "execute_result"
    }
   ],
   "source": [
    "# probability of seeing ten `a` birds\n",
    "birdprob10[(10,0,0)]"
   ]
  },
  {
   "cell_type": "code",
   "execution_count": null,
   "id": "0db7bd1e-9ea7-4515-b77e-3cdb02721b4f",
   "metadata": {},
   "outputs": [],
   "source": []
  }
 ],
 "metadata": {
  "kernelspec": {
   "display_name": "Python 3 (ipykernel)",
   "language": "python",
   "name": "python3"
  },
  "language_info": {
   "codemirror_mode": {
    "name": "ipython",
    "version": 3
   },
   "file_extension": ".py",
   "mimetype": "text/x-python",
   "name": "python",
   "nbconvert_exporter": "python",
   "pygments_lexer": "ipython3",
   "version": "3.11.6"
  }
 },
 "nbformat": 4,
 "nbformat_minor": 5
}
